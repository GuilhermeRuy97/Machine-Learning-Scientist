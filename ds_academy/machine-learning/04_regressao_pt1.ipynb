{
  "nbformat": 4,
  "nbformat_minor": 0,
  "metadata": {
    "colab": {
      "provenance": []
    },
    "kernelspec": {
      "name": "python3",
      "display_name": "Python 3"
    },
    "language_info": {
      "name": "python"
    }
  },
  "cells": [
    {
      "cell_type": "markdown",
      "source": [
        "A regressão é comumente utilizada como sendo base para outros modelos.\n",
        "\n",
        "Durante o estudo de regressão, queremos verificar se duas ou mais variáveis estão relacionadas de alguma forma e como elas relacionam (como ela interfere na outra variável). Caso façamos isso entre duas variáveis, falamos da **Regressão Linear Simples** e, caso tenhamos um grupo de variáveis (2 ou +) afetando uma variável, falamos da **Regressão Linear Múltipla**.\n",
        "\n",
        "Um exemplo disso poderia ser o aumento do desmatamento dado uma temperatura (uma temperatura mais alta pode ter relação com o aumento do número de queimadas). Ou seja, uma variável \"queimada\" **depende** de uma variável \"temperatura\" **independente**.\n",
        "\n",
        "No exemplo acima as variáveis se c**orrelacionam de forma positiv**a (queimadas aumentam em temperaturas mais altas). Caso ela fosse **negativa**, as queimadas diminuiriam em temperaturas mais altas.<br>\n",
        "Vale lembrar que também há o caso de **não haver correlação**, neste caso, a temperatura não influenciaria no aumento do número de queimadas.\n",
        "\n",
        "OBS: **Correlação não implica causalidade**.<br>No exemplo dado, para ter certeza da causalidade, precisaríamos fazer uma análise mais profunda, como por exemplo, verificar a região onde aconteceram as queimadas, o grau em que ocorreram, a vegetação, a umidade do ar, chuvas etc. O que poderíamos falar é que dado uma relação matemática, o aumento da temperatura **provavelmente** iria aumentar o número de queimadas, mas não podemos **afirmar**.\n",
        "\n",
        "Outros exemplo de regressão são:\n",
        "- Regressão Linear\n",
        "- Regressão Polinomial\n",
        "- Regressão Logística\n",
        "- Regressão Quantílica\n",
        "- Regressão Ridge\n",
        "- Regressão Lasso\n",
        "- Regressão ElasticNet\n",
        "- Regressão de Componentes Principais\n",
        "- Regressão por Mínimos Quadrados Parciais\n",
        "- Regressão Vetorial de Suporte\n",
        "- Regressão Ordinal\n",
        "- Regressão de Poisson\n",
        "- Regressão Binomail Negativa\n",
        "- Regressão Quasi-Poisson\n",
        "- Regressão de Cox\n",
        "\n",
        "---\n",
        "**Regressão Linear simples**:\n",
        "\n",
        "<img src=\"https://www.alura.com.br/artigos/assets/desvendando-a-regressao-linear/imagem4.png\"><br>\n",
        "Onde:\n",
        "- B0 e B1 são coeficientes aprendidos durante o treinamento do modelo\n",
        "- y = valor a se prever (variável dependente)\n",
        "- x = input (variável independente)\n",
        "- E = erros\n",
        "\n",
        "Para o caso da equação y^ = a + bx,\n",
        "- 'a' é o termo de viés (bias), por ex, o tamanho de um pão francês antes de ser colocado no forno para ser assado.\n",
        "- 'b' é a inclinação da reta da variável (peso atribuído à variavel independente).\n",
        "- Ou seja, 'a' e 'b' são os coeficientes.\n",
        "\n",
        "**Regressão Linear Múltipla**:\n",
        "\n",
        "<img src=\"https://cdn1.gnarususercontent.com.br/1/547588/9dacadd2-9b05-4463-8332-c7371b54f88e.png\"><br>\n",
        "Onde as variáveis seguem a lógica da \"simples\" mas com \"vários X's e Beta's associados\"."
      ],
      "metadata": {
        "id": "8kTPR3NUiGOr"
      }
    },
    {
      "cell_type": "markdown",
      "source": [
        "Fazendo uma Regressão Linear Simples de forma prática em Python:\n",
        "\n",
        "- Prevendo a altura dada uma idade (em meses)\n",
        "\n",
        "`y^ = a + bx`"
      ],
      "metadata": {
        "id": "NXYS_zaS1Ef4"
      }
    },
    {
      "cell_type": "code",
      "source": [
        "# Criando os dados\n",
        "\n",
        "import pandas as pd\n",
        "\n",
        "data = { 'student'    : ['João', 'Ribeiro', 'Evaldo', 'Isaias', 'Jessyca','Anne','Luiz'],    \n",
        "         'age_months' : [0, 20, 25, 50, 75, 90, 100],    \n",
        "         'height_cm'  : [20, 60, 70, 120, 170, 200, 220 ] }\n",
        "\n",
        "df_age_vs_height = pd.DataFrame(data)\n",
        "df_age_vs_height"
      ],
      "metadata": {
        "colab": {
          "base_uri": "https://localhost:8080/",
          "height": 269
        },
        "id": "y299kXV21LR7",
        "outputId": "1f6185f3-ecb5-4d82-a135-5df6956a2476"
      },
      "execution_count": 17,
      "outputs": [
        {
          "output_type": "execute_result",
          "data": {
            "text/plain": [
              "   student  age_months  height_cm\n",
              "0     João           0         20\n",
              "1  Ribeiro          20         60\n",
              "2   Evaldo          25         70\n",
              "3   Isaias          50        120\n",
              "4  Jessyca          75        170\n",
              "5     Anne          90        200\n",
              "6     Luiz         100        220"
            ],
            "text/html": [
              "\n",
              "  <div id=\"df-44c9d137-b9f5-4afd-af54-290f80448271\">\n",
              "    <div class=\"colab-df-container\">\n",
              "      <div>\n",
              "<style scoped>\n",
              "    .dataframe tbody tr th:only-of-type {\n",
              "        vertical-align: middle;\n",
              "    }\n",
              "\n",
              "    .dataframe tbody tr th {\n",
              "        vertical-align: top;\n",
              "    }\n",
              "\n",
              "    .dataframe thead th {\n",
              "        text-align: right;\n",
              "    }\n",
              "</style>\n",
              "<table border=\"1\" class=\"dataframe\">\n",
              "  <thead>\n",
              "    <tr style=\"text-align: right;\">\n",
              "      <th></th>\n",
              "      <th>student</th>\n",
              "      <th>age_months</th>\n",
              "      <th>height_cm</th>\n",
              "    </tr>\n",
              "  </thead>\n",
              "  <tbody>\n",
              "    <tr>\n",
              "      <th>0</th>\n",
              "      <td>João</td>\n",
              "      <td>0</td>\n",
              "      <td>20</td>\n",
              "    </tr>\n",
              "    <tr>\n",
              "      <th>1</th>\n",
              "      <td>Ribeiro</td>\n",
              "      <td>20</td>\n",
              "      <td>60</td>\n",
              "    </tr>\n",
              "    <tr>\n",
              "      <th>2</th>\n",
              "      <td>Evaldo</td>\n",
              "      <td>25</td>\n",
              "      <td>70</td>\n",
              "    </tr>\n",
              "    <tr>\n",
              "      <th>3</th>\n",
              "      <td>Isaias</td>\n",
              "      <td>50</td>\n",
              "      <td>120</td>\n",
              "    </tr>\n",
              "    <tr>\n",
              "      <th>4</th>\n",
              "      <td>Jessyca</td>\n",
              "      <td>75</td>\n",
              "      <td>170</td>\n",
              "    </tr>\n",
              "    <tr>\n",
              "      <th>5</th>\n",
              "      <td>Anne</td>\n",
              "      <td>90</td>\n",
              "      <td>200</td>\n",
              "    </tr>\n",
              "    <tr>\n",
              "      <th>6</th>\n",
              "      <td>Luiz</td>\n",
              "      <td>100</td>\n",
              "      <td>220</td>\n",
              "    </tr>\n",
              "  </tbody>\n",
              "</table>\n",
              "</div>\n",
              "      <button class=\"colab-df-convert\" onclick=\"convertToInteractive('df-44c9d137-b9f5-4afd-af54-290f80448271')\"\n",
              "              title=\"Convert this dataframe to an interactive table.\"\n",
              "              style=\"display:none;\">\n",
              "        \n",
              "  <svg xmlns=\"http://www.w3.org/2000/svg\" height=\"24px\"viewBox=\"0 0 24 24\"\n",
              "       width=\"24px\">\n",
              "    <path d=\"M0 0h24v24H0V0z\" fill=\"none\"/>\n",
              "    <path d=\"M18.56 5.44l.94 2.06.94-2.06 2.06-.94-2.06-.94-.94-2.06-.94 2.06-2.06.94zm-11 1L8.5 8.5l.94-2.06 2.06-.94-2.06-.94L8.5 2.5l-.94 2.06-2.06.94zm10 10l.94 2.06.94-2.06 2.06-.94-2.06-.94-.94-2.06-.94 2.06-2.06.94z\"/><path d=\"M17.41 7.96l-1.37-1.37c-.4-.4-.92-.59-1.43-.59-.52 0-1.04.2-1.43.59L10.3 9.45l-7.72 7.72c-.78.78-.78 2.05 0 2.83L4 21.41c.39.39.9.59 1.41.59.51 0 1.02-.2 1.41-.59l7.78-7.78 2.81-2.81c.8-.78.8-2.07 0-2.86zM5.41 20L4 18.59l7.72-7.72 1.47 1.35L5.41 20z\"/>\n",
              "  </svg>\n",
              "      </button>\n",
              "      \n",
              "  <style>\n",
              "    .colab-df-container {\n",
              "      display:flex;\n",
              "      flex-wrap:wrap;\n",
              "      gap: 12px;\n",
              "    }\n",
              "\n",
              "    .colab-df-convert {\n",
              "      background-color: #E8F0FE;\n",
              "      border: none;\n",
              "      border-radius: 50%;\n",
              "      cursor: pointer;\n",
              "      display: none;\n",
              "      fill: #1967D2;\n",
              "      height: 32px;\n",
              "      padding: 0 0 0 0;\n",
              "      width: 32px;\n",
              "    }\n",
              "\n",
              "    .colab-df-convert:hover {\n",
              "      background-color: #E2EBFA;\n",
              "      box-shadow: 0px 1px 2px rgba(60, 64, 67, 0.3), 0px 1px 3px 1px rgba(60, 64, 67, 0.15);\n",
              "      fill: #174EA6;\n",
              "    }\n",
              "\n",
              "    [theme=dark] .colab-df-convert {\n",
              "      background-color: #3B4455;\n",
              "      fill: #D2E3FC;\n",
              "    }\n",
              "\n",
              "    [theme=dark] .colab-df-convert:hover {\n",
              "      background-color: #434B5C;\n",
              "      box-shadow: 0px 1px 3px 1px rgba(0, 0, 0, 0.15);\n",
              "      filter: drop-shadow(0px 1px 2px rgba(0, 0, 0, 0.3));\n",
              "      fill: #FFFFFF;\n",
              "    }\n",
              "  </style>\n",
              "\n",
              "      <script>\n",
              "        const buttonEl =\n",
              "          document.querySelector('#df-44c9d137-b9f5-4afd-af54-290f80448271 button.colab-df-convert');\n",
              "        buttonEl.style.display =\n",
              "          google.colab.kernel.accessAllowed ? 'block' : 'none';\n",
              "\n",
              "        async function convertToInteractive(key) {\n",
              "          const element = document.querySelector('#df-44c9d137-b9f5-4afd-af54-290f80448271');\n",
              "          const dataTable =\n",
              "            await google.colab.kernel.invokeFunction('convertToInteractive',\n",
              "                                                     [key], {});\n",
              "          if (!dataTable) return;\n",
              "\n",
              "          const docLinkHtml = 'Like what you see? Visit the ' +\n",
              "            '<a target=\"_blank\" href=https://colab.research.google.com/notebooks/data_table.ipynb>data table notebook</a>'\n",
              "            + ' to learn more about interactive tables.';\n",
              "          element.innerHTML = '';\n",
              "          dataTable['output_type'] = 'display_data';\n",
              "          await google.colab.output.renderOutput(dataTable, element);\n",
              "          const docLink = document.createElement('div');\n",
              "          docLink.innerHTML = docLinkHtml;\n",
              "          element.appendChild(docLink);\n",
              "        }\n",
              "      </script>\n",
              "    </div>\n",
              "  </div>\n",
              "  "
            ]
          },
          "metadata": {},
          "execution_count": 17
        }
      ]
    },
    {
      "cell_type": "code",
      "source": [
        "import matplotlib.pyplot as plt\n",
        "\n",
        "df_age_vs_height.plot(x = 'age_months', y = 'height_cm')\n",
        "plt.scatter(x = 'age_months', y = 'height_cm', data = df_age_vs_height, color = 'red')"
      ],
      "metadata": {
        "colab": {
          "base_uri": "https://localhost:8080/",
          "height": 297
        },
        "id": "q9axhsOt4p1f",
        "outputId": "ee893986-3b40-410b-c1f1-f8a0bdff7841"
      },
      "execution_count": 18,
      "outputs": [
        {
          "output_type": "execute_result",
          "data": {
            "text/plain": [
              "<matplotlib.collections.PathCollection at 0x7f1ecc1baa50>"
            ]
          },
          "metadata": {},
          "execution_count": 18
        },
        {
          "output_type": "display_data",
          "data": {
            "text/plain": [
              "<Figure size 432x288 with 1 Axes>"
            ],
            "image/png": "[encoded data removed]"
          },
          "metadata": {
            "needs_background": "light"
          }
        }
      ]
    },
    {
      "cell_type": "markdown",
      "source": [
        "Em uma abordagem manual:\n",
        "\n",
        "`y^ = a + bx`\n",
        "\n",
        "Cálculo para a primeira pessoa:\n",
        "- 20 = a + b*(0)\n",
        "- a = 20\n",
        "\n",
        "Cálculo para a segunda pessoa:\n",
        "- 60 = a + b*(20)\n",
        "- 60 = 20 + 20b\n",
        "- b = 2\n",
        "\n",
        "Ou seja, a inclinação da reta é de 2 e 'a' vale 20.\n",
        "\n",
        "Caso não tivessemos o parâmetro x = 0 no primeiro caso, começaríamos com valores aleatórios de 'a' e 'b' (inicialização dos parâmetros).\n",
        "\n",
        "Este foi um exemplo de dados perfeitos, sem uma taxa de erros. No mundo real, precisaríamos trabalhar com esta taxa, para que o modelo possa aprender.\n",
        "\n",
        "---"
      ],
      "metadata": {
        "id": "KzVpFp0_3Uky"
      }
    },
    {
      "cell_type": "markdown",
      "source": [
        "Treinaremos o algoritmo para que ele busque o melhor valor de 'a' e 'b' (combinados) onde existam dados com uma certa taxa de erro.\n",
        "\n",
        "Utilizando a técnica dos **mínimos quadrados**:\n",
        "\n",
        "<img src=\"https://miro.medium.com/max/500/0*gglavDlTUWKn4Loe\">\n",
        "\n",
        "Ou seja, calculamos a diferença entre os valores preditos e o valor real (da função), e a diferença será o resíduo (taxa de erro).\n",
        "\n",
        "Calcularemos então todas essas diferenças, a fim de encontrar a minimização dessas diferenças(minimização da soma geral (dos vários pontos de dados) do erro ao quadrado).\n",
        "\n",
        "O fato de elevarmos ao quadrado se dá para que os erros negativos não compensem os erros positivos (ou vice e versa). Fazendo isso, o erro quadrático geral nos mostrará tanto os erros positivos quanto os negativos, não mascarando ninguém.\n",
        "\n",
        "Ou seja, com este método, buscamos os parâmetros 'a' e 'b' que combinados **minimizem esses erros**."
      ],
      "metadata": {
        "id": "9lkcmYDm6Wna"
      }
    },
    {
      "cell_type": "markdown",
      "source": [
        "---\n",
        "Para sabermos quão bem esta reta se aproxima da realidade, podemos aplicar, por exemplo, o **Erro padrão da estimativa (S)** ou **Coeficiente de determinação**.\n",
        "\n",
        "O **erro padrão da estimativa**, representa a distância média dos valores para a linha de regressã, mostrando o \"quão errado\" o modelo está (em média), medindo a **precisão das previsões do modelo**.\n",
        "\n",
        "Essa medida é utilizada também, junta da medida R Squared (coeficiente de determinação)\n",
        "\n",
        "- Quanto **menor** o erro padrão da estimativa, melhor.\n",
        "- Quanto **maior** o coeficiente de determinação (de 0 a 100%), melhor.\n",
        "\n",
        "> \"What Is R-Squared? R-squared (R2) is a statistical measure that represents the proportion of the variance for a dependent variable that's explained by an independent variable or variables in a regression model\". It variates from 0 to 100%.\n",
        "\n",
        "**Coeficiente de determinação**:\n",
        "É a proporção da variação total de uma variável independente y que é explicada pela variável independente X. Ele indica o quanto a reta de regressão explica o ajuste da reta (quão bem ela se ajusta aos dados). Ou seja, quão bem a variação da variável dependente pode ser explicada pela variação da variável independente. Como no exemplo do notebook, quão bem o aumento do número de queimadas pode ser explicado pelo aumento da temperatura.\n",
        "\n",
        "**Coeficiente de correlação**:\n",
        "Obtido através do coeficiente de determinação, podendo admitir valores entre -1 (relacionamento perfeito negativo) e 1 (relacionamento perfeito positivo).<br>Ele explica a força de relação entre as variáveis.\n",
        "Obs: Valores próximos de 0 indicam que não há correlação ou correlação fraca.\n",
        "\n",
        "---\n",
        "Mensurando o poder explicativo de um modelo de regressão:\n",
        "\n",
        "- Soma Total dos Quadrados (STQ ou SST) – Nos mostra a variação em y em torno da própria média.\n",
        "\n",
        "- Soma dos Quadrados de Regressão (SQR) – Nos oferece a variação de y considerando as variáveis X utilizadas no modelo.\n",
        "\n",
        "- Soma dos Quadrados dos Resíduos (SQU ou SSE) –  Variação de y que não é explicada pelo modelo elaborado.\n",
        "\n",
        "- STQ = SQR + SQU  \n",
        "\n",
        "<img src=\"https://ashutoshtripathicom.files.wordpress.com/2019/01/rsquarecanva2.png\">"
      ],
      "metadata": {
        "id": "xo_S1-JeIlqS"
      }
    },
    {
      "cell_type": "markdown",
      "source": [
        "**Aplicação prática com Python**"
      ],
      "metadata": {
        "id": "DGWoC0LrTnS3"
      }
    },
    {
      "cell_type": "code",
      "source": [
        "# Criando os dados\n",
        "\n",
        "import pandas as pd\n",
        "\n",
        "data = {   \n",
        "         'age_months' : [0,  20, 25, 50,  75,  90,  100, 120, 140, 150, 170, 190, 200],    \n",
        "         'height_cm'  : [20, 65, 72, 124, 178, 198, 224, 255, 298, 320, 370, 401, 420] \n",
        "        }\n",
        "\n",
        "df_age_vs_height = pd.DataFrame(data)\n",
        "print( df_age_vs_height.head() )\n",
        "\n",
        "# df_age_vs_height.plot(x = 'age_months', y = 'height_cm')\n",
        "plt.scatter(x = 'age_months', y = 'height_cm', data = df_age_vs_height, color = 'red')"
      ],
      "metadata": {
        "colab": {
          "base_uri": "https://localhost:8080/",
          "height": 386
        },
        "id": "YABCutf86O7v",
        "outputId": "8b9ec9dc-874b-4ce2-e396-64eb9b1e183a"
      },
      "execution_count": 24,
      "outputs": [
        {
          "output_type": "stream",
          "name": "stdout",
          "text": [
            "   age_months  height_cm\n",
            "0           0         20\n",
            "1          20         65\n",
            "2          25         72\n",
            "3          50        124\n",
            "4          75        178\n"
          ]
        },
        {
          "output_type": "execute_result",
          "data": {
            "text/plain": [
              "<matplotlib.collections.PathCollection at 0x7f1ebb297610>"
            ]
          },
          "metadata": {},
          "execution_count": 24
        },
        {
          "output_type": "display_data",
          "data": {
            "text/plain": [
              "<Figure size 432x288 with 1 Axes>"
            ],
            "image/png": "[encoded data removed]"
          },
          "metadata": {
            "needs_background": "light"
          }
        }
      ]
    },
    {
      "cell_type": "code",
      "source": [
        "import statsmodels.formula.api as smf\n",
        "\n",
        "# Criando o objeto do modelo de regressão\n",
        "estimate = smf.ols( formula = 'height_cm ~ age_months', data = df_age_vs_height ) # caso quisessemos reg. múltipla -> ex. 'height_cm ~ age_months + weight_kg + ...'\n",
        "# ols = ordinary least squares\n",
        "# height_cm = dependent variable\n",
        "# age_months = explanatory variable\n",
        "\n",
        "# Train\n",
        "regressao = estimate.fit() # A função fit() faz o treinamento, expondo os algoritmo aos dados\n",
        "\n",
        "print( regressao.summary() )"
      ],
      "metadata": {
        "colab": {
          "base_uri": "https://localhost:8080/"
        },
        "id": "HWl5g_NgUCoN",
        "outputId": "7f6f6826-88a4-487c-8e14-4aea37c9df29"
      },
      "execution_count": 25,
      "outputs": [
        {
          "output_type": "stream",
          "name": "stdout",
          "text": [
            "                            OLS Regression Results                            \n",
            "==============================================================================\n",
            "Dep. Variable:              height_cm   R-squared:                       0.999\n",
            "Model:                            OLS   Adj. R-squared:                  0.999\n",
            "Method:                 Least Squares   F-statistic:                 1.105e+04\n",
            "Date:                Tue, 29 Nov 2022   Prob (F-statistic):           7.21e-18\n",
            "Time:                        03:11:09   Log-Likelihood:                -36.475\n",
            "No. Observations:                  13   AIC:                             76.95\n",
            "Df Residuals:                      11   BIC:                             78.08\n",
            "Df Model:                           1                                         \n",
            "Covariance Type:            nonrobust                                         \n",
            "==============================================================================\n",
            "                 coef    std err          t      P>|t|      [0.025      0.975]\n",
            "------------------------------------------------------------------------------\n",
            "Intercept     22.6566      2.284      9.919      0.000      17.629      27.684\n",
            "age_months     1.9928      0.019    105.132      0.000       1.951       2.035\n",
            "==============================================================================\n",
            "Omnibus:                        1.115   Durbin-Watson:                   2.243\n",
            "Prob(Omnibus):                  0.573   Jarque-Bera (JB):                0.547\n",
            "Skew:                           0.490   Prob(JB):                        0.761\n",
            "Kurtosis:                       2.778   Cond. No.                         228.\n",
            "==============================================================================\n",
            "\n",
            "Notes:\n",
            "[1] Standard Errors assume that the covariance matrix of the errors is correctly specified.\n"
          ]
        },
        {
          "output_type": "stream",
          "name": "stderr",
          "text": [
            "/usr/local/lib/python3.7/dist-packages/scipy/stats/stats.py:1542: UserWarning: kurtosistest only valid for n>=20 ... continuing anyway, n=13\n",
            "  \"anyway, n=%i\" % int(n))\n"
          ]
        }
      ]
    },
    {
      "cell_type": "markdown",
      "source": [
        "Obs: repare no warning que diz que o teste de kurtosis somente será válido em uma amostra de dados maior que 20."
      ],
      "metadata": {
        "id": "LF5VtJioXQIi"
      }
    },
    {
      "cell_type": "markdown",
      "source": [
        "Calculando os termos 'a' e 'b' da regressão de forma prática em Python:"
      ],
      "metadata": {
        "id": "7SOnTcz0j2xI"
      }
    },
    {
      "cell_type": "code",
      "source": [
        "import numpy  as np\n",
        "import pandas as pd\n",
        "\n",
        "# Dataframe\n",
        "data = {   \n",
        "         'age_months' : [0,  20, 25, 50,  75,  90,  100, 120, 140, 150, 170, 190, 200],    \n",
        "         'height_cm'  : [20, 65, 72, 124, 178, 198, 224, 255, 298, 320, 370, 401, 420] \n",
        "        }\n",
        "\n",
        "df_age_vs_height = pd.DataFrame(data)\n",
        "\n",
        "# Definindo variáveis x e y\n",
        "X = df_age_vs_height['age_months'].values\n",
        "y = df_age_vs_height['height_cm'].values\n",
        "\n",
        "# Média de x e y\n",
        "mean_X = np.mean(X)\n",
        "mean_y = np.mean(y)\n",
        "\n",
        "# Usando a fórmula para calcular a e b\n",
        "numerator = 0\n",
        "denominator = 0\n",
        "\n",
        "for i in range(len(X)):\n",
        "    numerator += (X[i] - mean_X) * (y[i] - mean_y)\n",
        "    denominator += (X[i] - mean_X) ** 2\n",
        "\n",
        "b = numerator / denominator\n",
        "a = mean_y - (b * mean_X)\n",
        "\n",
        "# Imprimindo os coeficientes\n",
        "print(f\"Valor de 'a':{a:.2f}\\nValor de 'b':{b:.2f}\")"
      ],
      "metadata": {
        "colab": {
          "base_uri": "https://localhost:8080/"
        },
        "id": "lLqYAiAtj7us",
        "outputId": "f30ce72a-de43-41b5-c623-106adcad85ba"
      },
      "execution_count": 29,
      "outputs": [
        {
          "output_type": "stream",
          "name": "stdout",
          "text": [
            "Valor de 'a':22.66\n",
            "Valor de 'b':1.99\n"
          ]
        }
      ]
    }
  ]
}