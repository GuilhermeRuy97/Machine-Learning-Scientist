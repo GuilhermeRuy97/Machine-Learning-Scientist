{
  "nbformat": 4,
  "nbformat_minor": 0,
  "metadata": {
    "colab": {
      "provenance": []
    },
    "kernelspec": {
      "name": "python3",
      "display_name": "Python 3"
    },
    "language_info": {
      "name": "python"
    }
  },
  "cells": [
    {
      "cell_type": "markdown",
      "source": [
        "Aprendizado de máquina é uma sub área da inteligência artificial, que tem o objetivo de treinar o computador através de um algoritmo com um **conjunto de dados**, que aprende um modelo matemático capaz de representar os dados, **sem ser explicitamente programado para isso**, tornando-o capaz de realizar predições sobre novos dados. <br>\n",
        "Vale ressaltar que Deep Learning é uma sub área de Machine Learning.\n",
        "<br><br>\n",
        "Alguns desses tipos de aprendizagem são a aprendizagem não supervisionada, supervisionada, semi supervisionada, por reforço e deep learning.<br>\n",
        "- Os algoritmos **supervisionados** fazem previsões com base em exemplos de dados anteriores.\n",
        "  - Duas subcategorias do aprenziado supervisionado são a *classificação* (ex. classificar gatos e cachorros) e *regressão* (ex. preço de uma casa dadas algumas características).\n",
        "- Quando não temos os dados de saída, utilizamos algoritmos de aprendizagem não supervisionada, que tem a função por exemplo, de agrupar e correlacionar os dados (encontrar padrões).\n",
        "  - Uma subcategoria do aprendizado não supervisionado é a de *clustering*.\n",
        "- Os algoritmos de aprendizado por reforço se baseiam na tentativa e erro (recompensa e penalização), a cada ponto de dados. Um exemplo de seu uso é na robótica ou robôs investidores.\n",
        "<br><br>\n",
        "Por ser um algoritmo que se especializa em realizar algo, a resolução do problema de negócio e análise de dados são de extrema importância, assim como a preparação e limpeza dos dados.\n",
        "<br>"
      ],
      "metadata": {
        "id": "86PEO3ZXDIMf"
      }
    }
  ]
}