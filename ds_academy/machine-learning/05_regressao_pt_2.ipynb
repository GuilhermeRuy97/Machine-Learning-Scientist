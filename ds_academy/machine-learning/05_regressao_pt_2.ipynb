{
  "nbformat": 4,
  "nbformat_minor": 0,
  "metadata": {
    "colab": {
      "provenance": []
    },
    "kernelspec": {
      "name": "python3",
      "display_name": "Python 3"
    },
    "language_info": {
      "name": "python"
    }
  },
  "cells": [
    {
      "cell_type": "markdown",
      "source": [
        "Construindo um modelo que seja capaz de prever a taxa média de ocupação por proprietários de casas na região de Boston (EUA).\n",
        "\n",
        "Variável target: Valor numérico que representa a mediana da taxa de ocupação (em $1000s)\n",
        "\n",
        "Dataset: https://www.kaggle.com/competitions/boston-housing\n",
        "\n",
        "<img src=\"https://cdn.vox-cdn.com/thumbor/ytWQXLrdk_BlB8dVhImYurfR3NY=/0x0:5854x3903/1200x675/filters:focal(2459x1484:3395x2420)/cdn.vox-cdn.com/uploads/chorus_image/image/63307699/shutterstock_1524900662.15.jpg\">\n",
        "\n",
        "---"
      ],
      "metadata": {
        "id": "z4pXa8y_lxhN"
      }
    },
    {
      "cell_type": "markdown",
      "source": [
        "<h3>Data description</h3>\n",
        "\n",
        "The Boston data frame has 506 rows and 14 columns.\n",
        "\n",
        "This data frame contains the following columns:\n",
        "\n",
        "*crim*\n",
        "  * per capita crime rate by town.\n",
        "\n",
        "*zn*\n",
        "  * proportion of residential land zoned for lots over 25,000 sq.ft.\n",
        "\n",
        "*indus*\n",
        "  * proportion of non-retail business acres per town.\n",
        "\n",
        "*chas*\n",
        "  * Charles River dummy variable (= 1 if tract bounds river; 0 otherwise).\n",
        "\n",
        "*nox*\n",
        "  * nitrogen oxides concentration (parts per 10 million).\n",
        "\n",
        "*rm*\n",
        "  * average number of rooms per dwelling.\n",
        "\n",
        "*age*\n",
        "  * proportion of owner-occupied units built prior to 1940.\n",
        "\n",
        "*dis*\n",
        "  * weighted mean of distances to five Boston employment centres.\n",
        "\n",
        "*rad*\n",
        "  * index of accessibility to radial highways.\n",
        "\n",
        "*tax*\n",
        "  * full-value property-tax rate per \\$10,000.\n",
        "\n",
        "*ptratio*\n",
        "  * pupil-teacher ratio by town.\n",
        "\n",
        "*black*\n",
        "  * 1000(Bk - 0.63)^2 where Bk is the proportion of blacks by town.\n",
        "\n",
        "*lstat*\n",
        "  * lower status of the population (percent).\n",
        "\n",
        "*medv*\n",
        "  * median value of owner-occupied homes in \\$1000s.\n",
        "\n",
        "---\n",
        "\n",
        "*Source\n",
        "Harrison, D. and Rubinfeld, D.L. (1978) Hedonic prices and the demand for clean air. J. Environ. Economics and Management 5, 81–102.*\n",
        "\n",
        "*Belsley D.A., Kuh, E. and Welsch, R.E. (1980) Regression Diagnostics. Identifying Influential Data and Sources of Collinearity. New York: Wiley.*"
      ],
      "metadata": {
        "id": "lnGsjLtcnct8"
      }
    },
    {
      "cell_type": "markdown",
      "source": [
        "**Warning**\n",
        "\n",
        "The Boston housing prices dataset has an ethical problem: as investigated in [1], the authors of this dataset engineered a non-invertible variable “B” assuming that racial self-segregation had a positive impact on house prices [2].\n",
        "\n",
        "[1] https://medium.com/@docintangible/racist-data-destruction-113e3eff54a8\n",
        "\n",
        "[2] https://www.researchgate.net/publication/4974606_Hedonic_housing_prices_and_the_demand_for_clean_air\n",
        "\n",
        "---"
      ],
      "metadata": {
        "id": "wspcwhra-UQL"
      }
    },
    {
      "cell_type": "code",
      "source": [
        "import pandas            as pd\n",
        "import numpy             as np\n",
        "import matplotlib.pyplot as plt\n",
        "import matplotlib        as mpl"
      ],
      "metadata": {
        "id": "aRKBVzom9ljR"
      },
      "execution_count": 96,
      "outputs": []
    },
    {
      "cell_type": "code",
      "source": [
        "# Desabilitando o Warning dito acima\n",
        "import warnings\n",
        "warnings.filterwarnings(\"ignore\")\n",
        "\n",
        "# Load\n",
        "from sklearn.datasets import load_boston\n",
        "boston = load_boston()\n",
        "\n",
        "# DataFrame\n",
        "df = pd.DataFrame( boston.data, columns = boston.feature_names )\n",
        "df['TARGET'] = boston.target"
      ],
      "metadata": {
        "id": "fU3Lx9mTE_97"
      },
      "execution_count": 68,
      "outputs": []
    },
    {
      "cell_type": "markdown",
      "source": [
        "# Análise Exploratória"
      ],
      "metadata": {
        "id": "cf1VetiUIUWW"
      }
    },
    {
      "cell_type": "code",
      "source": [
        "df.head()"
      ],
      "metadata": {
        "colab": {
          "base_uri": "https://localhost:8080/",
          "height": 206
        },
        "id": "P_li4AqQFvEL",
        "outputId": "baf370d3-d5cd-4495-dac8-2e2911666534"
      },
      "execution_count": 69,
      "outputs": [
        {
          "output_type": "execute_result",
          "data": {
            "text/plain": [
              "      CRIM    ZN  INDUS  CHAS    NOX     RM   AGE     DIS  RAD    TAX  \\\n",
              "0  0.00632  18.0   2.31   0.0  0.538  6.575  65.2  4.0900  1.0  296.0   \n",
              "1  0.02731   0.0   7.07   0.0  0.469  6.421  78.9  4.9671  2.0  242.0   \n",
              "2  0.02729   0.0   7.07   0.0  0.469  7.185  61.1  4.9671  2.0  242.0   \n",
              "3  0.03237   0.0   2.18   0.0  0.458  6.998  45.8  6.0622  3.0  222.0   \n",
              "4  0.06905   0.0   2.18   0.0  0.458  7.147  54.2  6.0622  3.0  222.0   \n",
              "\n",
              "   PTRATIO       B  LSTAT  TARGET  \n",
              "0     15.3  396.90   4.98    24.0  \n",
              "1     17.8  396.90   9.14    21.6  \n",
              "2     17.8  392.83   4.03    34.7  \n",
              "3     18.7  394.63   2.94    33.4  \n",
              "4     18.7  396.90   5.33    36.2  "
            ],
            "text/html": [
              "\n",
              "  <div id=\"df-eeaeec18-019c-4a1c-82ef-e852c8d1a84b\">\n",
              "    <div class=\"colab-df-container\">\n",
              "      <div>\n",
              "<style scoped>\n",
              "    .dataframe tbody tr th:only-of-type {\n",
              "        vertical-align: middle;\n",
              "    }\n",
              "\n",
              "    .dataframe tbody tr th {\n",
              "        vertical-align: top;\n",
              "    }\n",
              "\n",
              "    .dataframe thead th {\n",
              "        text-align: right;\n",
              "    }\n",
              "</style>\n",
              "<table border=\"1\" class=\"dataframe\">\n",
              "  <thead>\n",
              "    <tr style=\"text-align: right;\">\n",
              "      <th></th>\n",
              "      <th>CRIM</th>\n",
              "      <th>ZN</th>\n",
              "      <th>INDUS</th>\n",
              "      <th>CHAS</th>\n",
              "      <th>NOX</th>\n",
              "      <th>RM</th>\n",
              "      <th>AGE</th>\n",
              "      <th>DIS</th>\n",
              "      <th>RAD</th>\n",
              "      <th>TAX</th>\n",
              "      <th>PTRATIO</th>\n",
              "      <th>B</th>\n",
              "      <th>LSTAT</th>\n",
              "      <th>TARGET</th>\n",
              "    </tr>\n",
              "  </thead>\n",
              "  <tbody>\n",
              "    <tr>\n",
              "      <th>0</th>\n",
              "      <td>0.00632</td>\n",
              "      <td>18.0</td>\n",
              "      <td>2.31</td>\n",
              "      <td>0.0</td>\n",
              "      <td>0.538</td>\n",
              "      <td>6.575</td>\n",
              "      <td>65.2</td>\n",
              "      <td>4.0900</td>\n",
              "      <td>1.0</td>\n",
              "      <td>296.0</td>\n",
              "      <td>15.3</td>\n",
              "      <td>396.90</td>\n",
              "      <td>4.98</td>\n",
              "      <td>24.0</td>\n",
              "    </tr>\n",
              "    <tr>\n",
              "      <th>1</th>\n",
              "      <td>0.02731</td>\n",
              "      <td>0.0</td>\n",
              "      <td>7.07</td>\n",
              "      <td>0.0</td>\n",
              "      <td>0.469</td>\n",
              "      <td>6.421</td>\n",
              "      <td>78.9</td>\n",
              "      <td>4.9671</td>\n",
              "      <td>2.0</td>\n",
              "      <td>242.0</td>\n",
              "      <td>17.8</td>\n",
              "      <td>396.90</td>\n",
              "      <td>9.14</td>\n",
              "      <td>21.6</td>\n",
              "    </tr>\n",
              "    <tr>\n",
              "      <th>2</th>\n",
              "      <td>0.02729</td>\n",
              "      <td>0.0</td>\n",
              "      <td>7.07</td>\n",
              "      <td>0.0</td>\n",
              "      <td>0.469</td>\n",
              "      <td>7.185</td>\n",
              "      <td>61.1</td>\n",
              "      <td>4.9671</td>\n",
              "      <td>2.0</td>\n",
              "      <td>242.0</td>\n",
              "      <td>17.8</td>\n",
              "      <td>392.83</td>\n",
              "      <td>4.03</td>\n",
              "      <td>34.7</td>\n",
              "    </tr>\n",
              "    <tr>\n",
              "      <th>3</th>\n",
              "      <td>0.03237</td>\n",
              "      <td>0.0</td>\n",
              "      <td>2.18</td>\n",
              "      <td>0.0</td>\n",
              "      <td>0.458</td>\n",
              "      <td>6.998</td>\n",
              "      <td>45.8</td>\n",
              "      <td>6.0622</td>\n",
              "      <td>3.0</td>\n",
              "      <td>222.0</td>\n",
              "      <td>18.7</td>\n",
              "      <td>394.63</td>\n",
              "      <td>2.94</td>\n",
              "      <td>33.4</td>\n",
              "    </tr>\n",
              "    <tr>\n",
              "      <th>4</th>\n",
              "      <td>0.06905</td>\n",
              "      <td>0.0</td>\n",
              "      <td>2.18</td>\n",
              "      <td>0.0</td>\n",
              "      <td>0.458</td>\n",
              "      <td>7.147</td>\n",
              "      <td>54.2</td>\n",
              "      <td>6.0622</td>\n",
              "      <td>3.0</td>\n",
              "      <td>222.0</td>\n",
              "      <td>18.7</td>\n",
              "      <td>396.90</td>\n",
              "      <td>5.33</td>\n",
              "      <td>36.2</td>\n",
              "    </tr>\n",
              "  </tbody>\n",
              "</table>\n",
              "</div>\n",
              "      <button class=\"colab-df-convert\" onclick=\"convertToInteractive('df-eeaeec18-019c-4a1c-82ef-e852c8d1a84b')\"\n",
              "              title=\"Convert this dataframe to an interactive table.\"\n",
              "              style=\"display:none;\">\n",
              "        \n",
              "  <svg xmlns=\"http://www.w3.org/2000/svg\" height=\"24px\"viewBox=\"0 0 24 24\"\n",
              "       width=\"24px\">\n",
              "    <path d=\"M0 0h24v24H0V0z\" fill=\"none\"/>\n",
              "    <path d=\"M18.56 5.44l.94 2.06.94-2.06 2.06-.94-2.06-.94-.94-2.06-.94 2.06-2.06.94zm-11 1L8.5 8.5l.94-2.06 2.06-.94-2.06-.94L8.5 2.5l-.94 2.06-2.06.94zm10 10l.94 2.06.94-2.06 2.06-.94-2.06-.94-.94-2.06-.94 2.06-2.06.94z\"/><path d=\"M17.41 7.96l-1.37-1.37c-.4-.4-.92-.59-1.43-.59-.52 0-1.04.2-1.43.59L10.3 9.45l-7.72 7.72c-.78.78-.78 2.05 0 2.83L4 21.41c.39.39.9.59 1.41.59.51 0 1.02-.2 1.41-.59l7.78-7.78 2.81-2.81c.8-.78.8-2.07 0-2.86zM5.41 20L4 18.59l7.72-7.72 1.47 1.35L5.41 20z\"/>\n",
              "  </svg>\n",
              "      </button>\n",
              "      \n",
              "  <style>\n",
              "    .colab-df-container {\n",
              "      display:flex;\n",
              "      flex-wrap:wrap;\n",
              "      gap: 12px;\n",
              "    }\n",
              "\n",
              "    .colab-df-convert {\n",
              "      background-color: #E8F0FE;\n",
              "      border: none;\n",
              "      border-radius: 50%;\n",
              "      cursor: pointer;\n",
              "      display: none;\n",
              "      fill: #1967D2;\n",
              "      height: 32px;\n",
              "      padding: 0 0 0 0;\n",
              "      width: 32px;\n",
              "    }\n",
              "\n",
              "    .colab-df-convert:hover {\n",
              "      background-color: #E2EBFA;\n",
              "      box-shadow: 0px 1px 2px rgba(60, 64, 67, 0.3), 0px 1px 3px 1px rgba(60, 64, 67, 0.15);\n",
              "      fill: #174EA6;\n",
              "    }\n",
              "\n",
              "    [theme=dark] .colab-df-convert {\n",
              "      background-color: #3B4455;\n",
              "      fill: #D2E3FC;\n",
              "    }\n",
              "\n",
              "    [theme=dark] .colab-df-convert:hover {\n",
              "      background-color: #434B5C;\n",
              "      box-shadow: 0px 1px 3px 1px rgba(0, 0, 0, 0.15);\n",
              "      filter: drop-shadow(0px 1px 2px rgba(0, 0, 0, 0.3));\n",
              "      fill: #FFFFFF;\n",
              "    }\n",
              "  </style>\n",
              "\n",
              "      <script>\n",
              "        const buttonEl =\n",
              "          document.querySelector('#df-eeaeec18-019c-4a1c-82ef-e852c8d1a84b button.colab-df-convert');\n",
              "        buttonEl.style.display =\n",
              "          google.colab.kernel.accessAllowed ? 'block' : 'none';\n",
              "\n",
              "        async function convertToInteractive(key) {\n",
              "          const element = document.querySelector('#df-eeaeec18-019c-4a1c-82ef-e852c8d1a84b');\n",
              "          const dataTable =\n",
              "            await google.colab.kernel.invokeFunction('convertToInteractive',\n",
              "                                                     [key], {});\n",
              "          if (!dataTable) return;\n",
              "\n",
              "          const docLinkHtml = 'Like what you see? Visit the ' +\n",
              "            '<a target=\"_blank\" href=https://colab.research.google.com/notebooks/data_table.ipynb>data table notebook</a>'\n",
              "            + ' to learn more about interactive tables.';\n",
              "          element.innerHTML = '';\n",
              "          dataTable['output_type'] = 'display_data';\n",
              "          await google.colab.output.renderOutput(dataTable, element);\n",
              "          const docLink = document.createElement('div');\n",
              "          docLink.innerHTML = docLinkHtml;\n",
              "          element.appendChild(docLink);\n",
              "        }\n",
              "      </script>\n",
              "    </div>\n",
              "  </div>\n",
              "  "
            ]
          },
          "metadata": {},
          "execution_count": 69
        }
      ]
    },
    {
      "cell_type": "code",
      "source": [
        "# Estatística da variável target\n",
        "df['TARGET'].describe()"
      ],
      "metadata": {
        "colab": {
          "base_uri": "https://localhost:8080/"
        },
        "id": "7w9ImqU5_O8u",
        "outputId": "c82b5540-c9a8-4ea3-8be2-f088b80afb38"
      },
      "execution_count": 70,
      "outputs": [
        {
          "output_type": "execute_result",
          "data": {
            "text/plain": [
              "count    506.000000\n",
              "mean      22.532806\n",
              "std        9.197104\n",
              "min        5.000000\n",
              "25%       17.025000\n",
              "50%       21.200000\n",
              "75%       25.000000\n",
              "max       50.000000\n",
              "Name: TARGET, dtype: float64"
            ]
          },
          "metadata": {},
          "execution_count": 70
        }
      ]
    },
    {
      "cell_type": "code",
      "source": [
        "# Valor medio\n",
        "valor_medio_previsao = df['TARGET'].mean()\n",
        "print(f'Valor medio = {valor_medio_previsao:.2f}')"
      ],
      "metadata": {
        "colab": {
          "base_uri": "https://localhost:8080/"
        },
        "id": "CgxI2zxLGLQo",
        "outputId": "ef81a0ff-ec89-4d0b-b6af-e80da66c5f11"
      },
      "execution_count": 71,
      "outputs": [
        {
          "output_type": "stream",
          "name": "stdout",
          "text": [
            "Valor medio = 22.53\n"
          ]
        }
      ]
    },
    {
      "cell_type": "code",
      "source": [
        "# Cálculo do SSE para verificar se os valores são próximos da média\n",
        "# (sum of squares for error) -> (previsto - observado)^2\n",
        "sse_series = pd.Series( valor_medio_previsao - df['TARGET'] ) ** 2\n",
        "SSE = sum(sse_series)\n",
        "\n",
        "print(f'Sum of Squared errors = {SSE:.2f}')"
      ],
      "metadata": {
        "colab": {
          "base_uri": "https://localhost:8080/"
        },
        "id": "x2RfRUypIiyT",
        "outputId": "1bee3135-c959-4276-8290-00c5311e50d9"
      },
      "execution_count": 72,
      "outputs": [
        {
          "output_type": "stream",
          "name": "stdout",
          "text": [
            "Sum of Squared errors = 42716.30\n"
          ]
        }
      ]
    },
    {
      "cell_type": "code",
      "source": [
        "# Verificando a frequência dos erros\n",
        "sse_series.plot( kind = 'hist' )\n",
        "plt.grid(True)"
      ],
      "metadata": {
        "colab": {
          "base_uri": "https://localhost:8080/",
          "height": 265
        },
        "id": "mt-QOKjVJm44",
        "outputId": "21e1cacd-29fb-47fd-fbd6-0e5feb4b600b"
      },
      "execution_count": 73,
      "outputs": [
        {
          "output_type": "display_data",
          "data": {
            "text/plain": [
              "<Figure size 432x288 with 1 Axes>"
            ],
            "image/png": "[encoded data removed]"
          },
          "metadata": {
            "needs_background": "light"
          }
        }
      ]
    },
    {
      "cell_type": "markdown",
      "source": [
        "Nota-se que a maioria dos erros são pequenos, o que indica que os dados se aproximam da média. O que poderá ser comprovado pelo teorema central do limite, já que quando o tamanho da amostra aumenta, a distribuição amostral da sua média se aproxima cada vez mais de uma distribuição normal."
      ],
      "metadata": {
        "id": "KEZYfh0pJ9gx"
      }
    },
    {
      "cell_type": "code",
      "source": [
        "# Correlação entre as variáveis\n",
        "import seaborn as sns\n",
        "\n",
        "plt.figure( figsize = (12,12) )\n",
        "sns.heatmap( df.corr().round(2), annot = True )"
      ],
      "metadata": {
        "colab": {
          "base_uri": "https://localhost:8080/",
          "height": 721
        },
        "id": "2qZ0g5mHXm4X",
        "outputId": "1838b970-c4eb-43c0-edaf-8a9bf66f0c44"
      },
      "execution_count": 74,
      "outputs": [
        {
          "output_type": "execute_result",
          "data": {
            "text/plain": [
              "<matplotlib.axes._subplots.AxesSubplot at 0x7f991e7c6210>"
            ]
          },
          "metadata": {},
          "execution_count": 74
        },
        {
          "output_type": "display_data",
          "data": {
            "text/plain": [
              "<Figure size 864x864 with 2 Axes>"
            ],
            "image/png": "[encoded data removed]"
          },
          "metadata": {
            "needs_background": "light"
          }
        }
      ]
    },
    {
      "cell_type": "markdown",
      "source": [
        " ---\n",
        "\n",
        "Realizando uma **regressão linear simples** para verificar se a variável 'LSTAT' (lower status of the population (percent)) tem correlação no preço da habitação."
      ],
      "metadata": {
        "id": "DtX6U8eGKkKK"
      }
    },
    {
      "cell_type": "code",
      "source": [
        "# Desvio padrão da variável 'crim'\n",
        "np.std(df['LSTAT'])"
      ],
      "metadata": {
        "colab": {
          "base_uri": "https://localhost:8080/"
        },
        "id": "IzgEQ4S3K1fc",
        "outputId": "c52b4f23-9796-4ff7-f08a-d8fcfec17866"
      },
      "execution_count": 75,
      "outputs": [
        {
          "output_type": "execute_result",
          "data": {
            "text/plain": [
              "7.134001636650485"
            ]
          },
          "metadata": {},
          "execution_count": 75
        }
      ]
    },
    {
      "cell_type": "code",
      "source": [
        "# Correlação\n",
        "from scipy.stats.stats import pearsonr\n",
        "\n",
        "pearsonr( df['LSTAT'], df['TARGET'] )[0]"
      ],
      "metadata": {
        "colab": {
          "base_uri": "https://localhost:8080/"
        },
        "id": "qlGYzqBdXBMO",
        "outputId": "a3492a0f-c7c7-4c9b-b563-ea022bd4e0ae"
      },
      "execution_count": 76,
      "outputs": [
        {
          "output_type": "execute_result",
          "data": {
            "text/plain": [
              "-0.737662726174015"
            ]
          },
          "metadata": {},
          "execution_count": 76
        }
      ]
    },
    {
      "cell_type": "markdown",
      "source": [
        "Ou seja, a variável LSTAT influencia negativamente a variável TARGET.\n",
        "\n",
        "OBS: Porém, não é porque LSTAT acontece junto de TARGET que LSTAT cause TARGET (correlação e causalidade)."
      ],
      "metadata": {
        "id": "WVn7QrvBZ-mF"
      }
    },
    {
      "cell_type": "markdown",
      "source": [
        "---\n",
        "\n",
        "Construindo um modelo de regressão linear com o **StatsModels**\n",
        "\n",
        "1. https://www.statsmodels.org/stable/index.html\n",
        "2. https://www.statsmodels.org/stable/py-modindex.html"
      ],
      "metadata": {
        "id": "5DHacufWeA5q"
      }
    },
    {
      "cell_type": "code",
      "source": [
        "import statsmodels.api as sm"
      ],
      "metadata": {
        "id": "9CpzZlUAeT3f"
      },
      "execution_count": 77,
      "outputs": []
    },
    {
      "cell_type": "code",
      "source": [
        "# Variáveis dependente e independente\n",
        "X = df['LSTAT']\n",
        "y = df['TARGET']\n",
        "\n",
        "# O StatsModels requer uma matriz de entrada (variáveis explanatórias e os valores constantes)\n",
        "# Os valores constantes são os coeficientes aprendidos durante o treinamento\n",
        "# Por isso, precisamos adicionar os valores dos coeficientes à variável X\n",
        "X = sm.add_constant(X)\n",
        "\n",
        "X.head()"
      ],
      "metadata": {
        "colab": {
          "base_uri": "https://localhost:8080/",
          "height": 206
        },
        "id": "6fOYi0Nfey8y",
        "outputId": "c5d007e2-fad8-4529-b47c-85ca044b5bd2"
      },
      "execution_count": 78,
      "outputs": [
        {
          "output_type": "execute_result",
          "data": {
            "text/plain": [
              "   const  LSTAT\n",
              "0    1.0   4.98\n",
              "1    1.0   9.14\n",
              "2    1.0   4.03\n",
              "3    1.0   2.94\n",
              "4    1.0   5.33"
            ],
            "text/html": [
              "\n",
              "  <div id=\"df-b0fd7be9-947a-43ea-bc88-bfd9c941c286\">\n",
              "    <div class=\"colab-df-container\">\n",
              "      <div>\n",
              "<style scoped>\n",
              "    .dataframe tbody tr th:only-of-type {\n",
              "        vertical-align: middle;\n",
              "    }\n",
              "\n",
              "    .dataframe tbody tr th {\n",
              "        vertical-align: top;\n",
              "    }\n",
              "\n",
              "    .dataframe thead th {\n",
              "        text-align: right;\n",
              "    }\n",
              "</style>\n",
              "<table border=\"1\" class=\"dataframe\">\n",
              "  <thead>\n",
              "    <tr style=\"text-align: right;\">\n",
              "      <th></th>\n",
              "      <th>const</th>\n",
              "      <th>LSTAT</th>\n",
              "    </tr>\n",
              "  </thead>\n",
              "  <tbody>\n",
              "    <tr>\n",
              "      <th>0</th>\n",
              "      <td>1.0</td>\n",
              "      <td>4.98</td>\n",
              "    </tr>\n",
              "    <tr>\n",
              "      <th>1</th>\n",
              "      <td>1.0</td>\n",
              "      <td>9.14</td>\n",
              "    </tr>\n",
              "    <tr>\n",
              "      <th>2</th>\n",
              "      <td>1.0</td>\n",
              "      <td>4.03</td>\n",
              "    </tr>\n",
              "    <tr>\n",
              "      <th>3</th>\n",
              "      <td>1.0</td>\n",
              "      <td>2.94</td>\n",
              "    </tr>\n",
              "    <tr>\n",
              "      <th>4</th>\n",
              "      <td>1.0</td>\n",
              "      <td>5.33</td>\n",
              "    </tr>\n",
              "  </tbody>\n",
              "</table>\n",
              "</div>\n",
              "      <button class=\"colab-df-convert\" onclick=\"convertToInteractive('df-b0fd7be9-947a-43ea-bc88-bfd9c941c286')\"\n",
              "              title=\"Convert this dataframe to an interactive table.\"\n",
              "              style=\"display:none;\">\n",
              "        \n",
              "  <svg xmlns=\"http://www.w3.org/2000/svg\" height=\"24px\"viewBox=\"0 0 24 24\"\n",
              "       width=\"24px\">\n",
              "    <path d=\"M0 0h24v24H0V0z\" fill=\"none\"/>\n",
              "    <path d=\"M18.56 5.44l.94 2.06.94-2.06 2.06-.94-2.06-.94-.94-2.06-.94 2.06-2.06.94zm-11 1L8.5 8.5l.94-2.06 2.06-.94-2.06-.94L8.5 2.5l-.94 2.06-2.06.94zm10 10l.94 2.06.94-2.06 2.06-.94-2.06-.94-.94-2.06-.94 2.06-2.06.94z\"/><path d=\"M17.41 7.96l-1.37-1.37c-.4-.4-.92-.59-1.43-.59-.52 0-1.04.2-1.43.59L10.3 9.45l-7.72 7.72c-.78.78-.78 2.05 0 2.83L4 21.41c.39.39.9.59 1.41.59.51 0 1.02-.2 1.41-.59l7.78-7.78 2.81-2.81c.8-.78.8-2.07 0-2.86zM5.41 20L4 18.59l7.72-7.72 1.47 1.35L5.41 20z\"/>\n",
              "  </svg>\n",
              "      </button>\n",
              "      \n",
              "  <style>\n",
              "    .colab-df-container {\n",
              "      display:flex;\n",
              "      flex-wrap:wrap;\n",
              "      gap: 12px;\n",
              "    }\n",
              "\n",
              "    .colab-df-convert {\n",
              "      background-color: #E8F0FE;\n",
              "      border: none;\n",
              "      border-radius: 50%;\n",
              "      cursor: pointer;\n",
              "      display: none;\n",
              "      fill: #1967D2;\n",
              "      height: 32px;\n",
              "      padding: 0 0 0 0;\n",
              "      width: 32px;\n",
              "    }\n",
              "\n",
              "    .colab-df-convert:hover {\n",
              "      background-color: #E2EBFA;\n",
              "      box-shadow: 0px 1px 2px rgba(60, 64, 67, 0.3), 0px 1px 3px 1px rgba(60, 64, 67, 0.15);\n",
              "      fill: #174EA6;\n",
              "    }\n",
              "\n",
              "    [theme=dark] .colab-df-convert {\n",
              "      background-color: #3B4455;\n",
              "      fill: #D2E3FC;\n",
              "    }\n",
              "\n",
              "    [theme=dark] .colab-df-convert:hover {\n",
              "      background-color: #434B5C;\n",
              "      box-shadow: 0px 1px 3px 1px rgba(0, 0, 0, 0.15);\n",
              "      filter: drop-shadow(0px 1px 2px rgba(0, 0, 0, 0.3));\n",
              "      fill: #FFFFFF;\n",
              "    }\n",
              "  </style>\n",
              "\n",
              "      <script>\n",
              "        const buttonEl =\n",
              "          document.querySelector('#df-b0fd7be9-947a-43ea-bc88-bfd9c941c286 button.colab-df-convert');\n",
              "        buttonEl.style.display =\n",
              "          google.colab.kernel.accessAllowed ? 'block' : 'none';\n",
              "\n",
              "        async function convertToInteractive(key) {\n",
              "          const element = document.querySelector('#df-b0fd7be9-947a-43ea-bc88-bfd9c941c286');\n",
              "          const dataTable =\n",
              "            await google.colab.kernel.invokeFunction('convertToInteractive',\n",
              "                                                     [key], {});\n",
              "          if (!dataTable) return;\n",
              "\n",
              "          const docLinkHtml = 'Like what you see? Visit the ' +\n",
              "            '<a target=\"_blank\" href=https://colab.research.google.com/notebooks/data_table.ipynb>data table notebook</a>'\n",
              "            + ' to learn more about interactive tables.';\n",
              "          element.innerHTML = '';\n",
              "          dataTable['output_type'] = 'display_data';\n",
              "          await google.colab.output.renderOutput(dataTable, element);\n",
              "          const docLink = document.createElement('div');\n",
              "          docLink.innerHTML = docLinkHtml;\n",
              "          element.appendChild(docLink);\n",
              "        }\n",
              "      </script>\n",
              "    </div>\n",
              "  </div>\n",
              "  "
            ]
          },
          "metadata": {},
          "execution_count": 78
        }
      ]
    },
    {
      "cell_type": "code",
      "source": [
        "# Criação do modelo\n",
        "regressao = sm.OLS( y, X )\n",
        "\n",
        "# Treinamento do modelo\n",
        "regressao_v1 = regressao.fit()\n",
        "\n",
        "print( regressao_v1.summary() )\n",
        "print('*'*78)\n",
        "print('Estes são os parâmetros aprendidos durante o treinamento do modelo:')\n",
        "print( regressao_v1.params )"
      ],
      "metadata": {
        "colab": {
          "base_uri": "https://localhost:8080/"
        },
        "id": "J_QF9ziMgIzD",
        "outputId": "b7603ab6-b7e7-49c5-8c88-88eace110dc4"
      },
      "execution_count": 141,
      "outputs": [
        {
          "output_type": "stream",
          "name": "stdout",
          "text": [
            "                            OLS Regression Results                            \n",
            "==============================================================================\n",
            "Dep. Variable:                      y   R-squared:                       0.484\n",
            "Model:                            OLS   Adj. R-squared:                  0.483\n",
            "Method:                 Least Squares   F-statistic:                     471.8\n",
            "Date:                Wed, 30 Nov 2022   Prob (F-statistic):           2.49e-74\n",
            "Time:                        22:00:49   Log-Likelihood:                -1673.1\n",
            "No. Observations:                 506   AIC:                             3350.\n",
            "Df Residuals:                     504   BIC:                             3359.\n",
            "Df Model:                           1                                         \n",
            "Covariance Type:            nonrobust                                         \n",
            "==============================================================================\n",
            "                 coef    std err          t      P>|t|      [0.025      0.975]\n",
            "------------------------------------------------------------------------------\n",
            "x1             9.1021      0.419     21.722      0.000       8.279       9.925\n",
            "const        -34.6706      2.650    -13.084      0.000     -39.877     -29.465\n",
            "==============================================================================\n",
            "Omnibus:                      102.585   Durbin-Watson:                   0.684\n",
            "Prob(Omnibus):                  0.000   Jarque-Bera (JB):              612.449\n",
            "Skew:                           0.726   Prob(JB):                    1.02e-133\n",
            "Kurtosis:                       8.190   Cond. No.                         58.4\n",
            "==============================================================================\n",
            "\n",
            "Notes:\n",
            "[1] Standard Errors assume that the covariance matrix of the errors is correctly specified.\n",
            "******************************************************************************\n",
            "Estes são os parâmetros aprendidos durante o treinamento do modelo:\n",
            "[  9.10210898 -34.67062078]\n"
          ]
        }
      ]
    },
    {
      "cell_type": "code",
      "source": [
        "# Print da previsão dos dados\n",
        "previsoes = regressao_v1.predict(X)\n",
        "previsoes"
      ],
      "metadata": {
        "colab": {
          "base_uri": "https://localhost:8080/"
        },
        "id": "AWTKyhAGgnsk",
        "outputId": "7a2f8d97-c402-47fd-e516-9f4da6278f74"
      },
      "execution_count": 80,
      "outputs": [
        {
          "output_type": "execute_result",
          "data": {
            "text/plain": [
              "0      29.822595\n",
              "1      25.870390\n",
              "2      30.725142\n",
              "3      31.760696\n",
              "4      29.490078\n",
              "         ...    \n",
              "501    25.366864\n",
              "502    25.927393\n",
              "503    29.195563\n",
              "504    28.397521\n",
              "505    27.067452\n",
              "Length: 506, dtype: float64"
            ]
          },
          "metadata": {},
          "execution_count": 80
        }
      ]
    },
    {
      "cell_type": "code",
      "source": [
        "# Passando a média de LSTAT como constante\n",
        "# E adicionando a constante 1 para se tornar uma matriz\n",
        "LM = np.mean( df['LSTAT'] ).round(1)\n",
        "Xp = np.array( [1, LM] )\n",
        "\n",
        "print(f'Para o caso em que LSTAT = {LM}, o modelo prevê que a mediana da taxa de ocupação é de {regressao_v1.predict(Xp).round(2)}')"
      ],
      "metadata": {
        "colab": {
          "base_uri": "https://localhost:8080/"
        },
        "id": "uWAJQ1XqiHn7",
        "outputId": "0051637e-7202-42ea-ceff-a0df46d371d4"
      },
      "execution_count": 81,
      "outputs": [
        {
          "output_type": "stream",
          "name": "stdout",
          "text": [
            "Para o caso em que LSTAT = 12.7, o modelo prevê que a mediana da taxa de ocupação é de [22.49]\n"
          ]
        }
      ]
    },
    {
      "cell_type": "code",
      "source": [
        "# Plots\n",
        "\n",
        "X_range = [ df['LSTAT'].min(), df['LSTAT'].max() ]\n",
        "y_range = [ df['TARGET'].min(), df['TARGET'].max() ]\n",
        "\n",
        "# Scatter plot\n",
        "scatter_regression = df.plot( kind = 'scatter', x = 'LSTAT', y = 'TARGET', xlim = X_range, ylim = y_range )\n",
        "\n",
        "# Regression Line\n",
        "previsoes = regressao_v1.predict(X)\n",
        "regression_line = scatter_regression.plot( df['LSTAT'], previsoes, color = 'cyan', linewidth = 2 )"
      ],
      "metadata": {
        "colab": {
          "base_uri": "https://localhost:8080/",
          "height": 283
        },
        "id": "48lcZgm8lyeb",
        "outputId": "73644466-3fbe-4bea-85fa-dcd281e9b642"
      },
      "execution_count": 82,
      "outputs": [
        {
          "output_type": "display_data",
          "data": {
            "text/plain": [
              "<Figure size 432x288 with 1 Axes>"
            ],
            "image/png": "[encoded data removed]"
          },
          "metadata": {
            "needs_background": "light"
          }
        }
      ]
    },
    {
      "cell_type": "markdown",
      "source": [
        "---\n",
        "Calculando os **resíduos**"
      ],
      "metadata": {
        "id": "6Lqyqt8KoOwS"
      }
    },
    {
      "cell_type": "code",
      "source": [
        "previsoes = regressao_v1.predict(X)\n",
        "\n",
        "# Residuos\n",
        "residuos = df['TARGET'] - previsoes"
      ],
      "metadata": {
        "id": "rf1l5fg4owOL"
      },
      "execution_count": 83,
      "outputs": []
    },
    {
      "cell_type": "code",
      "source": [
        "residuos"
      ],
      "metadata": {
        "colab": {
          "base_uri": "https://localhost:8080/"
        },
        "id": "zEVjy-euqqt2",
        "outputId": "1cd653f2-7091-4f0b-9aec-0b2945a2b87f"
      },
      "execution_count": 84,
      "outputs": [
        {
          "output_type": "execute_result",
          "data": {
            "text/plain": [
              "0      -5.822595\n",
              "1      -4.270390\n",
              "2       3.974858\n",
              "3       1.639304\n",
              "4       6.709922\n",
              "         ...    \n",
              "501    -2.966864\n",
              "502    -5.327393\n",
              "503    -5.295563\n",
              "504    -6.397521\n",
              "505   -15.167452\n",
              "Length: 506, dtype: float64"
            ]
          },
          "metadata": {},
          "execution_count": 84
        }
      ]
    },
    {
      "cell_type": "code",
      "source": [
        "residuos.describe().round(2)"
      ],
      "metadata": {
        "colab": {
          "base_uri": "https://localhost:8080/"
        },
        "id": "ExwglgaIqs4u",
        "outputId": "96925b90-73f1-453f-f84a-ad3b524b1dec"
      },
      "execution_count": 85,
      "outputs": [
        {
          "output_type": "execute_result",
          "data": {
            "text/plain": [
              "count    506.00\n",
              "mean       0.00\n",
              "std        6.21\n",
              "min      -15.17\n",
              "25%       -3.99\n",
              "50%       -1.32\n",
              "75%        2.03\n",
              "max       24.50\n",
              "dtype: float64"
            ]
          },
          "metadata": {},
          "execution_count": 85
        }
      ]
    },
    {
      "cell_type": "code",
      "source": [
        "# Normalizando os dados para plotagem\n",
        "residuos_normalized = (residuos - np.mean(residuos)) / np.std(residuos)\n",
        "\n",
        "# Plot\n",
        "residual_scatter_plot = plt.plot( df['LSTAT'], residuos_normalized, 'bp' )\n",
        "plt.grid()"
      ],
      "metadata": {
        "colab": {
          "base_uri": "https://localhost:8080/",
          "height": 265
        },
        "id": "0YZcPbbKpID4",
        "outputId": "64d6cd3e-3e50-4832-916f-9223e43008f8"
      },
      "execution_count": 86,
      "outputs": [
        {
          "output_type": "display_data",
          "data": {
            "text/plain": [
              "<Figure size 432x288 with 1 Axes>"
            ],
            "image/png": "[encoded data removed]"
          },
          "metadata": {
            "needs_background": "light"
          }
        }
      ]
    },
    {
      "cell_type": "markdown",
      "source": [
        "---\n",
        "Modelo de **Regressão Linear Simples com Scikit-Learn** \n",
        "\n",
        ">um pacote melhor para a linguagem Python do que StatsModels.\n",
        "\n",
        "https://scikit-learn.org/stable/modules/generated/sklearn.linear_model.LinearRegression.html\n"
      ],
      "metadata": {
        "id": "P4VfIFc2G1sA"
      }
    },
    {
      "cell_type": "code",
      "source": [
        "from sklearn import linear_model"
      ],
      "metadata": {
        "id": "jAvdhLXKH-H7"
      },
      "execution_count": 87,
      "outputs": []
    },
    {
      "cell_type": "code",
      "source": [
        "# O Scikit learn requer os dados em forma de matriz (por isso do reshape) e não em forma de vetor\n",
        "X = df['LSTAT'].values.reshape(( len(df), 1 ))    # matriz len(df) vs 1\n",
        "y = df['TARGET'].values    # a variável target pode ser um vetor"
      ],
      "metadata": {
        "id": "EsX2B6NhIf0N"
      },
      "execution_count": 88,
      "outputs": []
    },
    {
      "cell_type": "code",
      "source": [
        "# Criando o objeto\n",
        "regressao_skl = linear_model.LinearRegression( normalize = False, fit_intercept = True ) # fit_intercep retorna todos os parâmetros aprendidos durante o treinamento\n",
        "\n",
        "# Treinamento\n",
        "regressao_skl.fit(X, y)"
      ],
      "metadata": {
        "colab": {
          "base_uri": "https://localhost:8080/"
        },
        "id": "Yx6TwUIKIADV",
        "outputId": "c50be894-30ed-4557-b201-13eabd175f92"
      },
      "execution_count": 89,
      "outputs": [
        {
          "output_type": "execute_result",
          "data": {
            "text/plain": [
              "LinearRegression(normalize=False)"
            ]
          },
          "metadata": {},
          "execution_count": 89
        }
      ]
    },
    {
      "cell_type": "code",
      "source": [
        "# Mostrando os coeficientes aprendidos: coef e intercept (que são os coeficientes de regressão linear simples)\n",
        "print( regressao_skl.coef_ )\n",
        "print( regressao_skl.intercept_ )"
      ],
      "metadata": {
        "colab": {
          "base_uri": "https://localhost:8080/"
        },
        "id": "T0jqvTWiJ1zt",
        "outputId": "75f12b6c-d241-4921-bb80-e9e062878c9f"
      },
      "execution_count": 90,
      "outputs": [
        {
          "output_type": "stream",
          "name": "stdout",
          "text": [
            "[-0.95004935]\n",
            "34.5538408793831\n"
          ]
        }
      ]
    },
    {
      "cell_type": "code",
      "source": [
        "# Valores preditos\n",
        "pred_reg_skl = regressao_skl.predict(X)"
      ],
      "metadata": {
        "id": "mxLywQrvKWXr"
      },
      "execution_count": 91,
      "outputs": []
    },
    {
      "cell_type": "code",
      "source": [
        "# Passando a média de LSTAT como constante\n",
        "# E adicionando a constante 1 para se tornar uma matriz\n",
        "LM = np.mean( df['LSTAT'] ).round(1)\n",
        "Xp = np.array( LM ).reshape(-1, 1)\n",
        "\n",
        "print(f'Para o caso em que LSTAT = {LM}, o modelo prevê que a mediana da taxa de ocupação é de {regressao_skl.predict(Xp).round(2)}')"
      ],
      "metadata": {
        "colab": {
          "base_uri": "https://localhost:8080/"
        },
        "id": "MkSu2hUCKlc_",
        "outputId": "b9c2a5fb-d16c-4bbb-954e-913a60b5ab8b"
      },
      "execution_count": 92,
      "outputs": [
        {
          "output_type": "stream",
          "name": "stdout",
          "text": [
            "Para o caso em que LSTAT = 12.7, o modelo prevê que a mediana da taxa de ocupação é de [22.49]\n"
          ]
        }
      ]
    },
    {
      "cell_type": "code",
      "source": [
        "Xp"
      ],
      "metadata": {
        "colab": {
          "base_uri": "https://localhost:8080/"
        },
        "id": "qbn02R0TLWrO",
        "outputId": "fb381ea3-ca35-407c-90b7-7ab70362fd7c"
      },
      "execution_count": 93,
      "outputs": [
        {
          "output_type": "execute_result",
          "data": {
            "text/plain": [
              "array([[12.7]])"
            ]
          },
          "metadata": {},
          "execution_count": 93
        }
      ]
    },
    {
      "cell_type": "markdown",
      "source": [
        "---\n",
        "Em termos de comparação entre StatsModels e Scikit-Learn:\n",
        "\n",
        "```python\n",
        "# sklearn\n",
        "from sklearn import linear_model\n",
        "linear_regression_sk = linear_model.LinearRegression( normalize = False, fit_intercept = True)\n",
        "linear_regression_sk.fit( X, y )\n",
        "linear_regression_sk.predict( new_X ) \n",
        "```\n",
        "\n",
        "```python\n",
        "# StatsModels\n",
        "import statsmodels.api as sm\n",
        "linear_regression_sm = sm.OLS( y, sm.add_constant(X) )\n",
        "linear_regression_sm.fit()\n",
        "linear_regression_sm.predict( new_x )\n",
        "```\n",
        "\n",
        ">Em termos de velocidade, o Sk Learn é mais eficiente.\n",
        "\n",
        ">Em termos de interpretação estatística, o StatsModels mostra-se mais claro."
      ],
      "metadata": {
        "id": "tRWOVK8xLn-X"
      }
    },
    {
      "cell_type": "markdown",
      "source": [
        "---\n",
        "Métodos de minimização da Cost Function (função que calcula o erro):\n",
        "\n",
        "Ex.\n",
        "- Pseudo-inversão\n",
        "- Fatorização\n",
        "- Gradiente Descendente\n",
        "\n",
        "Relembrando as métricas de avaliação dos erros:\n",
        "\n",
        "<img src=\"https://4.bp.blogspot.com/-wG7IbjTfE6k/XGUvqm7TCVI/AAAAAAAAAZU/vpH1kuKTIooKTcVlnm1EVRCXLVZM9cPNgCLcBGAs/s1600/formula-MAE-MSE-RMSE-RSquared.JPG\">\n",
        "\n",
        "Vale lembrar que ao elevarmos ao quadrado ou usarmos módulo, evitamos que os erros positivos (ex. +10) compense o erro negativo (-10), e vice versa.\n",
        "\n",
        "> Em geral, preferimos o 'erro ao quadrado' ao invés do erro absoluto, pois com a diferença ao quadrado, temos a minimização mais próxima da média, diferente da 'diferença absoluta' em que a otimização se aproxima da mediana. Porém, caso haja outliers na base de dados, a média seria afetada."
      ],
      "metadata": {
        "id": "WyGHlBZ7bSQx"
      }
    },
    {
      "cell_type": "markdown",
      "source": [
        "---\n",
        "<h3>Minimizando a cost function com Pseudo Inversão</h3>\n",
        "\n",
        "<img src=\"https://res.cloudinary.com/dyd911kmh/image/upload/v1633656949/moore-penrose-pseudoinverse-matrix_vrmr0j.png\">"
      ],
      "metadata": {
        "id": "J-jo_8KjgWkX"
      }
    },
    {
      "cell_type": "code",
      "source": [
        "# Transformando LSTAT em formato de matriz\n",
        "X = df['LSTAT'].values.reshape(( len(df), 1 ))\n",
        "# Adicionando a coluna de \"1's\" em X  \n",
        "Xb = np.column_stack(( X, np.ones( len(df) ) ))\n",
        "# Vetor da variável target\n",
        "y = df['TARGET'].values"
      ],
      "metadata": {
        "id": "bijRhvplgcc0"
      },
      "execution_count": 94,
      "outputs": []
    },
    {
      "cell_type": "code",
      "source": [
        "# Resolvendo a equação utilizando numpy\n",
        "np.linalg.solve( np.dot(Xb.T, Xb), np.dot(Xb.T, y) )"
      ],
      "metadata": {
        "colab": {
          "base_uri": "https://localhost:8080/"
        },
        "id": "D6ABfQVsjsdS",
        "outputId": "0faf6542-1eb7-4122-ea22-a87522d52296"
      },
      "execution_count": 95,
      "outputs": [
        {
          "output_type": "execute_result",
          "data": {
            "text/plain": [
              "array([-0.95004935, 34.55384088])"
            ]
          },
          "metadata": {},
          "execution_count": 95
        }
      ]
    },
    {
      "cell_type": "markdown",
      "source": [
        "---\n",
        "<h3>Minimizando a cost function com **Gradient Descent**</h3>\n",
        "\n",
        "* Melhor opção na maioria dos casos\n",
        "\n",
        "No começo, precisamos **inicilizar** os valores dos coeficientes, para que o algoritmo possa \"caminhar\" rumo ao local com o menor erro.<br>\n",
        "Também precisaremos fornecer o tamanho da \"**passada**\" da \"caminhada\", ou velocidade de treinamento. Caso a passada seja muito pequena, corremos o risco de ficarmos em um local de platô ou mínimo local. Se a passada for muito grande, podemos pular o local ideal.<br>\n",
        "Por fim, o cálculo (**gradiente**) da diferença entre a passada anterior e a passada atual atualizará os coeficientes na próxima passada, a fim de **minimizar os erros**. Se essa nova passada for algo bom, o coeficiente é atualizado.\n",
        "\n",
        "<img src=\"https://miro.medium.com/max/1400/1*tQTcGTLZqnI5rp3JYO_4NA.png\">"
      ],
      "metadata": {
        "id": "FoUPPChMgaiv"
      }
    },
    {
      "cell_type": "markdown",
      "source": [
        "Calculando o gradiente descendente utilizando Python:\n",
        "\n",
        "<img src=\"https://media.geeksforgeeks.org/wp-content/uploads/20200611183120/1406-7.png\">\n",
        "\n",
        "- Precisamos encontrar os melhores pesos/coeficientes (theta)\n",
        "- Alpha é o valor da taxa de aprendizado"
      ],
      "metadata": {
        "id": "g4DKhsecmyu4"
      }
    },
    {
      "cell_type": "code",
      "source": [
        "# Definindo x e y\n",
        "\n",
        "X = df['RM'].values.reshape(( len(df), 1 )) \n",
        "X = np.column_stack(( X,np.ones( len(df) ) )) \n",
        "y = df['TARGET'].values "
      ],
      "metadata": {
        "id": "JE7_8Mclm2G0"
      },
      "execution_count": 131,
      "outputs": []
    },
    {
      "cell_type": "code",
      "source": [
        "# Random init\n",
        "import random\n",
        "def rand_init( w ):\n",
        "  return np.array( [np.random.normal() for peso in range(w)] )\n",
        "\n",
        "# Valores aproximados para X e y\n",
        "def hypothesis( X, w ):\n",
        "  return np.dot( X, w )\n",
        "\n",
        "# Lost function\n",
        "def loss_func( X, w, y ):\n",
        "  return hypothesis( X, w ) - y\n",
        "\n",
        "# Squared Loss\n",
        "def squared_loss( X, w, y ):\n",
        "  return loss_func( X, w, y ) ** 2\n",
        "\n",
        "# Cálculo gradient\n",
        "def gradient( X, w, y ):\n",
        "  gradients = list()\n",
        "  for peso in range( len(w) ):\n",
        "    gradients.append( np.sum( loss_func( X, w, y ) * X[:, peso] ) / float(len(y)) )\n",
        "  return gradients\n",
        "\n",
        "# Update dos coeficientes\n",
        "def update(X,w,y, alpha = 0.01):\n",
        "    return [t - alpha*g for t, g in zip(w, gradient(X,w,y))]\n",
        "\n",
        "# Otimização do modelo\n",
        "def optimize( X, y, alpha = 0.01, eta = 10 ** -12, iterations = 1000 ):\n",
        "    w = rand_init( X.shape[1] )\n",
        "    path = list()\n",
        "    for k in range(iterations):\n",
        "        SSL = np.sum( squared_loss( X, w, y ) )\n",
        "        new_w = update( X, w, y, alpha = alpha )\n",
        "        new_SSL = np.sum( squared_loss( X, new_w, y ) )\n",
        "        w = new_w\n",
        "        if k >= 5 and ( new_SSL - SSL <= eta and new_SSL - SSL >= -eta ):\n",
        "            path.append(new_SSL)\n",
        "            return w, path\n",
        "        if k % ( iterations / 20 ) == 0:\n",
        "            path.append( new_SSL )\n",
        "    return w, path"
      ],
      "metadata": {
        "id": "AGsuQ2DxqGtL"
      },
      "execution_count": 132,
      "outputs": []
    },
    {
      "cell_type": "code",
      "source": [
        "# Definindo o valor de alfa\n",
        "# Alfa é chamado de taxa de aprendizagem\n",
        "alpha = 0.005\n",
        "\n",
        "# Otimizando a Cost Function\n",
        "w, path = optimize( X, y, alpha, eta = 10**-12, iterations = 50000 )"
      ],
      "metadata": {
        "id": "tjNIf5SlsRyl"
      },
      "execution_count": 134,
      "outputs": []
    },
    {
      "cell_type": "code",
      "source": [
        "# Imprimindo o resultado\n",
        "print(f'Valor dos Coeficientes ao final do treino {w}')"
      ],
      "metadata": {
        "colab": {
          "base_uri": "https://localhost:8080/"
        },
        "id": "VpnGrzfosTD0",
        "outputId": "6f489338-29f0-4059-d060-e97880fcddca"
      },
      "execution_count": 135,
      "outputs": [
        {
          "output_type": "stream",
          "name": "stdout",
          "text": [
            "Valor dos Coeficientes ao final do treino [8.830965798969354, -32.94584699687458]\n"
          ]
        }
      ]
    },
    {
      "cell_type": "code",
      "source": [
        "# Imprimindo o resultado\n",
        "print(f'Caminho do Gradiente mostrando o erro ao quadrado\\n{path}')"
      ],
      "metadata": {
        "colab": {
          "base_uri": "https://localhost:8080/"
        },
        "id": "5-_TPWWNiDjS",
        "outputId": "bc515abe-35c8-4e0f-bb3e-8acaed22b4bd"
      },
      "execution_count": 139,
      "outputs": [
        {
          "output_type": "stream",
          "name": "stdout",
          "text": [
            "Caminho do Gradiente mostrando o erro ao quadrado\n",
            "[79685.39537180265, 27667.507172348865, 26212.14227014633, 25134.627451392018, 24336.86313614842, 23746.218913350778, 23308.921090850767, 22985.157007190603, 22745.450389698137, 22567.97776265408, 22436.581584778814, 22339.299227224346, 22267.27386663633, 22213.948138331165, 22174.467137804957, 22145.236418373795, 22123.594743971553, 22107.571803720773, 22095.708830019743, 22086.925788778335]\n"
          ]
        }
      ]
    }
  ]
}