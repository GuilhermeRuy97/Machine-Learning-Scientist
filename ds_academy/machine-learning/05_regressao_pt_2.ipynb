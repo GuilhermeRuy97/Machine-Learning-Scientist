{
  "nbformat": 4,
  "nbformat_minor": 0,
  "metadata": {
    "colab": {
      "provenance": []
    },
    "kernelspec": {
      "name": "python3",
      "display_name": "Python 3"
    },
    "language_info": {
      "name": "python"
    },
    "gpuClass": "standard"
  },
  "cells": [
    {
      "cell_type": "markdown",
      "source": [
        "Construindo um modelo que seja capaz de prever a taxa média de ocupação por proprietários de casas na região de Boston (EUA).\n",
        "\n",
        "Variável target: Valor numérico que representa a mediana da taxa de ocupação (em $1000s)\n",
        "\n",
        "Dataset: https://www.kaggle.com/competitions/boston-housing\n",
        "\n",
        "<img src=\"https://cdn.vox-cdn.com/thumbor/ytWQXLrdk_BlB8dVhImYurfR3NY=/0x0:5854x3903/1200x675/filters:focal(2459x1484:3395x2420)/cdn.vox-cdn.com/uploads/chorus_image/image/63307699/shutterstock_1524900662.15.jpg\">\n",
        "\n",
        "---"
      ],
      "metadata": {
        "id": "z4pXa8y_lxhN"
      }
    },
    {
      "cell_type": "markdown",
      "source": [
        "<h3>Data description</h3>\n",
        "\n",
        "The Boston data frame has 506 rows and 14 columns.\n",
        "\n",
        "This data frame contains the following columns:\n",
        "\n",
        "*crim*\n",
        "  * per capita crime rate by town.\n",
        "\n",
        "*zn*\n",
        "  * proportion of residential land zoned for lots over 25,000 sq.ft.\n",
        "\n",
        "*indus*\n",
        "  * proportion of non-retail business acres per town.\n",
        "\n",
        "*chas*\n",
        "  * Charles River dummy variable (= 1 if tract bounds river; 0 otherwise).\n",
        "\n",
        "*nox*\n",
        "  * nitrogen oxides concentration (parts per 10 million).\n",
        "\n",
        "*rm*\n",
        "  * average number of rooms per dwelling.\n",
        "\n",
        "*age*\n",
        "  * proportion of owner-occupied units built prior to 1940.\n",
        "\n",
        "*dis*\n",
        "  * weighted mean of distances to five Boston employment centres.\n",
        "\n",
        "*rad*\n",
        "  * index of accessibility to radial highways.\n",
        "\n",
        "*tax*\n",
        "  * full-value property-tax rate per \\$10,000.\n",
        "\n",
        "*ptratio*\n",
        "  * pupil-teacher ratio by town.\n",
        "\n",
        "*black*\n",
        "  * 1000(Bk - 0.63)^2 where Bk is the proportion of blacks by town.\n",
        "\n",
        "*lstat*\n",
        "  * lower status of the population (percent).\n",
        "\n",
        "*medv*\n",
        "  * median value of owner-occupied homes in \\$1000s.\n",
        "\n",
        "---\n",
        "\n",
        "*Source\n",
        "Harrison, D. and Rubinfeld, D.L. (1978) Hedonic prices and the demand for clean air. J. Environ. Economics and Management 5, 81–102.*\n",
        "\n",
        "*Belsley D.A., Kuh, E. and Welsch, R.E. (1980) Regression Diagnostics. Identifying Influential Data and Sources of Collinearity. New York: Wiley.*"
      ],
      "metadata": {
        "id": "lnGsjLtcnct8"
      }
    },
    {
      "cell_type": "markdown",
      "source": [
        "**Warning**\n",
        "\n",
        "The Boston housing prices dataset has an ethical problem: as investigated in [1], the authors of this dataset engineered a non-invertible variable “B” assuming that racial self-segregation had a positive impact on house prices [2].\n",
        "\n",
        "[1] https://medium.com/@docintangible/racist-data-destruction-113e3eff54a8\n",
        "\n",
        "[2] https://www.researchgate.net/publication/4974606_Hedonic_housing_prices_and_the_demand_for_clean_air\n",
        "\n",
        "---"
      ],
      "metadata": {
        "id": "wspcwhra-UQL"
      }
    },
    {
      "cell_type": "code",
      "source": [
        "import pandas            as pd\n",
        "import numpy             as np\n",
        "import matplotlib.pyplot as plt\n",
        "import matplotlib        as mpl"
      ],
      "metadata": {
        "id": "aRKBVzom9ljR"
      },
      "execution_count": 1,
      "outputs": []
    },
    {
      "cell_type": "code",
      "source": [
        "# Desabilitando o Warning dito acima\n",
        "import warnings\n",
        "warnings.filterwarnings(\"ignore\")\n",
        "\n",
        "# Load\n",
        "from sklearn.datasets import load_boston\n",
        "boston = load_boston()\n",
        "\n",
        "# DataFrame\n",
        "df = pd.DataFrame( boston.data, columns = boston.feature_names )\n",
        "df['TARGET'] = boston.target"
      ],
      "metadata": {
        "id": "fU3Lx9mTE_97"
      },
      "execution_count": 2,
      "outputs": []
    },
    {
      "cell_type": "markdown",
      "source": [
        "# Análise Exploratória"
      ],
      "metadata": {
        "id": "cf1VetiUIUWW"
      }
    },
    {
      "cell_type": "code",
      "source": [
        "df.head()"
      ],
      "metadata": {
        "colab": {
          "base_uri": "https://localhost:8080/",
          "height": 206
        },
        "id": "P_li4AqQFvEL",
        "outputId": "23fda5ff-6f57-48e2-a801-41cd3cd5c200"
      },
      "execution_count": 3,
      "outputs": [
        {
          "output_type": "execute_result",
          "data": {
            "text/plain": [
              "      CRIM    ZN  INDUS  CHAS    NOX     RM   AGE     DIS  RAD    TAX  \\\n",
              "0  0.00632  18.0   2.31   0.0  0.538  6.575  65.2  4.0900  1.0  296.0   \n",
              "1  0.02731   0.0   7.07   0.0  0.469  6.421  78.9  4.9671  2.0  242.0   \n",
              "2  0.02729   0.0   7.07   0.0  0.469  7.185  61.1  4.9671  2.0  242.0   \n",
              "3  0.03237   0.0   2.18   0.0  0.458  6.998  45.8  6.0622  3.0  222.0   \n",
              "4  0.06905   0.0   2.18   0.0  0.458  7.147  54.2  6.0622  3.0  222.0   \n",
              "\n",
              "   PTRATIO       B  LSTAT  TARGET  \n",
              "0     15.3  396.90   4.98    24.0  \n",
              "1     17.8  396.90   9.14    21.6  \n",
              "2     17.8  392.83   4.03    34.7  \n",
              "3     18.7  394.63   2.94    33.4  \n",
              "4     18.7  396.90   5.33    36.2  "
            ],
            "text/html": [
              "\n",
              "  <div id=\"df-ffc3fa7f-10f0-42fe-b5af-d9b3456a36fe\">\n",
              "    <div class=\"colab-df-container\">\n",
              "      <div>\n",
              "<style scoped>\n",
              "    .dataframe tbody tr th:only-of-type {\n",
              "        vertical-align: middle;\n",
              "    }\n",
              "\n",
              "    .dataframe tbody tr th {\n",
              "        vertical-align: top;\n",
              "    }\n",
              "\n",
              "    .dataframe thead th {\n",
              "        text-align: right;\n",
              "    }\n",
              "</style>\n",
              "<table border=\"1\" class=\"dataframe\">\n",
              "  <thead>\n",
              "    <tr style=\"text-align: right;\">\n",
              "      <th></th>\n",
              "      <th>CRIM</th>\n",
              "      <th>ZN</th>\n",
              "      <th>INDUS</th>\n",
              "      <th>CHAS</th>\n",
              "      <th>NOX</th>\n",
              "      <th>RM</th>\n",
              "      <th>AGE</th>\n",
              "      <th>DIS</th>\n",
              "      <th>RAD</th>\n",
              "      <th>TAX</th>\n",
              "      <th>PTRATIO</th>\n",
              "      <th>B</th>\n",
              "      <th>LSTAT</th>\n",
              "      <th>TARGET</th>\n",
              "    </tr>\n",
              "  </thead>\n",
              "  <tbody>\n",
              "    <tr>\n",
              "      <th>0</th>\n",
              "      <td>0.00632</td>\n",
              "      <td>18.0</td>\n",
              "      <td>2.31</td>\n",
              "      <td>0.0</td>\n",
              "      <td>0.538</td>\n",
              "      <td>6.575</td>\n",
              "      <td>65.2</td>\n",
              "      <td>4.0900</td>\n",
              "      <td>1.0</td>\n",
              "      <td>296.0</td>\n",
              "      <td>15.3</td>\n",
              "      <td>396.90</td>\n",
              "      <td>4.98</td>\n",
              "      <td>24.0</td>\n",
              "    </tr>\n",
              "    <tr>\n",
              "      <th>1</th>\n",
              "      <td>0.02731</td>\n",
              "      <td>0.0</td>\n",
              "      <td>7.07</td>\n",
              "      <td>0.0</td>\n",
              "      <td>0.469</td>\n",
              "      <td>6.421</td>\n",
              "      <td>78.9</td>\n",
              "      <td>4.9671</td>\n",
              "      <td>2.0</td>\n",
              "      <td>242.0</td>\n",
              "      <td>17.8</td>\n",
              "      <td>396.90</td>\n",
              "      <td>9.14</td>\n",
              "      <td>21.6</td>\n",
              "    </tr>\n",
              "    <tr>\n",
              "      <th>2</th>\n",
              "      <td>0.02729</td>\n",
              "      <td>0.0</td>\n",
              "      <td>7.07</td>\n",
              "      <td>0.0</td>\n",
              "      <td>0.469</td>\n",
              "      <td>7.185</td>\n",
              "      <td>61.1</td>\n",
              "      <td>4.9671</td>\n",
              "      <td>2.0</td>\n",
              "      <td>242.0</td>\n",
              "      <td>17.8</td>\n",
              "      <td>392.83</td>\n",
              "      <td>4.03</td>\n",
              "      <td>34.7</td>\n",
              "    </tr>\n",
              "    <tr>\n",
              "      <th>3</th>\n",
              "      <td>0.03237</td>\n",
              "      <td>0.0</td>\n",
              "      <td>2.18</td>\n",
              "      <td>0.0</td>\n",
              "      <td>0.458</td>\n",
              "      <td>6.998</td>\n",
              "      <td>45.8</td>\n",
              "      <td>6.0622</td>\n",
              "      <td>3.0</td>\n",
              "      <td>222.0</td>\n",
              "      <td>18.7</td>\n",
              "      <td>394.63</td>\n",
              "      <td>2.94</td>\n",
              "      <td>33.4</td>\n",
              "    </tr>\n",
              "    <tr>\n",
              "      <th>4</th>\n",
              "      <td>0.06905</td>\n",
              "      <td>0.0</td>\n",
              "      <td>2.18</td>\n",
              "      <td>0.0</td>\n",
              "      <td>0.458</td>\n",
              "      <td>7.147</td>\n",
              "      <td>54.2</td>\n",
              "      <td>6.0622</td>\n",
              "      <td>3.0</td>\n",
              "      <td>222.0</td>\n",
              "      <td>18.7</td>\n",
              "      <td>396.90</td>\n",
              "      <td>5.33</td>\n",
              "      <td>36.2</td>\n",
              "    </tr>\n",
              "  </tbody>\n",
              "</table>\n",
              "</div>\n",
              "      <button class=\"colab-df-convert\" onclick=\"convertToInteractive('df-ffc3fa7f-10f0-42fe-b5af-d9b3456a36fe')\"\n",
              "              title=\"Convert this dataframe to an interactive table.\"\n",
              "              style=\"display:none;\">\n",
              "        \n",
              "  <svg xmlns=\"http://www.w3.org/2000/svg\" height=\"24px\"viewBox=\"0 0 24 24\"\n",
              "       width=\"24px\">\n",
              "    <path d=\"M0 0h24v24H0V0z\" fill=\"none\"/>\n",
              "    <path d=\"M18.56 5.44l.94 2.06.94-2.06 2.06-.94-2.06-.94-.94-2.06-.94 2.06-2.06.94zm-11 1L8.5 8.5l.94-2.06 2.06-.94-2.06-.94L8.5 2.5l-.94 2.06-2.06.94zm10 10l.94 2.06.94-2.06 2.06-.94-2.06-.94-.94-2.06-.94 2.06-2.06.94z\"/><path d=\"M17.41 7.96l-1.37-1.37c-.4-.4-.92-.59-1.43-.59-.52 0-1.04.2-1.43.59L10.3 9.45l-7.72 7.72c-.78.78-.78 2.05 0 2.83L4 21.41c.39.39.9.59 1.41.59.51 0 1.02-.2 1.41-.59l7.78-7.78 2.81-2.81c.8-.78.8-2.07 0-2.86zM5.41 20L4 18.59l7.72-7.72 1.47 1.35L5.41 20z\"/>\n",
              "  </svg>\n",
              "      </button>\n",
              "      \n",
              "  <style>\n",
              "    .colab-df-container {\n",
              "      display:flex;\n",
              "      flex-wrap:wrap;\n",
              "      gap: 12px;\n",
              "    }\n",
              "\n",
              "    .colab-df-convert {\n",
              "      background-color: #E8F0FE;\n",
              "      border: none;\n",
              "      border-radius: 50%;\n",
              "      cursor: pointer;\n",
              "      display: none;\n",
              "      fill: #1967D2;\n",
              "      height: 32px;\n",
              "      padding: 0 0 0 0;\n",
              "      width: 32px;\n",
              "    }\n",
              "\n",
              "    .colab-df-convert:hover {\n",
              "      background-color: #E2EBFA;\n",
              "      box-shadow: 0px 1px 2px rgba(60, 64, 67, 0.3), 0px 1px 3px 1px rgba(60, 64, 67, 0.15);\n",
              "      fill: #174EA6;\n",
              "    }\n",
              "\n",
              "    [theme=dark] .colab-df-convert {\n",
              "      background-color: #3B4455;\n",
              "      fill: #D2E3FC;\n",
              "    }\n",
              "\n",
              "    [theme=dark] .colab-df-convert:hover {\n",
              "      background-color: #434B5C;\n",
              "      box-shadow: 0px 1px 3px 1px rgba(0, 0, 0, 0.15);\n",
              "      filter: drop-shadow(0px 1px 2px rgba(0, 0, 0, 0.3));\n",
              "      fill: #FFFFFF;\n",
              "    }\n",
              "  </style>\n",
              "\n",
              "      <script>\n",
              "        const buttonEl =\n",
              "          document.querySelector('#df-ffc3fa7f-10f0-42fe-b5af-d9b3456a36fe button.colab-df-convert');\n",
              "        buttonEl.style.display =\n",
              "          google.colab.kernel.accessAllowed ? 'block' : 'none';\n",
              "\n",
              "        async function convertToInteractive(key) {\n",
              "          const element = document.querySelector('#df-ffc3fa7f-10f0-42fe-b5af-d9b3456a36fe');\n",
              "          const dataTable =\n",
              "            await google.colab.kernel.invokeFunction('convertToInteractive',\n",
              "                                                     [key], {});\n",
              "          if (!dataTable) return;\n",
              "\n",
              "          const docLinkHtml = 'Like what you see? Visit the ' +\n",
              "            '<a target=\"_blank\" href=https://colab.research.google.com/notebooks/data_table.ipynb>data table notebook</a>'\n",
              "            + ' to learn more about interactive tables.';\n",
              "          element.innerHTML = '';\n",
              "          dataTable['output_type'] = 'display_data';\n",
              "          await google.colab.output.renderOutput(dataTable, element);\n",
              "          const docLink = document.createElement('div');\n",
              "          docLink.innerHTML = docLinkHtml;\n",
              "          element.appendChild(docLink);\n",
              "        }\n",
              "      </script>\n",
              "    </div>\n",
              "  </div>\n",
              "  "
            ]
          },
          "metadata": {},
          "execution_count": 3
        }
      ]
    },
    {
      "cell_type": "code",
      "source": [
        "# Estatística da variável target\n",
        "df['TARGET'].describe()"
      ],
      "metadata": {
        "colab": {
          "base_uri": "https://localhost:8080/"
        },
        "id": "7w9ImqU5_O8u",
        "outputId": "c25f458f-c77a-4f29-ea89-7e1e2718288d"
      },
      "execution_count": 4,
      "outputs": [
        {
          "output_type": "execute_result",
          "data": {
            "text/plain": [
              "count    506.000000\n",
              "mean      22.532806\n",
              "std        9.197104\n",
              "min        5.000000\n",
              "25%       17.025000\n",
              "50%       21.200000\n",
              "75%       25.000000\n",
              "max       50.000000\n",
              "Name: TARGET, dtype: float64"
            ]
          },
          "metadata": {},
          "execution_count": 4
        }
      ]
    },
    {
      "cell_type": "code",
      "source": [
        "# Valor medio\n",
        "valor_medio_previsao = df['TARGET'].mean()\n",
        "print(f'Valor medio = {valor_medio_previsao:.2f}')"
      ],
      "metadata": {
        "colab": {
          "base_uri": "https://localhost:8080/"
        },
        "id": "CgxI2zxLGLQo",
        "outputId": "0ceff4d6-8850-4946-fa16-5505204ecc4c"
      },
      "execution_count": 5,
      "outputs": [
        {
          "output_type": "stream",
          "name": "stdout",
          "text": [
            "Valor medio = 22.53\n"
          ]
        }
      ]
    },
    {
      "cell_type": "code",
      "source": [
        "# Cálculo do SSE para verificar se os valores são próximos da média\n",
        "# (sum of squares for error) -> (previsto - observado)^2\n",
        "sse_series = pd.Series( valor_medio_previsao - df['TARGET'] ) ** 2\n",
        "SSE = sum(sse_series)\n",
        "\n",
        "print(f'Sum of Squared errors = {SSE:.2f}')"
      ],
      "metadata": {
        "colab": {
          "base_uri": "https://localhost:8080/"
        },
        "id": "x2RfRUypIiyT",
        "outputId": "cbe9ba5c-8598-41b1-bf4a-62cc14b6071b"
      },
      "execution_count": 6,
      "outputs": [
        {
          "output_type": "stream",
          "name": "stdout",
          "text": [
            "Sum of Squared errors = 42716.30\n"
          ]
        }
      ]
    },
    {
      "cell_type": "code",
      "source": [
        "# Verificando a frequência dos erros\n",
        "sse_series.plot( kind = 'hist' )\n",
        "plt.grid(True)"
      ],
      "metadata": {
        "colab": {
          "base_uri": "https://localhost:8080/",
          "height": 265
        },
        "id": "mt-QOKjVJm44",
        "outputId": "c962fd6c-7e73-4955-90e7-3dad188c632a"
      },
      "execution_count": 7,
      "outputs": [
        {
          "output_type": "display_data",
          "data": {
            "text/plain": [
              "<Figure size 432x288 with 1 Axes>"
            ],
            "image/png": "[encoded data removed]"
          },
          "metadata": {
            "needs_background": "light"
          }
        }
      ]
    },
    {
      "cell_type": "markdown",
      "source": [
        "Nota-se que a maioria dos erros são pequenos, o que indica que os dados se aproximam da média. O que poderá ser comprovado pelo teorema central do limite, já que quando o tamanho da amostra aumenta, a distribuição amostral da sua média se aproxima cada vez mais de uma distribuição normal."
      ],
      "metadata": {
        "id": "KEZYfh0pJ9gx"
      }
    },
    {
      "cell_type": "code",
      "source": [
        "# Correlação entre as variáveis\n",
        "import seaborn as sns\n",
        "\n",
        "plt.figure( figsize = (12,12) )\n",
        "sns.heatmap( df.corr().round(2), annot = True )"
      ],
      "metadata": {
        "colab": {
          "base_uri": "https://localhost:8080/",
          "height": 721
        },
        "id": "2qZ0g5mHXm4X",
        "outputId": "5f4c2c14-0826-4d3f-d23e-cf70e17af9d2"
      },
      "execution_count": 8,
      "outputs": [
        {
          "output_type": "execute_result",
          "data": {
            "text/plain": [
              "<matplotlib.axes._subplots.AxesSubplot at 0x7ff125e21f40>"
            ]
          },
          "metadata": {},
          "execution_count": 8
        },
        {
          "output_type": "display_data",
          "data": {
            "text/plain": [
              "<Figure size 864x864 with 2 Axes>"
            ],
            "image/png": "[encoded data removed]"
          },
          "metadata": {
            "needs_background": "light"
          }
        }
      ]
    },
    {
      "cell_type": "markdown",
      "source": [
        " ---\n",
        "\n",
        "Realizando uma **regressão linear simples** para verificar se a variável 'LSTAT' (lower status of the population (percent)) tem correlação no preço da habitação."
      ],
      "metadata": {
        "id": "DtX6U8eGKkKK"
      }
    },
    {
      "cell_type": "code",
      "source": [
        "# Desvio padrão da variável 'crim'\n",
        "np.std(df['LSTAT'])"
      ],
      "metadata": {
        "colab": {
          "base_uri": "https://localhost:8080/"
        },
        "id": "IzgEQ4S3K1fc",
        "outputId": "415ad304-1112-4a4f-a6fc-6b0d9f5795a4"
      },
      "execution_count": 9,
      "outputs": [
        {
          "output_type": "execute_result",
          "data": {
            "text/plain": [
              "7.134001636650485"
            ]
          },
          "metadata": {},
          "execution_count": 9
        }
      ]
    },
    {
      "cell_type": "code",
      "source": [
        "# Correlação\n",
        "from scipy.stats.stats import pearsonr\n",
        "\n",
        "pearsonr( df['LSTAT'], df['TARGET'] )[0]"
      ],
      "metadata": {
        "colab": {
          "base_uri": "https://localhost:8080/"
        },
        "id": "qlGYzqBdXBMO",
        "outputId": "41a0a4a6-2d06-49eb-a89c-2bf7708a388a"
      },
      "execution_count": 10,
      "outputs": [
        {
          "output_type": "execute_result",
          "data": {
            "text/plain": [
              "-0.737662726174015"
            ]
          },
          "metadata": {},
          "execution_count": 10
        }
      ]
    },
    {
      "cell_type": "markdown",
      "source": [
        "Ou seja, a variável LSTAT influencia negativamente a variável TARGET.\n",
        "\n",
        "OBS: Porém, não é porque LSTAT acontece junto de TARGET que LSTAT cause TARGET (correlação e causalidade)."
      ],
      "metadata": {
        "id": "WVn7QrvBZ-mF"
      }
    },
    {
      "cell_type": "markdown",
      "source": [
        "---\n",
        "\n",
        "Construindo um modelo de regressão linear com o **StatsModels**\n",
        "\n",
        "1. https://www.statsmodels.org/stable/index.html\n",
        "2. https://www.statsmodels.org/stable/py-modindex.html"
      ],
      "metadata": {
        "id": "5DHacufWeA5q"
      }
    },
    {
      "cell_type": "code",
      "source": [
        "import statsmodels.api as sm"
      ],
      "metadata": {
        "id": "9CpzZlUAeT3f"
      },
      "execution_count": 11,
      "outputs": []
    },
    {
      "cell_type": "code",
      "source": [
        "# Variáveis dependente e independente\n",
        "X = df['LSTAT']\n",
        "y = df['TARGET']\n",
        "\n",
        "# O StatsModels requer uma matriz de entrada (variáveis explanatórias e os valores constantes)\n",
        "# Os valores constantes são os coeficientes aprendidos durante o treinamento\n",
        "# Por isso, precisamos adicionar os valores dos coeficientes à variável X\n",
        "X = sm.add_constant(X)\n",
        "\n",
        "X.head()"
      ],
      "metadata": {
        "colab": {
          "base_uri": "https://localhost:8080/",
          "height": 206
        },
        "id": "6fOYi0Nfey8y",
        "outputId": "3d1a50b8-3168-46a2-84c7-e792ed7dcd26"
      },
      "execution_count": 12,
      "outputs": [
        {
          "output_type": "execute_result",
          "data": {
            "text/plain": [
              "   const  LSTAT\n",
              "0    1.0   4.98\n",
              "1    1.0   9.14\n",
              "2    1.0   4.03\n",
              "3    1.0   2.94\n",
              "4    1.0   5.33"
            ],
            "text/html": [
              "\n",
              "  <div id=\"df-ed848798-0d48-4847-8647-246428e7bf94\">\n",
              "    <div class=\"colab-df-container\">\n",
              "      <div>\n",
              "<style scoped>\n",
              "    .dataframe tbody tr th:only-of-type {\n",
              "        vertical-align: middle;\n",
              "    }\n",
              "\n",
              "    .dataframe tbody tr th {\n",
              "        vertical-align: top;\n",
              "    }\n",
              "\n",
              "    .dataframe thead th {\n",
              "        text-align: right;\n",
              "    }\n",
              "</style>\n",
              "<table border=\"1\" class=\"dataframe\">\n",
              "  <thead>\n",
              "    <tr style=\"text-align: right;\">\n",
              "      <th></th>\n",
              "      <th>const</th>\n",
              "      <th>LSTAT</th>\n",
              "    </tr>\n",
              "  </thead>\n",
              "  <tbody>\n",
              "    <tr>\n",
              "      <th>0</th>\n",
              "      <td>1.0</td>\n",
              "      <td>4.98</td>\n",
              "    </tr>\n",
              "    <tr>\n",
              "      <th>1</th>\n",
              "      <td>1.0</td>\n",
              "      <td>9.14</td>\n",
              "    </tr>\n",
              "    <tr>\n",
              "      <th>2</th>\n",
              "      <td>1.0</td>\n",
              "      <td>4.03</td>\n",
              "    </tr>\n",
              "    <tr>\n",
              "      <th>3</th>\n",
              "      <td>1.0</td>\n",
              "      <td>2.94</td>\n",
              "    </tr>\n",
              "    <tr>\n",
              "      <th>4</th>\n",
              "      <td>1.0</td>\n",
              "      <td>5.33</td>\n",
              "    </tr>\n",
              "  </tbody>\n",
              "</table>\n",
              "</div>\n",
              "      <button class=\"colab-df-convert\" onclick=\"convertToInteractive('df-ed848798-0d48-4847-8647-246428e7bf94')\"\n",
              "              title=\"Convert this dataframe to an interactive table.\"\n",
              "              style=\"display:none;\">\n",
              "        \n",
              "  <svg xmlns=\"http://www.w3.org/2000/svg\" height=\"24px\"viewBox=\"0 0 24 24\"\n",
              "       width=\"24px\">\n",
              "    <path d=\"M0 0h24v24H0V0z\" fill=\"none\"/>\n",
              "    <path d=\"M18.56 5.44l.94 2.06.94-2.06 2.06-.94-2.06-.94-.94-2.06-.94 2.06-2.06.94zm-11 1L8.5 8.5l.94-2.06 2.06-.94-2.06-.94L8.5 2.5l-.94 2.06-2.06.94zm10 10l.94 2.06.94-2.06 2.06-.94-2.06-.94-.94-2.06-.94 2.06-2.06.94z\"/><path d=\"M17.41 7.96l-1.37-1.37c-.4-.4-.92-.59-1.43-.59-.52 0-1.04.2-1.43.59L10.3 9.45l-7.72 7.72c-.78.78-.78 2.05 0 2.83L4 21.41c.39.39.9.59 1.41.59.51 0 1.02-.2 1.41-.59l7.78-7.78 2.81-2.81c.8-.78.8-2.07 0-2.86zM5.41 20L4 18.59l7.72-7.72 1.47 1.35L5.41 20z\"/>\n",
              "  </svg>\n",
              "      </button>\n",
              "      \n",
              "  <style>\n",
              "    .colab-df-container {\n",
              "      display:flex;\n",
              "      flex-wrap:wrap;\n",
              "      gap: 12px;\n",
              "    }\n",
              "\n",
              "    .colab-df-convert {\n",
              "      background-color: #E8F0FE;\n",
              "      border: none;\n",
              "      border-radius: 50%;\n",
              "      cursor: pointer;\n",
              "      display: none;\n",
              "      fill: #1967D2;\n",
              "      height: 32px;\n",
              "      padding: 0 0 0 0;\n",
              "      width: 32px;\n",
              "    }\n",
              "\n",
              "    .colab-df-convert:hover {\n",
              "      background-color: #E2EBFA;\n",
              "      box-shadow: 0px 1px 2px rgba(60, 64, 67, 0.3), 0px 1px 3px 1px rgba(60, 64, 67, 0.15);\n",
              "      fill: #174EA6;\n",
              "    }\n",
              "\n",
              "    [theme=dark] .colab-df-convert {\n",
              "      background-color: #3B4455;\n",
              "      fill: #D2E3FC;\n",
              "    }\n",
              "\n",
              "    [theme=dark] .colab-df-convert:hover {\n",
              "      background-color: #434B5C;\n",
              "      box-shadow: 0px 1px 3px 1px rgba(0, 0, 0, 0.15);\n",
              "      filter: drop-shadow(0px 1px 2px rgba(0, 0, 0, 0.3));\n",
              "      fill: #FFFFFF;\n",
              "    }\n",
              "  </style>\n",
              "\n",
              "      <script>\n",
              "        const buttonEl =\n",
              "          document.querySelector('#df-ed848798-0d48-4847-8647-246428e7bf94 button.colab-df-convert');\n",
              "        buttonEl.style.display =\n",
              "          google.colab.kernel.accessAllowed ? 'block' : 'none';\n",
              "\n",
              "        async function convertToInteractive(key) {\n",
              "          const element = document.querySelector('#df-ed848798-0d48-4847-8647-246428e7bf94');\n",
              "          const dataTable =\n",
              "            await google.colab.kernel.invokeFunction('convertToInteractive',\n",
              "                                                     [key], {});\n",
              "          if (!dataTable) return;\n",
              "\n",
              "          const docLinkHtml = 'Like what you see? Visit the ' +\n",
              "            '<a target=\"_blank\" href=https://colab.research.google.com/notebooks/data_table.ipynb>data table notebook</a>'\n",
              "            + ' to learn more about interactive tables.';\n",
              "          element.innerHTML = '';\n",
              "          dataTable['output_type'] = 'display_data';\n",
              "          await google.colab.output.renderOutput(dataTable, element);\n",
              "          const docLink = document.createElement('div');\n",
              "          docLink.innerHTML = docLinkHtml;\n",
              "          element.appendChild(docLink);\n",
              "        }\n",
              "      </script>\n",
              "    </div>\n",
              "  </div>\n",
              "  "
            ]
          },
          "metadata": {},
          "execution_count": 12
        }
      ]
    },
    {
      "cell_type": "code",
      "source": [
        "# Criação do modelo\n",
        "regressao = sm.OLS( y, X )\n",
        "\n",
        "# Treinamento do modelo\n",
        "regressao_v1 = regressao.fit()\n",
        "\n",
        "print( regressao_v1.summary() )\n",
        "print('*'*78)\n",
        "print('Estes são os parâmetros aprendidos durante o treinamento do modelo:')\n",
        "print( regressao_v1.params )"
      ],
      "metadata": {
        "colab": {
          "base_uri": "https://localhost:8080/"
        },
        "id": "J_QF9ziMgIzD",
        "outputId": "739b79de-c682-4485-dbed-0f9407750fba"
      },
      "execution_count": 13,
      "outputs": [
        {
          "output_type": "stream",
          "name": "stdout",
          "text": [
            "                            OLS Regression Results                            \n",
            "==============================================================================\n",
            "Dep. Variable:                 TARGET   R-squared:                       0.544\n",
            "Model:                            OLS   Adj. R-squared:                  0.543\n",
            "Method:                 Least Squares   F-statistic:                     601.6\n",
            "Date:                Wed, 07 Dec 2022   Prob (F-statistic):           5.08e-88\n",
            "Time:                        18:39:55   Log-Likelihood:                -1641.5\n",
            "No. Observations:                 506   AIC:                             3287.\n",
            "Df Residuals:                     504   BIC:                             3295.\n",
            "Df Model:                           1                                         \n",
            "Covariance Type:            nonrobust                                         \n",
            "==============================================================================\n",
            "                 coef    std err          t      P>|t|      [0.025      0.975]\n",
            "------------------------------------------------------------------------------\n",
            "const         34.5538      0.563     61.415      0.000      33.448      35.659\n",
            "LSTAT         -0.9500      0.039    -24.528      0.000      -1.026      -0.874\n",
            "==============================================================================\n",
            "Omnibus:                      137.043   Durbin-Watson:                   0.892\n",
            "Prob(Omnibus):                  0.000   Jarque-Bera (JB):              291.373\n",
            "Skew:                           1.453   Prob(JB):                     5.36e-64\n",
            "Kurtosis:                       5.319   Cond. No.                         29.7\n",
            "==============================================================================\n",
            "\n",
            "Notes:\n",
            "[1] Standard Errors assume that the covariance matrix of the errors is correctly specified.\n",
            "******************************************************************************\n",
            "Estes são os parâmetros aprendidos durante o treinamento do modelo:\n",
            "const    34.553841\n",
            "LSTAT    -0.950049\n",
            "dtype: float64\n"
          ]
        }
      ]
    },
    {
      "cell_type": "code",
      "source": [
        "# Print da previsão dos dados\n",
        "previsoes = regressao_v1.predict(X)\n",
        "previsoes"
      ],
      "metadata": {
        "colab": {
          "base_uri": "https://localhost:8080/"
        },
        "id": "AWTKyhAGgnsk",
        "outputId": "b76f1611-a723-499d-9719-5f760b19f8b7"
      },
      "execution_count": 14,
      "outputs": [
        {
          "output_type": "execute_result",
          "data": {
            "text/plain": [
              "0      29.822595\n",
              "1      25.870390\n",
              "2      30.725142\n",
              "3      31.760696\n",
              "4      29.490078\n",
              "         ...    \n",
              "501    25.366864\n",
              "502    25.927393\n",
              "503    29.195563\n",
              "504    28.397521\n",
              "505    27.067452\n",
              "Length: 506, dtype: float64"
            ]
          },
          "metadata": {},
          "execution_count": 14
        }
      ]
    },
    {
      "cell_type": "code",
      "source": [
        "# Passando a média de LSTAT como constante\n",
        "# E adicionando a constante 1 para se tornar uma matriz\n",
        "LM = np.mean( df['LSTAT'] ).round(1)\n",
        "Xp = np.array( [1, LM] )\n",
        "\n",
        "print(f'Para o caso em que LSTAT = {LM}, o modelo prevê que a mediana da taxa de ocupação é de {regressao_v1.predict(Xp).round(2)}')"
      ],
      "metadata": {
        "colab": {
          "base_uri": "https://localhost:8080/"
        },
        "id": "uWAJQ1XqiHn7",
        "outputId": "0fca6fb3-b02e-467c-afc1-96d430b55742"
      },
      "execution_count": 15,
      "outputs": [
        {
          "output_type": "stream",
          "name": "stdout",
          "text": [
            "Para o caso em que LSTAT = 12.7, o modelo prevê que a mediana da taxa de ocupação é de [22.49]\n"
          ]
        }
      ]
    },
    {
      "cell_type": "code",
      "source": [
        "# Plots\n",
        "\n",
        "X_range = [ df['LSTAT'].min(), df['LSTAT'].max() ]\n",
        "y_range = [ df['TARGET'].min(), df['TARGET'].max() ]\n",
        "\n",
        "# Scatter plot\n",
        "scatter_regression = df.plot( kind = 'scatter', x = 'LSTAT', y = 'TARGET', xlim = X_range, ylim = y_range )\n",
        "\n",
        "# Regression Line\n",
        "previsoes = regressao_v1.predict(X)\n",
        "regression_line = scatter_regression.plot( df['LSTAT'], previsoes, color = 'cyan', linewidth = 2 )"
      ],
      "metadata": {
        "colab": {
          "base_uri": "https://localhost:8080/",
          "height": 283
        },
        "id": "48lcZgm8lyeb",
        "outputId": "bcfd6f34-4c67-4cb4-9f11-e6da7388d7bb"
      },
      "execution_count": 16,
      "outputs": [
        {
          "output_type": "display_data",
          "data": {
            "text/plain": [
              "<Figure size 432x288 with 1 Axes>"
            ],
            "image/png": "[encoded data removed]"
          },
          "metadata": {
            "needs_background": "light"
          }
        }
      ]
    },
    {
      "cell_type": "markdown",
      "source": [
        "---\n",
        "Calculando os **resíduos**"
      ],
      "metadata": {
        "id": "6Lqyqt8KoOwS"
      }
    },
    {
      "cell_type": "code",
      "source": [
        "previsoes = regressao_v1.predict(X)\n",
        "\n",
        "# Residuos\n",
        "residuos = df['TARGET'] - previsoes"
      ],
      "metadata": {
        "id": "rf1l5fg4owOL"
      },
      "execution_count": 17,
      "outputs": []
    },
    {
      "cell_type": "code",
      "source": [
        "residuos"
      ],
      "metadata": {
        "colab": {
          "base_uri": "https://localhost:8080/"
        },
        "id": "zEVjy-euqqt2",
        "outputId": "8bf0f959-6d6d-42f2-bc65-1b77ca2128e3"
      },
      "execution_count": 18,
      "outputs": [
        {
          "output_type": "execute_result",
          "data": {
            "text/plain": [
              "0      -5.822595\n",
              "1      -4.270390\n",
              "2       3.974858\n",
              "3       1.639304\n",
              "4       6.709922\n",
              "         ...    \n",
              "501    -2.966864\n",
              "502    -5.327393\n",
              "503    -5.295563\n",
              "504    -6.397521\n",
              "505   -15.167452\n",
              "Length: 506, dtype: float64"
            ]
          },
          "metadata": {},
          "execution_count": 18
        }
      ]
    },
    {
      "cell_type": "code",
      "source": [
        "residuos.describe().round(2)"
      ],
      "metadata": {
        "colab": {
          "base_uri": "https://localhost:8080/"
        },
        "id": "ExwglgaIqs4u",
        "outputId": "73628fa6-489c-4627-9857-b8fb8d571a4d"
      },
      "execution_count": 19,
      "outputs": [
        {
          "output_type": "execute_result",
          "data": {
            "text/plain": [
              "count    506.00\n",
              "mean       0.00\n",
              "std        6.21\n",
              "min      -15.17\n",
              "25%       -3.99\n",
              "50%       -1.32\n",
              "75%        2.03\n",
              "max       24.50\n",
              "dtype: float64"
            ]
          },
          "metadata": {},
          "execution_count": 19
        }
      ]
    },
    {
      "cell_type": "code",
      "source": [
        "# Normalizando os dados para plotagem\n",
        "residuos_normalized = (residuos - np.mean(residuos)) / np.std(residuos)\n",
        "\n",
        "# Plot\n",
        "residual_scatter_plot = plt.plot( df['LSTAT'], residuos_normalized, 'bp' )\n",
        "plt.grid()"
      ],
      "metadata": {
        "colab": {
          "base_uri": "https://localhost:8080/",
          "height": 265
        },
        "id": "0YZcPbbKpID4",
        "outputId": "55b7ce6f-767e-45df-db8c-bd735c573ef4"
      },
      "execution_count": 20,
      "outputs": [
        {
          "output_type": "display_data",
          "data": {
            "text/plain": [
              "<Figure size 432x288 with 1 Axes>"
            ],
            "image/png": "[encoded data removed]"
          },
          "metadata": {
            "needs_background": "light"
          }
        }
      ]
    },
    {
      "cell_type": "markdown",
      "source": [
        "---\n",
        "Modelo de **Regressão Linear Simples com Scikit-Learn** \n",
        "\n",
        ">um pacote melhor para a linguagem Python do que StatsModels.\n",
        "\n",
        "https://scikit-learn.org/stable/modules/generated/sklearn.linear_model.LinearRegression.html\n"
      ],
      "metadata": {
        "id": "P4VfIFc2G1sA"
      }
    },
    {
      "cell_type": "code",
      "source": [
        "from sklearn import linear_model"
      ],
      "metadata": {
        "id": "jAvdhLXKH-H7"
      },
      "execution_count": 21,
      "outputs": []
    },
    {
      "cell_type": "code",
      "source": [
        "# O Scikit learn requer os dados em forma de matriz (por isso do reshape) e não em forma de vetor\n",
        "X = df['LSTAT'].values.reshape(( len(df), 1 ))    # matriz len(df) vs 1\n",
        "y = df['TARGET'].values    # a variável target pode ser um vetor"
      ],
      "metadata": {
        "id": "EsX2B6NhIf0N"
      },
      "execution_count": 22,
      "outputs": []
    },
    {
      "cell_type": "code",
      "source": [
        "# Criando o objeto\n",
        "regressao_skl = linear_model.LinearRegression( normalize = False, fit_intercept = True ) # fit_intercep retorna todos os parâmetros aprendidos durante o treinamento\n",
        "\n",
        "# Treinamento\n",
        "regressao_skl.fit(X, y)"
      ],
      "metadata": {
        "colab": {
          "base_uri": "https://localhost:8080/"
        },
        "id": "Yx6TwUIKIADV",
        "outputId": "238cdfb3-a18f-484d-d075-29f68bdad69b"
      },
      "execution_count": 23,
      "outputs": [
        {
          "output_type": "execute_result",
          "data": {
            "text/plain": [
              "LinearRegression(normalize=False)"
            ]
          },
          "metadata": {},
          "execution_count": 23
        }
      ]
    },
    {
      "cell_type": "code",
      "source": [
        "# Mostrando os coeficientes aprendidos: coef e intercept (que são os coeficientes de regressão linear simples)\n",
        "print( regressao_skl.coef_ )\n",
        "print( regressao_skl.intercept_ )"
      ],
      "metadata": {
        "colab": {
          "base_uri": "https://localhost:8080/"
        },
        "id": "T0jqvTWiJ1zt",
        "outputId": "264d8a56-c21b-4e32-da50-f116291b5879"
      },
      "execution_count": 24,
      "outputs": [
        {
          "output_type": "stream",
          "name": "stdout",
          "text": [
            "[-0.95004935]\n",
            "34.5538408793831\n"
          ]
        }
      ]
    },
    {
      "cell_type": "code",
      "source": [
        "# Valores preditos\n",
        "pred_reg_skl = regressao_skl.predict(X)"
      ],
      "metadata": {
        "id": "mxLywQrvKWXr"
      },
      "execution_count": 25,
      "outputs": []
    },
    {
      "cell_type": "code",
      "source": [
        "# Passando a média de LSTAT como constante\n",
        "# E adicionando a constante 1 para se tornar uma matriz\n",
        "LM = np.mean( df['LSTAT'] ).round(1)\n",
        "Xp = np.array( LM ).reshape(-1, 1)\n",
        "\n",
        "print(f'Para o caso em que LSTAT = {LM}, o modelo prevê que a mediana da taxa de ocupação é de {regressao_skl.predict(Xp).round(2)}')"
      ],
      "metadata": {
        "colab": {
          "base_uri": "https://localhost:8080/"
        },
        "id": "MkSu2hUCKlc_",
        "outputId": "91ea30ce-169c-4f62-f3bb-582a5fb044f6"
      },
      "execution_count": 26,
      "outputs": [
        {
          "output_type": "stream",
          "name": "stdout",
          "text": [
            "Para o caso em que LSTAT = 12.7, o modelo prevê que a mediana da taxa de ocupação é de [22.49]\n"
          ]
        }
      ]
    },
    {
      "cell_type": "code",
      "source": [
        "Xp"
      ],
      "metadata": {
        "colab": {
          "base_uri": "https://localhost:8080/"
        },
        "id": "qbn02R0TLWrO",
        "outputId": "001a8298-cff7-4441-b284-e0423b75320a"
      },
      "execution_count": 27,
      "outputs": [
        {
          "output_type": "execute_result",
          "data": {
            "text/plain": [
              "array([[12.7]])"
            ]
          },
          "metadata": {},
          "execution_count": 27
        }
      ]
    },
    {
      "cell_type": "markdown",
      "source": [
        "---\n",
        "Em termos de comparação entre StatsModels e Scikit-Learn:\n",
        "\n",
        "```python\n",
        "# sklearn\n",
        "from sklearn import linear_model\n",
        "linear_regression_sk = linear_model.LinearRegression( normalize = False, fit_intercept = True)\n",
        "linear_regression_sk.fit( X, y )\n",
        "linear_regression_sk.predict( new_X ) \n",
        "```\n",
        "\n",
        "```python\n",
        "# StatsModels\n",
        "import statsmodels.api as sm\n",
        "linear_regression_sm = sm.OLS( y, sm.add_constant(X) )\n",
        "linear_regression_sm.fit()\n",
        "linear_regression_sm.predict( new_x )\n",
        "```\n",
        "\n",
        ">Em termos de velocidade, o Sk Learn é mais eficiente.\n",
        "\n",
        ">Em termos de interpretação estatística, o StatsModels mostra-se mais claro."
      ],
      "metadata": {
        "id": "tRWOVK8xLn-X"
      }
    },
    {
      "cell_type": "markdown",
      "source": [
        "---\n",
        "Métodos de minimização da Cost Function (função que calcula o erro):\n",
        "\n",
        "Ex.\n",
        "- Pseudo-inversão\n",
        "- Fatorização\n",
        "- Gradiente Descendente\n",
        "\n",
        "Relembrando as métricas de avaliação dos erros:\n",
        "\n",
        "<img src=\"https://4.bp.blogspot.com/-wG7IbjTfE6k/XGUvqm7TCVI/AAAAAAAAAZU/vpH1kuKTIooKTcVlnm1EVRCXLVZM9cPNgCLcBGAs/s1600/formula-MAE-MSE-RMSE-RSquared.JPG\">\n",
        "\n",
        "Vale lembrar que ao elevarmos ao quadrado ou usarmos módulo, evitamos que os erros positivos (ex. +10) compense o erro negativo (-10), e vice versa.\n",
        "\n",
        "> Em geral, preferimos o 'erro ao quadrado' ao invés do erro absoluto, pois com a diferença ao quadrado, temos a minimização mais próxima da média, diferente da 'diferença absoluta' em que a otimização se aproxima da mediana. Porém, caso haja outliers na base de dados, a média seria afetada."
      ],
      "metadata": {
        "id": "WyGHlBZ7bSQx"
      }
    },
    {
      "cell_type": "markdown",
      "source": [
        "---\n",
        "<h3>Minimizando a cost function com Pseudo Inversão</h3>\n",
        "\n",
        "<img src=\"https://res.cloudinary.com/dyd911kmh/image/upload/v1633656949/moore-penrose-pseudoinverse-matrix_vrmr0j.png\">"
      ],
      "metadata": {
        "id": "J-jo_8KjgWkX"
      }
    },
    {
      "cell_type": "code",
      "source": [
        "# Transformando LSTAT em formato de matriz\n",
        "X = df['LSTAT'].values.reshape(( len(df), 1 ))\n",
        "# Adicionando a coluna de \"1's\" em X  \n",
        "Xb = np.column_stack(( X, np.ones( len(df) ) ))\n",
        "# Vetor da variável target\n",
        "y = df['TARGET'].values"
      ],
      "metadata": {
        "id": "bijRhvplgcc0"
      },
      "execution_count": 28,
      "outputs": []
    },
    {
      "cell_type": "code",
      "source": [
        "# Resolvendo a equação utilizando numpy\n",
        "np.linalg.solve( np.dot(Xb.T, Xb), np.dot(Xb.T, y) )"
      ],
      "metadata": {
        "colab": {
          "base_uri": "https://localhost:8080/"
        },
        "id": "D6ABfQVsjsdS",
        "outputId": "6459dde4-c794-49f5-b8df-6e596d1f70fb"
      },
      "execution_count": 29,
      "outputs": [
        {
          "output_type": "execute_result",
          "data": {
            "text/plain": [
              "array([-0.95004935, 34.55384088])"
            ]
          },
          "metadata": {},
          "execution_count": 29
        }
      ]
    },
    {
      "cell_type": "markdown",
      "source": [
        "---\n",
        "<h3>Minimizando a cost function com **Gradient Descent** </h3>\n",
        "\n",
        "* Melhor opção na maioria dos casos\n",
        "\n",
        "No começo, precisamos **inicilizar** os valores dos coeficientes, para que o algoritmo possa \"caminhar\" rumo ao local com o menor erro.<br>\n",
        "Também precisaremos fornecer o tamanho da \"**passada**\" da \"caminhada\", ou velocidade de treinamento. Caso a passada seja muito pequena, corremos o risco de ficarmos em um local de platô ou mínimo local. Se a passada for muito grande, podemos pular o local ideal.<br>\n",
        "Por fim, o cálculo (**gradiente**) da diferença entre a passada anterior e a passada atual atualizará os coeficientes na próxima passada, a fim de **minimizar os erros**. Se essa nova passada for algo bom, o coeficiente é atualizado.\n",
        "\n",
        "<img src=\"https://miro.medium.com/max/1400/1*tQTcGTLZqnI5rp3JYO_4NA.png\">"
      ],
      "metadata": {
        "id": "FoUPPChMgaiv"
      }
    },
    {
      "cell_type": "markdown",
      "source": [
        "Calculando o gradiente descendente utilizando Python:\n",
        "\n",
        "<img src=\"https://media.geeksforgeeks.org/wp-content/uploads/20200611183120/1406-7.png\">\n",
        "\n",
        "- Precisamos encontrar os melhores pesos/coeficientes (theta)\n",
        "- Alpha é o valor da taxa de aprendizado"
      ],
      "metadata": {
        "id": "g4DKhsecmyu4"
      }
    },
    {
      "cell_type": "code",
      "source": [
        "# Definindo x e y\n",
        "\n",
        "X = df['RM'].values.reshape(( len(df), 1 )) \n",
        "X = np.column_stack(( X,np.ones( len(df) ) )) \n",
        "y = df['TARGET'].values "
      ],
      "metadata": {
        "id": "JE7_8Mclm2G0"
      },
      "execution_count": 30,
      "outputs": []
    },
    {
      "cell_type": "code",
      "source": [
        "# Random init\n",
        "import random\n",
        "def rand_init( w ):\n",
        "  return np.array( [np.random.normal() for peso in range(w)] )\n",
        "\n",
        "# Valores aproximados para X e y\n",
        "def hypothesis( X, w ):\n",
        "  return np.dot( X, w )\n",
        "\n",
        "# Lost function\n",
        "def loss_func( X, w, y ):\n",
        "  return hypothesis( X, w ) - y\n",
        "\n",
        "# Squared Loss\n",
        "def squared_loss( X, w, y ):\n",
        "  return loss_func( X, w, y ) ** 2\n",
        "\n",
        "# Cálculo gradient\n",
        "def gradient( X, w, y ):\n",
        "  gradients = list()\n",
        "  for peso in range( len(w) ):\n",
        "    gradients.append( np.sum( loss_func( X, w, y ) * X[:, peso] ) / float(len(y)) )\n",
        "  return gradients\n",
        "\n",
        "# Update dos coeficientes\n",
        "def update(X,w,y, alpha = 0.01):\n",
        "    return [t - alpha*g for t, g in zip(w, gradient(X,w,y))]\n",
        "\n",
        "# Otimização do modelo\n",
        "def optimize( X, y, alpha = 0.01, eta = 10 ** -12, iterations = 1000 ):\n",
        "    w = rand_init( X.shape[1] )\n",
        "    path = list()\n",
        "    for k in range(iterations):\n",
        "        SSL = np.sum( squared_loss( X, w, y ) )\n",
        "        new_w = update( X, w, y, alpha = alpha )\n",
        "        new_SSL = np.sum( squared_loss( X, new_w, y ) )\n",
        "        w = new_w\n",
        "        if k >= 5 and ( new_SSL - SSL <= eta and new_SSL - SSL >= -eta ):\n",
        "            path.append(new_SSL)\n",
        "            return w, path\n",
        "        if k % ( iterations / 20 ) == 0:\n",
        "            path.append( new_SSL )\n",
        "    return w, path"
      ],
      "metadata": {
        "id": "AGsuQ2DxqGtL"
      },
      "execution_count": 31,
      "outputs": []
    },
    {
      "cell_type": "code",
      "source": [
        "# Definindo o valor de alfa\n",
        "# Alfa é chamado de taxa de aprendizagem\n",
        "alpha = 0.005\n",
        "\n",
        "# Otimizando a Cost Function\n",
        "w, path = optimize( X, y, alpha, eta = 10**-12, iterations = 50000 )"
      ],
      "metadata": {
        "id": "tjNIf5SlsRyl"
      },
      "execution_count": 32,
      "outputs": []
    },
    {
      "cell_type": "code",
      "source": [
        "# Imprimindo o resultado\n",
        "print(f'Valor dos Coeficientes ao final do treino {w}')"
      ],
      "metadata": {
        "colab": {
          "base_uri": "https://localhost:8080/"
        },
        "id": "VpnGrzfosTD0",
        "outputId": "4d65d882-8632-490a-db5f-d1582ce3107e"
      },
      "execution_count": 33,
      "outputs": [
        {
          "output_type": "stream",
          "name": "stdout",
          "text": [
            "Valor dos Coeficientes ao final do treino [8.831506947432754, -32.94928930611101]\n"
          ]
        }
      ]
    },
    {
      "cell_type": "code",
      "source": [
        "# Imprimindo o resultado\n",
        "print(f'Caminho do Gradiente mostrando o erro ao quadrado\\n{path}')"
      ],
      "metadata": {
        "colab": {
          "base_uri": "https://localhost:8080/"
        },
        "id": "5-_TPWWNiDjS",
        "outputId": "dd7e6f61-6f4a-44e1-bd07-cf68a6091171"
      },
      "execution_count": 34,
      "outputs": [
        {
          "output_type": "stream",
          "name": "stdout",
          "text": [
            "Caminho do Gradiente mostrando o erro ao quadrado\n",
            "[203352.93319320213, 27645.15403900605, 26195.59258395696, 25122.374488518024, 24327.791356933194, 23739.502400865098, 23303.948357399047, 22981.47532297806, 22742.724565204924, 22565.959632163023, 22435.087412762565, 22338.192980614418, 22266.45483004035, 22213.341744657708, 22174.01817949343, 22144.904021163355, 22123.348645608574, 22107.389598809423, 22095.573930180028, 22086.825912399472]\n"
          ]
        }
      ]
    },
    {
      "cell_type": "markdown",
      "source": [
        "---\n",
        "<h3>Regressão Linear Múltipla</h3>\n",
        "\n",
        "<img src=\"https://slideplayer.com.br/slide/3684457/17/images/2/Regress%C3%A3o+Linear+M%C3%BAltipla.jpg\" width=40%> <br>\n",
        "font-img: https://slideplayer.com.br/slide/3684457/\n",
        "\n",
        "Explicamos uma variável target com base em mais de uma variável explanatória.\n",
        "\n",
        "---\n",
        "Interpretando os Modelos de Regressão\n",
        "\n",
        "1. Teste De significância Individual (teste para cada variável explanatória).\n",
        "  - Quais variáveis se relacionam com a variável target?\n",
        "  -  Se o valor de p for menor que 0.05 (F < 0.05), há evidências estatísticas.\n",
        "  - Deve-se ficar atento ao problema de colinearidade (2 variáveis representam a mesma informação. Ex. idade e data de nascimento; isso reduz a significância estatística dessas variáveis e pode levar a uma exclusão errônea).\n",
        "2. Test F de Significância Global (resultado final do modelo)\n",
        "  - Verifica se o modelo é útil para prever a variável target (há evediências de que pelo menos uma variável no modelo se relaciona com a variável target?\n",
        "  - Se o valor de p for menor que 0.05 (F < 0.05), há evidências estatísticas. [F = F de significação]\n",
        "  - Ex. <br><img src=\"https://blog.minitab.com/hs-fs/hubfs/analise-de-variancia.jpg?width=334&name=analise-de-variancia.jpg\">\n",
        "  - font-img: https://blog.minitab.com/pt/entendendo-analise-de-variancia-anova-e-o-teste-f\n",
        "3. Coeficientes R2 / R2 ajustado (compara-se 2 modelos)\n",
        "  - R²:\n",
        "    - Qual % de variabilidade é explicado pelas variáveis utilizadas?\n",
        "    - Ex. Caso se use as variáveis \"num_portas\" e \"km_rodados\" para prever o preço de um carro, qual porcentagem (%) da variabilidade do preço é explicada por esse modelo (ex. 35% ou 0.35), ou seja, mostra se precisamos de mais variáveis ou não para explicar o modelo.\n",
        "  - R² ajustado:\n",
        "    - Usado para comparar modelos com quantidade de variáveis diferentes.\n",
        "  - Também há o R múltiplo, que mede a “força” ou “grau” de relacionamento linear entre a variável dependente e o conjunto das variáveis independentes.\n",
        "4. Demais coeficientes do treinamento\n",
        "  - Estes são os valores aprendidos no treinamento, como B0 (interseção), B1 (ex. num portas), B2 (ex. km rodados) ...\n",
        "  - Ao final do treinamento, colocamos estes valores finais na fórmula de regressão para obtermos o valor de y.\n",
        "\n",
        "---\n",
        "Mas o que é o **valor p**?:\n",
        "\n",
        "Caso tenhamos um grupo randomico selecionado de uma população e um grupo formado por cidadões de uma cidade qualquer, e desejamos saber a previsão de votação da população:\n",
        "- Um hipótese nula significa que não há diferença entre os dois grupos, a alternativa nos dira que há uma diferença estatisticamente significante.\n",
        "  - Qual a probabilidade deste efeito ter sido atribuído ao acaso? O valor p nos dará a força da hipótese. Ou seja, caso p>0,05, mais de uma a cada 20 vezes o experimento não mostra diferença entre os grupos.\n",
        "  - O valor α = 0.05 (nível de significância) como referência.\n",
        "  - Em resumo, caso p seja muito menor que 0.05, a variável deve ser considerada significativa. "
      ],
      "metadata": {
        "id": "T3jQgftz2gYc"
      }
    },
    {
      "cell_type": "markdown",
      "source": [
        "Exemplo do valor P para a variável 'LSTAT'\n",
        "\n",
        "* Repare em P>|t|, que indica que é improvável observar uma associação tão substancial entre o preditor e a resposta devido ao acaso. <br>Ou seja, **há uma associação entre o preditor e a resposta!** [rejeita-se a hipótese nula]. <br>Caso o valor de p fosse muito alto, significaria o contrário.\n",
        "* 'const' significa B0 enquanto 'LSTAT' significa B1\n",
        "\n",
        "Em resumo:\n",
        "* p = 0, impossível ser devido ao acaso\n",
        "* p = 0.001, muito improvável ser devido ao acaso\n",
        "* p = 0.05, basta improvável de ser devido ao acaso\n",
        "* p = 0.5, bastante provável de ser devido ao acaso\n",
        "* p = 0.75, muito provavelmente é devido ao acaso\n",
        "* p = 1, absoluta certeza de ser devido ao acaso"
      ],
      "metadata": {
        "id": "XgmLNKJLFzc3"
      }
    },
    {
      "cell_type": "code",
      "source": [
        "# Variáveis dependente e independente\n",
        "X = df['LSTAT']\n",
        "y = df['TARGET']\n",
        "X = sm.add_constant(X)\n",
        "\n",
        "regressao = sm.OLS( y, X )\n",
        "\n",
        "regressao_v1 = regressao.fit()\n",
        "\n",
        "print( regressao_v1.summary() )"
      ],
      "metadata": {
        "colab": {
          "base_uri": "https://localhost:8080/"
        },
        "id": "csre8cFvF2Kx",
        "outputId": "8517446c-9169-477d-bf52-87e630696fa2"
      },
      "execution_count": 35,
      "outputs": [
        {
          "output_type": "stream",
          "name": "stdout",
          "text": [
            "                            OLS Regression Results                            \n",
            "==============================================================================\n",
            "Dep. Variable:                 TARGET   R-squared:                       0.544\n",
            "Model:                            OLS   Adj. R-squared:                  0.543\n",
            "Method:                 Least Squares   F-statistic:                     601.6\n",
            "Date:                Wed, 07 Dec 2022   Prob (F-statistic):           5.08e-88\n",
            "Time:                        18:40:02   Log-Likelihood:                -1641.5\n",
            "No. Observations:                 506   AIC:                             3287.\n",
            "Df Residuals:                     504   BIC:                             3295.\n",
            "Df Model:                           1                                         \n",
            "Covariance Type:            nonrobust                                         \n",
            "==============================================================================\n",
            "                 coef    std err          t      P>|t|      [0.025      0.975]\n",
            "------------------------------------------------------------------------------\n",
            "const         34.5538      0.563     61.415      0.000      33.448      35.659\n",
            "LSTAT         -0.9500      0.039    -24.528      0.000      -1.026      -0.874\n",
            "==============================================================================\n",
            "Omnibus:                      137.043   Durbin-Watson:                   0.892\n",
            "Prob(Omnibus):                  0.000   Jarque-Bera (JB):              291.373\n",
            "Skew:                           1.453   Prob(JB):                     5.36e-64\n",
            "Kurtosis:                       5.319   Cond. No.                         29.7\n",
            "==============================================================================\n",
            "\n",
            "Notes:\n",
            "[1] Standard Errors assume that the covariance matrix of the errors is correctly specified.\n"
          ]
        }
      ]
    },
    {
      "cell_type": "markdown",
      "source": [
        "---\n",
        "<h4>Regressão Linear Múltipla para o dataset de Boston</h4>\n",
        "\n",
        "\n",
        "\n",
        "\n"
      ],
      "metadata": {
        "id": "vaWCaAfTI5Xm"
      }
    },
    {
      "cell_type": "code",
      "source": [
        "X = df.iloc[:,0:-1] # Tudo com exceção da variável target\n",
        "y = df['TARGET'].values # Taxa média de ocupação"
      ],
      "metadata": {
        "id": "7bLfTAJHLeBw"
      },
      "execution_count": 36,
      "outputs": []
    },
    {
      "cell_type": "code",
      "source": [
        "X.head()"
      ],
      "metadata": {
        "colab": {
          "base_uri": "https://localhost:8080/",
          "height": 206
        },
        "id": "Vvrnb1qHMArb",
        "outputId": "33a9713d-4ad5-4eca-8f92-30b22da6b53f"
      },
      "execution_count": 37,
      "outputs": [
        {
          "output_type": "execute_result",
          "data": {
            "text/plain": [
              "      CRIM    ZN  INDUS  CHAS    NOX     RM   AGE     DIS  RAD    TAX  \\\n",
              "0  0.00632  18.0   2.31   0.0  0.538  6.575  65.2  4.0900  1.0  296.0   \n",
              "1  0.02731   0.0   7.07   0.0  0.469  6.421  78.9  4.9671  2.0  242.0   \n",
              "2  0.02729   0.0   7.07   0.0  0.469  7.185  61.1  4.9671  2.0  242.0   \n",
              "3  0.03237   0.0   2.18   0.0  0.458  6.998  45.8  6.0622  3.0  222.0   \n",
              "4  0.06905   0.0   2.18   0.0  0.458  7.147  54.2  6.0622  3.0  222.0   \n",
              "\n",
              "   PTRATIO       B  LSTAT  \n",
              "0     15.3  396.90   4.98  \n",
              "1     17.8  396.90   9.14  \n",
              "2     17.8  392.83   4.03  \n",
              "3     18.7  394.63   2.94  \n",
              "4     18.7  396.90   5.33  "
            ],
            "text/html": [
              "\n",
              "  <div id=\"df-fbe6ca69-78e6-4209-ba05-2368cfec5b48\">\n",
              "    <div class=\"colab-df-container\">\n",
              "      <div>\n",
              "<style scoped>\n",
              "    .dataframe tbody tr th:only-of-type {\n",
              "        vertical-align: middle;\n",
              "    }\n",
              "\n",
              "    .dataframe tbody tr th {\n",
              "        vertical-align: top;\n",
              "    }\n",
              "\n",
              "    .dataframe thead th {\n",
              "        text-align: right;\n",
              "    }\n",
              "</style>\n",
              "<table border=\"1\" class=\"dataframe\">\n",
              "  <thead>\n",
              "    <tr style=\"text-align: right;\">\n",
              "      <th></th>\n",
              "      <th>CRIM</th>\n",
              "      <th>ZN</th>\n",
              "      <th>INDUS</th>\n",
              "      <th>CHAS</th>\n",
              "      <th>NOX</th>\n",
              "      <th>RM</th>\n",
              "      <th>AGE</th>\n",
              "      <th>DIS</th>\n",
              "      <th>RAD</th>\n",
              "      <th>TAX</th>\n",
              "      <th>PTRATIO</th>\n",
              "      <th>B</th>\n",
              "      <th>LSTAT</th>\n",
              "    </tr>\n",
              "  </thead>\n",
              "  <tbody>\n",
              "    <tr>\n",
              "      <th>0</th>\n",
              "      <td>0.00632</td>\n",
              "      <td>18.0</td>\n",
              "      <td>2.31</td>\n",
              "      <td>0.0</td>\n",
              "      <td>0.538</td>\n",
              "      <td>6.575</td>\n",
              "      <td>65.2</td>\n",
              "      <td>4.0900</td>\n",
              "      <td>1.0</td>\n",
              "      <td>296.0</td>\n",
              "      <td>15.3</td>\n",
              "      <td>396.90</td>\n",
              "      <td>4.98</td>\n",
              "    </tr>\n",
              "    <tr>\n",
              "      <th>1</th>\n",
              "      <td>0.02731</td>\n",
              "      <td>0.0</td>\n",
              "      <td>7.07</td>\n",
              "      <td>0.0</td>\n",
              "      <td>0.469</td>\n",
              "      <td>6.421</td>\n",
              "      <td>78.9</td>\n",
              "      <td>4.9671</td>\n",
              "      <td>2.0</td>\n",
              "      <td>242.0</td>\n",
              "      <td>17.8</td>\n",
              "      <td>396.90</td>\n",
              "      <td>9.14</td>\n",
              "    </tr>\n",
              "    <tr>\n",
              "      <th>2</th>\n",
              "      <td>0.02729</td>\n",
              "      <td>0.0</td>\n",
              "      <td>7.07</td>\n",
              "      <td>0.0</td>\n",
              "      <td>0.469</td>\n",
              "      <td>7.185</td>\n",
              "      <td>61.1</td>\n",
              "      <td>4.9671</td>\n",
              "      <td>2.0</td>\n",
              "      <td>242.0</td>\n",
              "      <td>17.8</td>\n",
              "      <td>392.83</td>\n",
              "      <td>4.03</td>\n",
              "    </tr>\n",
              "    <tr>\n",
              "      <th>3</th>\n",
              "      <td>0.03237</td>\n",
              "      <td>0.0</td>\n",
              "      <td>2.18</td>\n",
              "      <td>0.0</td>\n",
              "      <td>0.458</td>\n",
              "      <td>6.998</td>\n",
              "      <td>45.8</td>\n",
              "      <td>6.0622</td>\n",
              "      <td>3.0</td>\n",
              "      <td>222.0</td>\n",
              "      <td>18.7</td>\n",
              "      <td>394.63</td>\n",
              "      <td>2.94</td>\n",
              "    </tr>\n",
              "    <tr>\n",
              "      <th>4</th>\n",
              "      <td>0.06905</td>\n",
              "      <td>0.0</td>\n",
              "      <td>2.18</td>\n",
              "      <td>0.0</td>\n",
              "      <td>0.458</td>\n",
              "      <td>7.147</td>\n",
              "      <td>54.2</td>\n",
              "      <td>6.0622</td>\n",
              "      <td>3.0</td>\n",
              "      <td>222.0</td>\n",
              "      <td>18.7</td>\n",
              "      <td>396.90</td>\n",
              "      <td>5.33</td>\n",
              "    </tr>\n",
              "  </tbody>\n",
              "</table>\n",
              "</div>\n",
              "      <button class=\"colab-df-convert\" onclick=\"convertToInteractive('df-fbe6ca69-78e6-4209-ba05-2368cfec5b48')\"\n",
              "              title=\"Convert this dataframe to an interactive table.\"\n",
              "              style=\"display:none;\">\n",
              "        \n",
              "  <svg xmlns=\"http://www.w3.org/2000/svg\" height=\"24px\"viewBox=\"0 0 24 24\"\n",
              "       width=\"24px\">\n",
              "    <path d=\"M0 0h24v24H0V0z\" fill=\"none\"/>\n",
              "    <path d=\"M18.56 5.44l.94 2.06.94-2.06 2.06-.94-2.06-.94-.94-2.06-.94 2.06-2.06.94zm-11 1L8.5 8.5l.94-2.06 2.06-.94-2.06-.94L8.5 2.5l-.94 2.06-2.06.94zm10 10l.94 2.06.94-2.06 2.06-.94-2.06-.94-.94-2.06-.94 2.06-2.06.94z\"/><path d=\"M17.41 7.96l-1.37-1.37c-.4-.4-.92-.59-1.43-.59-.52 0-1.04.2-1.43.59L10.3 9.45l-7.72 7.72c-.78.78-.78 2.05 0 2.83L4 21.41c.39.39.9.59 1.41.59.51 0 1.02-.2 1.41-.59l7.78-7.78 2.81-2.81c.8-.78.8-2.07 0-2.86zM5.41 20L4 18.59l7.72-7.72 1.47 1.35L5.41 20z\"/>\n",
              "  </svg>\n",
              "      </button>\n",
              "      \n",
              "  <style>\n",
              "    .colab-df-container {\n",
              "      display:flex;\n",
              "      flex-wrap:wrap;\n",
              "      gap: 12px;\n",
              "    }\n",
              "\n",
              "    .colab-df-convert {\n",
              "      background-color: #E8F0FE;\n",
              "      border: none;\n",
              "      border-radius: 50%;\n",
              "      cursor: pointer;\n",
              "      display: none;\n",
              "      fill: #1967D2;\n",
              "      height: 32px;\n",
              "      padding: 0 0 0 0;\n",
              "      width: 32px;\n",
              "    }\n",
              "\n",
              "    .colab-df-convert:hover {\n",
              "      background-color: #E2EBFA;\n",
              "      box-shadow: 0px 1px 2px rgba(60, 64, 67, 0.3), 0px 1px 3px 1px rgba(60, 64, 67, 0.15);\n",
              "      fill: #174EA6;\n",
              "    }\n",
              "\n",
              "    [theme=dark] .colab-df-convert {\n",
              "      background-color: #3B4455;\n",
              "      fill: #D2E3FC;\n",
              "    }\n",
              "\n",
              "    [theme=dark] .colab-df-convert:hover {\n",
              "      background-color: #434B5C;\n",
              "      box-shadow: 0px 1px 3px 1px rgba(0, 0, 0, 0.15);\n",
              "      filter: drop-shadow(0px 1px 2px rgba(0, 0, 0, 0.3));\n",
              "      fill: #FFFFFF;\n",
              "    }\n",
              "  </style>\n",
              "\n",
              "      <script>\n",
              "        const buttonEl =\n",
              "          document.querySelector('#df-fbe6ca69-78e6-4209-ba05-2368cfec5b48 button.colab-df-convert');\n",
              "        buttonEl.style.display =\n",
              "          google.colab.kernel.accessAllowed ? 'block' : 'none';\n",
              "\n",
              "        async function convertToInteractive(key) {\n",
              "          const element = document.querySelector('#df-fbe6ca69-78e6-4209-ba05-2368cfec5b48');\n",
              "          const dataTable =\n",
              "            await google.colab.kernel.invokeFunction('convertToInteractive',\n",
              "                                                     [key], {});\n",
              "          if (!dataTable) return;\n",
              "\n",
              "          const docLinkHtml = 'Like what you see? Visit the ' +\n",
              "            '<a target=\"_blank\" href=https://colab.research.google.com/notebooks/data_table.ipynb>data table notebook</a>'\n",
              "            + ' to learn more about interactive tables.';\n",
              "          element.innerHTML = '';\n",
              "          dataTable['output_type'] = 'display_data';\n",
              "          await google.colab.output.renderOutput(dataTable, element);\n",
              "          const docLink = document.createElement('div');\n",
              "          docLink.innerHTML = docLinkHtml;\n",
              "          element.appendChild(docLink);\n",
              "        }\n",
              "      </script>\n",
              "    </div>\n",
              "  </div>\n",
              "  "
            ]
          },
          "metadata": {},
          "execution_count": 37
        }
      ]
    },
    {
      "cell_type": "markdown",
      "source": [
        "---\n",
        "Método com StatsModels"
      ],
      "metadata": {
        "id": "CLkfpOsbMUmu"
      }
    },
    {
      "cell_type": "code",
      "source": [
        "# Adicionando a constante para o statsmodels\n",
        "Xc = sm.add_constant( X )\n",
        "\n",
        "# Criação do modelo\n",
        "model = sm.OLS( y, Xc )\n",
        "\n",
        "# Treinamento\n",
        "model_1 = model.fit()\n",
        "\n",
        "print( model_1.summary() )"
      ],
      "metadata": {
        "colab": {
          "base_uri": "https://localhost:8080/"
        },
        "id": "KcTxi7f-MW3K",
        "outputId": "90d7ce0e-72aa-4d7d-c524-e2d79a5c9012"
      },
      "execution_count": 38,
      "outputs": [
        {
          "output_type": "stream",
          "name": "stdout",
          "text": [
            "                            OLS Regression Results                            \n",
            "==============================================================================\n",
            "Dep. Variable:                      y   R-squared:                       0.741\n",
            "Model:                            OLS   Adj. R-squared:                  0.734\n",
            "Method:                 Least Squares   F-statistic:                     108.1\n",
            "Date:                Wed, 07 Dec 2022   Prob (F-statistic):          6.72e-135\n",
            "Time:                        18:40:03   Log-Likelihood:                -1498.8\n",
            "No. Observations:                 506   AIC:                             3026.\n",
            "Df Residuals:                     492   BIC:                             3085.\n",
            "Df Model:                          13                                         \n",
            "Covariance Type:            nonrobust                                         \n",
            "==============================================================================\n",
            "                 coef    std err          t      P>|t|      [0.025      0.975]\n",
            "------------------------------------------------------------------------------\n",
            "const         36.4595      5.103      7.144      0.000      26.432      46.487\n",
            "CRIM          -0.1080      0.033     -3.287      0.001      -0.173      -0.043\n",
            "ZN             0.0464      0.014      3.382      0.001       0.019       0.073\n",
            "INDUS          0.0206      0.061      0.334      0.738      -0.100       0.141\n",
            "CHAS           2.6867      0.862      3.118      0.002       0.994       4.380\n",
            "NOX          -17.7666      3.820     -4.651      0.000     -25.272     -10.262\n",
            "RM             3.8099      0.418      9.116      0.000       2.989       4.631\n",
            "AGE            0.0007      0.013      0.052      0.958      -0.025       0.027\n",
            "DIS           -1.4756      0.199     -7.398      0.000      -1.867      -1.084\n",
            "RAD            0.3060      0.066      4.613      0.000       0.176       0.436\n",
            "TAX           -0.0123      0.004     -3.280      0.001      -0.020      -0.005\n",
            "PTRATIO       -0.9527      0.131     -7.283      0.000      -1.210      -0.696\n",
            "B              0.0093      0.003      3.467      0.001       0.004       0.015\n",
            "LSTAT         -0.5248      0.051    -10.347      0.000      -0.624      -0.425\n",
            "==============================================================================\n",
            "Omnibus:                      178.041   Durbin-Watson:                   1.078\n",
            "Prob(Omnibus):                  0.000   Jarque-Bera (JB):              783.126\n",
            "Skew:                           1.521   Prob(JB):                    8.84e-171\n",
            "Kurtosis:                       8.281   Cond. No.                     1.51e+04\n",
            "==============================================================================\n",
            "\n",
            "Notes:\n",
            "[1] Standard Errors assume that the covariance matrix of the errors is correctly specified.\n",
            "[2] The condition number is large, 1.51e+04. This might indicate that there are\n",
            "strong multicollinearity or other numerical problems.\n"
          ]
        }
      ]
    },
    {
      "cell_type": "markdown",
      "source": [
        "Repare que o valor de R² é de 0.741, ou seja, estas variáveis conseguem explicar cerca de 75% dos dados.\n",
        "\n",
        "Podemos ver que as variáveis 'AGE' e 'INDUS' apresentam um alto valor de p, ou seja, não há associação entre estas variáveis e a variável target, indicando que talvez possamos removê-las do modelo.\n",
        "\n",
        "<font color=cyan>Lembre-se que o resultado de p não é uma afirmação 100% verdadeira, mas sim, um indicativo. Use também a informação de correlação etc.\n",
        "</font>"
      ],
      "metadata": {
        "id": "XMyppjSgM7rs"
      }
    },
    {
      "cell_type": "markdown",
      "source": [
        "Calculando a correlação entre as variáveis explanatórias novamente"
      ],
      "metadata": {
        "id": "yZFeORwJO1zh"
      }
    },
    {
      "cell_type": "code",
      "source": [
        "# Formato de tabela\n",
        "X = df.iloc[:,0:-1]\n",
        "matriz_correlacao = X.corr()\n",
        "\n",
        "matriz_correlacao"
      ],
      "metadata": {
        "colab": {
          "base_uri": "https://localhost:8080/",
          "height": 521
        },
        "id": "JLFu6ixPPlJY",
        "outputId": "dec61ca6-d147-4ac6-8128-2b59edafd890"
      },
      "execution_count": 39,
      "outputs": [
        {
          "output_type": "execute_result",
          "data": {
            "text/plain": [
              "             CRIM        ZN     INDUS      CHAS       NOX        RM       AGE  \\\n",
              "CRIM     1.000000 -0.200469  0.406583 -0.055892  0.420972 -0.219247  0.352734   \n",
              "ZN      -0.200469  1.000000 -0.533828 -0.042697 -0.516604  0.311991 -0.569537   \n",
              "INDUS    0.406583 -0.533828  1.000000  0.062938  0.763651 -0.391676  0.644779   \n",
              "CHAS    -0.055892 -0.042697  0.062938  1.000000  0.091203  0.091251  0.086518   \n",
              "NOX      0.420972 -0.516604  0.763651  0.091203  1.000000 -0.302188  0.731470   \n",
              "RM      -0.219247  0.311991 -0.391676  0.091251 -0.302188  1.000000 -0.240265   \n",
              "AGE      0.352734 -0.569537  0.644779  0.086518  0.731470 -0.240265  1.000000   \n",
              "DIS     -0.379670  0.664408 -0.708027 -0.099176 -0.769230  0.205246 -0.747881   \n",
              "RAD      0.625505 -0.311948  0.595129 -0.007368  0.611441 -0.209847  0.456022   \n",
              "TAX      0.582764 -0.314563  0.720760 -0.035587  0.668023 -0.292048  0.506456   \n",
              "PTRATIO  0.289946 -0.391679  0.383248 -0.121515  0.188933 -0.355501  0.261515   \n",
              "B       -0.385064  0.175520 -0.356977  0.048788 -0.380051  0.128069 -0.273534   \n",
              "LSTAT    0.455621 -0.412995  0.603800 -0.053929  0.590879 -0.613808  0.602339   \n",
              "\n",
              "              DIS       RAD       TAX   PTRATIO         B     LSTAT  \n",
              "CRIM    -0.379670  0.625505  0.582764  0.289946 -0.385064  0.455621  \n",
              "ZN       0.664408 -0.311948 -0.314563 -0.391679  0.175520 -0.412995  \n",
              "INDUS   -0.708027  0.595129  0.720760  0.383248 -0.356977  0.603800  \n",
              "CHAS    -0.099176 -0.007368 -0.035587 -0.121515  0.048788 -0.053929  \n",
              "NOX     -0.769230  0.611441  0.668023  0.188933 -0.380051  0.590879  \n",
              "RM       0.205246 -0.209847 -0.292048 -0.355501  0.128069 -0.613808  \n",
              "AGE     -0.747881  0.456022  0.506456  0.261515 -0.273534  0.602339  \n",
              "DIS      1.000000 -0.494588 -0.534432 -0.232471  0.291512 -0.496996  \n",
              "RAD     -0.494588  1.000000  0.910228  0.464741 -0.444413  0.488676  \n",
              "TAX     -0.534432  0.910228  1.000000  0.460853 -0.441808  0.543993  \n",
              "PTRATIO -0.232471  0.464741  0.460853  1.000000 -0.177383  0.374044  \n",
              "B        0.291512 -0.444413 -0.441808 -0.177383  1.000000 -0.366087  \n",
              "LSTAT   -0.496996  0.488676  0.543993  0.374044 -0.366087  1.000000  "
            ],
            "text/html": [
              "\n",
              "  <div id=\"df-9a1da088-8c48-4c8e-b2f1-7bb622d5c6a9\">\n",
              "    <div class=\"colab-df-container\">\n",
              "      <div>\n",
              "<style scoped>\n",
              "    .dataframe tbody tr th:only-of-type {\n",
              "        vertical-align: middle;\n",
              "    }\n",
              "\n",
              "    .dataframe tbody tr th {\n",
              "        vertical-align: top;\n",
              "    }\n",
              "\n",
              "    .dataframe thead th {\n",
              "        text-align: right;\n",
              "    }\n",
              "</style>\n",
              "<table border=\"1\" class=\"dataframe\">\n",
              "  <thead>\n",
              "    <tr style=\"text-align: right;\">\n",
              "      <th></th>\n",
              "      <th>CRIM</th>\n",
              "      <th>ZN</th>\n",
              "      <th>INDUS</th>\n",
              "      <th>CHAS</th>\n",
              "      <th>NOX</th>\n",
              "      <th>RM</th>\n",
              "      <th>AGE</th>\n",
              "      <th>DIS</th>\n",
              "      <th>RAD</th>\n",
              "      <th>TAX</th>\n",
              "      <th>PTRATIO</th>\n",
              "      <th>B</th>\n",
              "      <th>LSTAT</th>\n",
              "    </tr>\n",
              "  </thead>\n",
              "  <tbody>\n",
              "    <tr>\n",
              "      <th>CRIM</th>\n",
              "      <td>1.000000</td>\n",
              "      <td>-0.200469</td>\n",
              "      <td>0.406583</td>\n",
              "      <td>-0.055892</td>\n",
              "      <td>0.420972</td>\n",
              "      <td>-0.219247</td>\n",
              "      <td>0.352734</td>\n",
              "      <td>-0.379670</td>\n",
              "      <td>0.625505</td>\n",
              "      <td>0.582764</td>\n",
              "      <td>0.289946</td>\n",
              "      <td>-0.385064</td>\n",
              "      <td>0.455621</td>\n",
              "    </tr>\n",
              "    <tr>\n",
              "      <th>ZN</th>\n",
              "      <td>-0.200469</td>\n",
              "      <td>1.000000</td>\n",
              "      <td>-0.533828</td>\n",
              "      <td>-0.042697</td>\n",
              "      <td>-0.516604</td>\n",
              "      <td>0.311991</td>\n",
              "      <td>-0.569537</td>\n",
              "      <td>0.664408</td>\n",
              "      <td>-0.311948</td>\n",
              "      <td>-0.314563</td>\n",
              "      <td>-0.391679</td>\n",
              "      <td>0.175520</td>\n",
              "      <td>-0.412995</td>\n",
              "    </tr>\n",
              "    <tr>\n",
              "      <th>INDUS</th>\n",
              "      <td>0.406583</td>\n",
              "      <td>-0.533828</td>\n",
              "      <td>1.000000</td>\n",
              "      <td>0.062938</td>\n",
              "      <td>0.763651</td>\n",
              "      <td>-0.391676</td>\n",
              "      <td>0.644779</td>\n",
              "      <td>-0.708027</td>\n",
              "      <td>0.595129</td>\n",
              "      <td>0.720760</td>\n",
              "      <td>0.383248</td>\n",
              "      <td>-0.356977</td>\n",
              "      <td>0.603800</td>\n",
              "    </tr>\n",
              "    <tr>\n",
              "      <th>CHAS</th>\n",
              "      <td>-0.055892</td>\n",
              "      <td>-0.042697</td>\n",
              "      <td>0.062938</td>\n",
              "      <td>1.000000</td>\n",
              "      <td>0.091203</td>\n",
              "      <td>0.091251</td>\n",
              "      <td>0.086518</td>\n",
              "      <td>-0.099176</td>\n",
              "      <td>-0.007368</td>\n",
              "      <td>-0.035587</td>\n",
              "      <td>-0.121515</td>\n",
              "      <td>0.048788</td>\n",
              "      <td>-0.053929</td>\n",
              "    </tr>\n",
              "    <tr>\n",
              "      <th>NOX</th>\n",
              "      <td>0.420972</td>\n",
              "      <td>-0.516604</td>\n",
              "      <td>0.763651</td>\n",
              "      <td>0.091203</td>\n",
              "      <td>1.000000</td>\n",
              "      <td>-0.302188</td>\n",
              "      <td>0.731470</td>\n",
              "      <td>-0.769230</td>\n",
              "      <td>0.611441</td>\n",
              "      <td>0.668023</td>\n",
              "      <td>0.188933</td>\n",
              "      <td>-0.380051</td>\n",
              "      <td>0.590879</td>\n",
              "    </tr>\n",
              "    <tr>\n",
              "      <th>RM</th>\n",
              "      <td>-0.219247</td>\n",
              "      <td>0.311991</td>\n",
              "      <td>-0.391676</td>\n",
              "      <td>0.091251</td>\n",
              "      <td>-0.302188</td>\n",
              "      <td>1.000000</td>\n",
              "      <td>-0.240265</td>\n",
              "      <td>0.205246</td>\n",
              "      <td>-0.209847</td>\n",
              "      <td>-0.292048</td>\n",
              "      <td>-0.355501</td>\n",
              "      <td>0.128069</td>\n",
              "      <td>-0.613808</td>\n",
              "    </tr>\n",
              "    <tr>\n",
              "      <th>AGE</th>\n",
              "      <td>0.352734</td>\n",
              "      <td>-0.569537</td>\n",
              "      <td>0.644779</td>\n",
              "      <td>0.086518</td>\n",
              "      <td>0.731470</td>\n",
              "      <td>-0.240265</td>\n",
              "      <td>1.000000</td>\n",
              "      <td>-0.747881</td>\n",
              "      <td>0.456022</td>\n",
              "      <td>0.506456</td>\n",
              "      <td>0.261515</td>\n",
              "      <td>-0.273534</td>\n",
              "      <td>0.602339</td>\n",
              "    </tr>\n",
              "    <tr>\n",
              "      <th>DIS</th>\n",
              "      <td>-0.379670</td>\n",
              "      <td>0.664408</td>\n",
              "      <td>-0.708027</td>\n",
              "      <td>-0.099176</td>\n",
              "      <td>-0.769230</td>\n",
              "      <td>0.205246</td>\n",
              "      <td>-0.747881</td>\n",
              "      <td>1.000000</td>\n",
              "      <td>-0.494588</td>\n",
              "      <td>-0.534432</td>\n",
              "      <td>-0.232471</td>\n",
              "      <td>0.291512</td>\n",
              "      <td>-0.496996</td>\n",
              "    </tr>\n",
              "    <tr>\n",
              "      <th>RAD</th>\n",
              "      <td>0.625505</td>\n",
              "      <td>-0.311948</td>\n",
              "      <td>0.595129</td>\n",
              "      <td>-0.007368</td>\n",
              "      <td>0.611441</td>\n",
              "      <td>-0.209847</td>\n",
              "      <td>0.456022</td>\n",
              "      <td>-0.494588</td>\n",
              "      <td>1.000000</td>\n",
              "      <td>0.910228</td>\n",
              "      <td>0.464741</td>\n",
              "      <td>-0.444413</td>\n",
              "      <td>0.488676</td>\n",
              "    </tr>\n",
              "    <tr>\n",
              "      <th>TAX</th>\n",
              "      <td>0.582764</td>\n",
              "      <td>-0.314563</td>\n",
              "      <td>0.720760</td>\n",
              "      <td>-0.035587</td>\n",
              "      <td>0.668023</td>\n",
              "      <td>-0.292048</td>\n",
              "      <td>0.506456</td>\n",
              "      <td>-0.534432</td>\n",
              "      <td>0.910228</td>\n",
              "      <td>1.000000</td>\n",
              "      <td>0.460853</td>\n",
              "      <td>-0.441808</td>\n",
              "      <td>0.543993</td>\n",
              "    </tr>\n",
              "    <tr>\n",
              "      <th>PTRATIO</th>\n",
              "      <td>0.289946</td>\n",
              "      <td>-0.391679</td>\n",
              "      <td>0.383248</td>\n",
              "      <td>-0.121515</td>\n",
              "      <td>0.188933</td>\n",
              "      <td>-0.355501</td>\n",
              "      <td>0.261515</td>\n",
              "      <td>-0.232471</td>\n",
              "      <td>0.464741</td>\n",
              "      <td>0.460853</td>\n",
              "      <td>1.000000</td>\n",
              "      <td>-0.177383</td>\n",
              "      <td>0.374044</td>\n",
              "    </tr>\n",
              "    <tr>\n",
              "      <th>B</th>\n",
              "      <td>-0.385064</td>\n",
              "      <td>0.175520</td>\n",
              "      <td>-0.356977</td>\n",
              "      <td>0.048788</td>\n",
              "      <td>-0.380051</td>\n",
              "      <td>0.128069</td>\n",
              "      <td>-0.273534</td>\n",
              "      <td>0.291512</td>\n",
              "      <td>-0.444413</td>\n",
              "      <td>-0.441808</td>\n",
              "      <td>-0.177383</td>\n",
              "      <td>1.000000</td>\n",
              "      <td>-0.366087</td>\n",
              "    </tr>\n",
              "    <tr>\n",
              "      <th>LSTAT</th>\n",
              "      <td>0.455621</td>\n",
              "      <td>-0.412995</td>\n",
              "      <td>0.603800</td>\n",
              "      <td>-0.053929</td>\n",
              "      <td>0.590879</td>\n",
              "      <td>-0.613808</td>\n",
              "      <td>0.602339</td>\n",
              "      <td>-0.496996</td>\n",
              "      <td>0.488676</td>\n",
              "      <td>0.543993</td>\n",
              "      <td>0.374044</td>\n",
              "      <td>-0.366087</td>\n",
              "      <td>1.000000</td>\n",
              "    </tr>\n",
              "  </tbody>\n",
              "</table>\n",
              "</div>\n",
              "      <button class=\"colab-df-convert\" onclick=\"convertToInteractive('df-9a1da088-8c48-4c8e-b2f1-7bb622d5c6a9')\"\n",
              "              title=\"Convert this dataframe to an interactive table.\"\n",
              "              style=\"display:none;\">\n",
              "        \n",
              "  <svg xmlns=\"http://www.w3.org/2000/svg\" height=\"24px\"viewBox=\"0 0 24 24\"\n",
              "       width=\"24px\">\n",
              "    <path d=\"M0 0h24v24H0V0z\" fill=\"none\"/>\n",
              "    <path d=\"M18.56 5.44l.94 2.06.94-2.06 2.06-.94-2.06-.94-.94-2.06-.94 2.06-2.06.94zm-11 1L8.5 8.5l.94-2.06 2.06-.94-2.06-.94L8.5 2.5l-.94 2.06-2.06.94zm10 10l.94 2.06.94-2.06 2.06-.94-2.06-.94-.94-2.06-.94 2.06-2.06.94z\"/><path d=\"M17.41 7.96l-1.37-1.37c-.4-.4-.92-.59-1.43-.59-.52 0-1.04.2-1.43.59L10.3 9.45l-7.72 7.72c-.78.78-.78 2.05 0 2.83L4 21.41c.39.39.9.59 1.41.59.51 0 1.02-.2 1.41-.59l7.78-7.78 2.81-2.81c.8-.78.8-2.07 0-2.86zM5.41 20L4 18.59l7.72-7.72 1.47 1.35L5.41 20z\"/>\n",
              "  </svg>\n",
              "      </button>\n",
              "      \n",
              "  <style>\n",
              "    .colab-df-container {\n",
              "      display:flex;\n",
              "      flex-wrap:wrap;\n",
              "      gap: 12px;\n",
              "    }\n",
              "\n",
              "    .colab-df-convert {\n",
              "      background-color: #E8F0FE;\n",
              "      border: none;\n",
              "      border-radius: 50%;\n",
              "      cursor: pointer;\n",
              "      display: none;\n",
              "      fill: #1967D2;\n",
              "      height: 32px;\n",
              "      padding: 0 0 0 0;\n",
              "      width: 32px;\n",
              "    }\n",
              "\n",
              "    .colab-df-convert:hover {\n",
              "      background-color: #E2EBFA;\n",
              "      box-shadow: 0px 1px 2px rgba(60, 64, 67, 0.3), 0px 1px 3px 1px rgba(60, 64, 67, 0.15);\n",
              "      fill: #174EA6;\n",
              "    }\n",
              "\n",
              "    [theme=dark] .colab-df-convert {\n",
              "      background-color: #3B4455;\n",
              "      fill: #D2E3FC;\n",
              "    }\n",
              "\n",
              "    [theme=dark] .colab-df-convert:hover {\n",
              "      background-color: #434B5C;\n",
              "      box-shadow: 0px 1px 3px 1px rgba(0, 0, 0, 0.15);\n",
              "      filter: drop-shadow(0px 1px 2px rgba(0, 0, 0, 0.3));\n",
              "      fill: #FFFFFF;\n",
              "    }\n",
              "  </style>\n",
              "\n",
              "      <script>\n",
              "        const buttonEl =\n",
              "          document.querySelector('#df-9a1da088-8c48-4c8e-b2f1-7bb622d5c6a9 button.colab-df-convert');\n",
              "        buttonEl.style.display =\n",
              "          google.colab.kernel.accessAllowed ? 'block' : 'none';\n",
              "\n",
              "        async function convertToInteractive(key) {\n",
              "          const element = document.querySelector('#df-9a1da088-8c48-4c8e-b2f1-7bb622d5c6a9');\n",
              "          const dataTable =\n",
              "            await google.colab.kernel.invokeFunction('convertToInteractive',\n",
              "                                                     [key], {});\n",
              "          if (!dataTable) return;\n",
              "\n",
              "          const docLinkHtml = 'Like what you see? Visit the ' +\n",
              "            '<a target=\"_blank\" href=https://colab.research.google.com/notebooks/data_table.ipynb>data table notebook</a>'\n",
              "            + ' to learn more about interactive tables.';\n",
              "          element.innerHTML = '';\n",
              "          dataTable['output_type'] = 'display_data';\n",
              "          await google.colab.output.renderOutput(dataTable, element);\n",
              "          const docLink = document.createElement('div');\n",
              "          docLink.innerHTML = docLinkHtml;\n",
              "          element.appendChild(docLink);\n",
              "        }\n",
              "      </script>\n",
              "    </div>\n",
              "  </div>\n",
              "  "
            ]
          },
          "metadata": {},
          "execution_count": 39
        }
      ]
    },
    {
      "cell_type": "code",
      "source": [
        "# Forma gráfica\n",
        "\n",
        "def correlation_matrix(variaveis_explicatorias, obstaculo = 0.0):\n",
        "    CC = np.corrcoef( variaveis_explicatorias, rowvar = 0 )\n",
        "    CC[ np.where( np.abs(CC) < obstaculo ) ] = 0.0\n",
        "    heatmap = plt.pcolormesh( CC, cmap = mpl.cm.ocean, alpha = .9 )\n",
        "    heatmap.axes.set_frame_on( False )\n",
        "    heatmap.axes.set_yticks( np.arange( CC.shape[0] ) + 0.5)\n",
        "    heatmap.axes.set_xticks( np.arange( CC.shape[1] ) + 0.5)\n",
        "    heatmap.axes.set_xticklabels( df.columns[:-1] )\n",
        "    plt.xticks( rotation = 60 )\n",
        "    heatmap.axes.set_yticklabels( df.columns[:-1] )\n",
        "    plt.colorbar()\n",
        "    plt.show()\n",
        "\n",
        "correlation_matrix(X, obstaculo = 0.5)    "
      ],
      "metadata": {
        "colab": {
          "base_uri": "https://localhost:8080/",
          "height": 300
        },
        "id": "3dpWH1svPVZM",
        "outputId": "a737f15f-ba64-4422-a9aa-fd79b1e1c965"
      },
      "execution_count": 40,
      "outputs": [
        {
          "output_type": "display_data",
          "data": {
            "text/plain": [
              "<Figure size 432x288 with 2 Axes>"
            ],
            "image/png": "[encoded data removed]"
          },
          "metadata": {
            "needs_background": "light"
          }
        }
      ]
    },
    {
      "cell_type": "code",
      "source": [
        "# Correlação entre as variáveis graficamente com seaborn\n",
        "import seaborn as sns\n",
        "\n",
        "plt.figure( figsize = (10,10) )\n",
        "sns.heatmap( matriz_correlacao.round(2), annot = True )"
      ],
      "metadata": {
        "colab": {
          "base_uri": "https://localhost:8080/",
          "height": 612
        },
        "id": "6OGLmMPWO4cH",
        "outputId": "5f1bd4a7-55a7-4aee-ee2d-45089e97e06b"
      },
      "execution_count": 41,
      "outputs": [
        {
          "output_type": "execute_result",
          "data": {
            "text/plain": [
              "<matplotlib.axes._subplots.AxesSubplot at 0x7ff118de0af0>"
            ]
          },
          "metadata": {},
          "execution_count": 41
        },
        {
          "output_type": "display_data",
          "data": {
            "text/plain": [
              "<Figure size 720x720 with 2 Axes>"
            ],
            "image/png": "[encoded data removed]"
          },
          "metadata": {
            "needs_background": "light"
          }
        }
      ]
    },
    {
      "cell_type": "markdown",
      "source": [
        "O que nos mostra uma forte correlação entre 'AGE' e 'DIS', por exemplo, e ainda maior entre 'RAD' e 'TAX' [cerca de 0.91], o que faz sentido, já que quão mais próximo de uma rodovia uma casa está, mais cara e portanto, maior a taxa de impostos.\n",
        "\n",
        "Nestes casos devemos prestar atenção à multicolinearidade, que pode deixar o modelo tendencioso."
      ],
      "metadata": {
        "id": "jXnOnZiWUdG9"
      }
    },
    {
      "cell_type": "markdown",
      "source": [
        "---\n",
        "<h3> Engenvaluese Eigenvectors</h3> (traduz.: autovalores e autovetores)\n",
        "\n",
        "Vídeo explicativo ritikmath: https://www.youtube.com/watch?v=glaiP222JWA&ab_channel=ritvikmath\n",
        "\n",
        "\n",
        "Os autovetores são uma maneira de recombinar a variância entre as variáveis, criando novos recursos acumulando a variância compartilhada (usada em PCA).\n",
        "\n",
        "Ou seja, os **autovalores** representam a quantidade de variância recombinada para cada nova variável e os **autovetores** tratam de matriz que dizem como essas novas variáveis se relacionam com as antigas. Isso é útil para verificar se há multicolinearidade."
      ],
      "metadata": {
        "id": "vrgURnXKVvEJ"
      }
    },
    {
      "cell_type": "markdown",
      "source": [
        "Autovetores com python"
      ],
      "metadata": {
        "id": "plZunCUfYL4y"
      }
    },
    {
      "cell_type": "code",
      "source": [
        "# Calculando os coeficientes de correlação\n",
        "corr = np.corrcoef( X, rowvar = False )\n",
        "\n",
        "# Gerando autovalores e autovetores\n",
        "eigenvalues, eigenvectors = np.linalg.eig( corr )"
      ],
      "metadata": {
        "id": "6ENoyeZfYKs8"
      },
      "execution_count": 42,
      "outputs": []
    },
    {
      "cell_type": "markdown",
      "source": [
        "Obs: valores próximos de zero ou pequenos comparando-se com os outros valores podem representar um problema para equações normais ou métodos de otimização que se baseiam em inversão matricial."
      ],
      "metadata": {
        "id": "-uSFl4sBYvn5"
      }
    },
    {
      "cell_type": "code",
      "source": [
        "# Representação total das variáveis\n",
        "print( eigenvalues )"
      ],
      "metadata": {
        "colab": {
          "base_uri": "https://localhost:8080/"
        },
        "id": "ij8xG636ZFms",
        "outputId": "73bf4676-4652-456a-f756-e440b24f23ed"
      },
      "execution_count": 43,
      "outputs": [
        {
          "output_type": "stream",
          "name": "stdout",
          "text": [
            "[6.12684883 1.43327512 1.24261667 0.85757511 0.83481594 0.65740718\n",
            " 0.53535609 0.39609731 0.06350926 0.27694333 0.16930298 0.18601437\n",
            " 0.22023782]\n"
          ]
        }
      ]
    },
    {
      "cell_type": "code",
      "source": [
        "# Como o menor valor está na posição 8, buscamos por esta posição no autovetor\n",
        "print( eigenvectors[:,8] )"
      ],
      "metadata": {
        "colab": {
          "base_uri": "https://localhost:8080/"
        },
        "id": "idj5Ko8paALZ",
        "outputId": "b85388db-ab2f-46dc-df60-8752876fa23c"
      },
      "execution_count": 44,
      "outputs": [
        {
          "output_type": "stream",
          "name": "stdout",
          "text": [
            "[-0.0459523   0.08091897  0.25107654 -0.03592171 -0.04363045 -0.0455671\n",
            "  0.03855068  0.01829854  0.63348972 -0.72023345 -0.02339805  0.00446307\n",
            " -0.02443168]\n"
          ]
        }
      ]
    },
    {
      "cell_type": "code",
      "source": [
        "# Por fim, buscamos quais são as variáveis que mais contribuem com seus valores\n",
        "# para construir o autovetor (maiores valores no autovetor)\n",
        "\n",
        "X_var = df.columns[:-1]\n",
        "\n",
        "print( X_var[2], X_var[8], X_var[9] )"
      ],
      "metadata": {
        "colab": {
          "base_uri": "https://localhost:8080/"
        },
        "id": "brlmBs5jav7P",
        "outputId": "20ab15f4-4128-43a9-aab7-0627491f6461"
      },
      "execution_count": 45,
      "outputs": [
        {
          "output_type": "stream",
          "name": "stdout",
          "text": [
            "INDUS RAD TAX\n"
          ]
        }
      ]
    },
    {
      "cell_type": "markdown",
      "source": [
        "Com isso, devemos pensar sobre o que fazer com essas variáveis, por exemplo, removê-las."
      ],
      "metadata": {
        "id": "2dG-tkaKbVYi"
      }
    },
    {
      "cell_type": "markdown",
      "source": [
        "---\n",
        "Implementando o Gradient Descent com regressão linear múltipla"
      ],
      "metadata": {
        "id": "U6fbsc_rCn5N"
      }
    },
    {
      "cell_type": "code",
      "source": [
        "df_vars = df.columns\n",
        "X = df.iloc[:,:-1]"
      ],
      "metadata": {
        "id": "20nOsIBACur5"
      },
      "execution_count": 47,
      "outputs": []
    },
    {
      "cell_type": "markdown",
      "source": [
        "<h4>Refazendo a escala dos dados (Feature Scaling)</h4>\n",
        "\n",
        "Como agora trabalhamos com mais variáveis, precisamos realizar o processo de **padronização** (busca a variância dividingo a médio pelo desvio padrão) ou **normalização** (escala os dados de 0 até 1)"
      ],
      "metadata": {
        "id": "OO7QXBGZDIKz"
      }
    },
    {
      "cell_type": "code",
      "source": [
        "# Realizando a padronização com StandarScaler\n",
        "from sklearn.preprocessing import StandardScaler\n",
        "\n",
        "standard_object = StandardScaler()\n",
        "df_scaled = standard_object.fit_transform( X )"
      ],
      "metadata": {
        "id": "VXuGPdjWDwtA"
      },
      "execution_count": 48,
      "outputs": []
    },
    {
      "cell_type": "markdown",
      "source": [
        "É possível verificar as medias e escalas utilizadas com: <br>\n",
        "```python\n",
        "standard_object.mean_\n",
        "standard_object.scale_\n",
        "```\n",
        "E para retornar os coeficientes em ordem de importância: <br>\n",
        "`model.coef_`"
      ],
      "metadata": {
        "id": "APRfXDPEJBYy"
      }
    },
    {
      "cell_type": "code",
      "source": [
        "# Gerando o novo X padronizado e y\n",
        "df_var_names = df.columns\n",
        "X_scaled = np.column_stack(( df_scaled, np.ones(len(df)) ))\n",
        "y = df['TARGET'].values"
      ],
      "metadata": {
        "id": "vMH49IAHE3Cp"
      },
      "execution_count": 70,
      "outputs": []
    },
    {
      "cell_type": "markdown",
      "source": [
        "Reutilizando as funções anteriormente criadas"
      ],
      "metadata": {
        "id": "Vwl0RX3nJklI"
      }
    },
    {
      "cell_type": "code",
      "source": [
        "# Random init\n",
        "import random\n",
        "def rand_init( w ):\n",
        "  return np.array( [np.random.normal() for peso in range(w)] )\n",
        "\n",
        "# Valores aproximados para X e y\n",
        "def hypothesis( X, w ):\n",
        "  return np.dot( X, w )\n",
        "\n",
        "# Lost function\n",
        "def loss_func( X, w, y ):\n",
        "  return hypothesis( X, w ) - y\n",
        "\n",
        "# Squared Loss\n",
        "def squared_loss( X, w, y ):\n",
        "  return loss_func( X, w, y ) ** 2\n",
        "\n",
        "# Cálculo gradient\n",
        "def gradient( X, w, y ):\n",
        "  gradients = list()\n",
        "  for peso in range( len(w) ):\n",
        "    gradients.append( np.sum( loss_func( X, w, y ) * X[:, peso] ) / float(len(y)) )\n",
        "  return gradients\n",
        "\n",
        "# Update dos coeficientes\n",
        "def update(X,w,y, alpha = 0.01):\n",
        "    return [t - alpha*g for t, g in zip(w, gradient(X,w,y))]\n",
        "\n",
        "# Otimização do modelo\n",
        "def optimize( X, y, alpha = 0.01, eta = 10 ** -12, iterations = 1000 ):\n",
        "    w = rand_init( X.shape[1] )\n",
        "    path = list()\n",
        "    for k in range(iterations):\n",
        "        SSL = np.sum( squared_loss( X, w, y ) )\n",
        "        new_w = update( X, w, y, alpha = alpha )\n",
        "        new_SSL = np.sum( squared_loss( X, new_w, y ) )\n",
        "        w = new_w\n",
        "        if k >= 5 and ( new_SSL - SSL <= eta and new_SSL - SSL >= -eta ):\n",
        "            path.append(new_SSL)\n",
        "            return w, path\n",
        "        if k % ( iterations / 20 ) == 0:\n",
        "            path.append( new_SSL )\n",
        "    return w, path"
      ],
      "metadata": {
        "id": "YkpD-o7JJo_8"
      },
      "execution_count": 54,
      "outputs": []
    },
    {
      "cell_type": "code",
      "source": [
        "# Resultado da otimização\n",
        "alpha = 0.005\n",
        "\n",
        "# Otimizando a Cost Function\n",
        "w, path = optimize( X_scaled, y, alpha, eta = 10**-12, iterations = 50000 )\n",
        "\n",
        "# Imprimindo o resultado\n",
        "print(f'Valor dos Coeficientes ao final do treino {w}')"
      ],
      "metadata": {
        "colab": {
          "base_uri": "https://localhost:8080/"
        },
        "id": "3rqPVabVJchu",
        "outputId": "2c0747d6-03a4-4e27-bd6d-fc81b648dfd5"
      },
      "execution_count": 67,
      "outputs": [
        {
          "output_type": "stream",
          "name": "stdout",
          "text": [
            "Valor dos Coeficientes ao final do treino [-0.9281454319454352, 1.0815675142856482, 0.14089654180670452, 0.6817402191012749, -2.0567176656007145, 2.674230792294195, 0.019465541155950932, -3.104044509894969, 2.6622089249375853, -2.0767717726154533, -2.060606336923027, 0.8492683562884025, -3.7436267902595524, 22.53280632411033]\n"
          ]
        }
      ]
    },
    {
      "cell_type": "code",
      "source": [
        "# Rescaling\n",
        "\n",
        "df_explanatory_trained_coef = w[:-1]\n",
        "\n",
        "betas_rescaled = df_explanatory_trained_coef / standard_object.scale_\n",
        "vies_rescaled = df_explanatory_trained_coef - np.sum( ( standard_object.mean_ / standard_object.scale_ ) * df_explanatory_trained_coef )"
      ],
      "metadata": {
        "id": "pDgPaBfTNyKx"
      },
      "execution_count": 69,
      "outputs": []
    },
    {
      "cell_type": "code",
      "source": [
        "# Mostrando os betas finais para cada variável\n",
        "\n",
        "# Printando cada variável do df e mostrando seu respectivo beta (Coeficiente) final\n",
        "for beta, variable_name in zip(betas_rescaled, df_var_names):\n",
        "  print(f'Variable name: {variable_name:9s}, Beta: {beta:.3f}')"
      ],
      "metadata": {
        "colab": {
          "base_uri": "https://localhost:8080/"
        },
        "id": "zySBt83ZO9aV",
        "outputId": "74d7c26e-49be-4854-8286-75e3ef46c364"
      },
      "execution_count": 76,
      "outputs": [
        {
          "output_type": "stream",
          "name": "stdout",
          "text": [
            "Variable name: CRIM     , Beta: -0.108\n",
            "Variable name: ZN       , Beta: 0.046\n",
            "Variable name: INDUS    , Beta: 0.021\n",
            "Variable name: CHAS     , Beta: 2.687\n",
            "Variable name: NOX      , Beta: -17.767\n",
            "Variable name: RM       , Beta: 3.810\n",
            "Variable name: AGE      , Beta: 0.001\n",
            "Variable name: DIS      , Beta: -1.476\n",
            "Variable name: RAD      , Beta: 0.306\n",
            "Variable name: TAX      , Beta: -0.012\n",
            "Variable name: PTRATIO  , Beta: -0.953\n",
            "Variable name: B        , Beta: 0.009\n",
            "Variable name: LSTAT    , Beta: -0.525\n"
          ]
        }
      ]
    },
    {
      "cell_type": "markdown",
      "source": [
        "---\n",
        "Visto o trabalho feito até o momento, devemos então identificar quais são as variáveis importantes para o modelo.\n",
        "\n",
        "Vejamos quais são as variáveis importantes após fazermos a padronização delas."
      ],
      "metadata": {
        "id": "Cs1ITfNUShQ4"
      }
    },
    {
      "cell_type": "code",
      "source": [
        "# Dados\n",
        "X = df.iloc[:, 0:-1]\n",
        "y = df['TARGET'].values\n",
        "\n",
        "# Criação do modelo\n",
        "from sklearn import linear_model\n",
        "reg_model = linear_model.LinearRegression( fit_intercept = True )\n",
        "\n",
        "# Padronização dos dados\n",
        "from sklearn.preprocessing import StandardScaler\n",
        "standard_object = StandardScaler()\n",
        "\n",
        "# Passando os objetos para o pipeline para serem padronizados\n",
        "from sklearn.pipeline import make_pipeline\n",
        "linear_reg_beta_padronizado = make_pipeline( standard_object, reg_model )\n",
        "\n",
        "# Treinamento do modelo padronizando os dados\n",
        "linear_reg_beta_padronizado.fit( X, y )\n",
        "\n",
        "# Mostrando os betas (coeficientes) finais para as variáveis\n",
        "for beta, variable in sorted( zip( linear_reg_beta_padronizado.steps[1][1].coef_, df_var_names ) ):\n",
        "  print(f'{variable:9s} = {abs(beta):.2f}')"
      ],
      "metadata": {
        "colab": {
          "base_uri": "https://localhost:8080/"
        },
        "id": "LiKPQbd0VCjS",
        "outputId": "5903767c-7bd6-4c8e-c945-87f3af366c21"
      },
      "execution_count": 85,
      "outputs": [
        {
          "output_type": "stream",
          "name": "stdout",
          "text": [
            "LSTAT     = 3.74\n",
            "DIS       = 3.10\n",
            "TAX       = 2.08\n",
            "PTRATIO   = 2.06\n",
            "NOX       = 2.06\n",
            "CRIM      = 0.93\n",
            "AGE       = 0.02\n",
            "INDUS     = 0.14\n",
            "CHAS      = 0.68\n",
            "B         = 0.85\n",
            "ZN        = 1.08\n",
            "RAD       = 2.66\n",
            "RM        = 2.67\n"
          ]
        }
      ]
    },
    {
      "cell_type": "markdown",
      "source": [
        "Verificando a explicabilidade das variáveis usando R²"
      ],
      "metadata": {
        "id": "55xR36vvZYs2"
      }
    },
    {
      "cell_type": "code",
      "source": [
        "from sklearn.metrics import r2_score\n",
        "\n",
        "# Passando o valor observado original (y) e as previsões do treinamento (fit(X,y)) vs as previsões do modelo (X)\n",
        "r2_score( y, reg_model.fit( X, y ).predict( X ) )"
      ],
      "metadata": {
        "colab": {
          "base_uri": "https://localhost:8080/"
        },
        "id": "W-DIU_FMZgiA",
        "outputId": "143d3f16-f9af-45da-f0bc-07223d1b9dfc"
      },
      "execution_count": 87,
      "outputs": [
        {
          "output_type": "execute_result",
          "data": {
            "text/plain": [
              "0.7406426641094095"
            ]
          },
          "metadata": {},
          "execution_count": 87
        }
      ]
    },
    {
      "cell_type": "markdown",
      "source": [
        "Verificando a explicabilidade de cada variável individualmente com R²"
      ],
      "metadata": {
        "id": "u2E34p1OarOB"
      }
    },
    {
      "cell_type": "code",
      "source": [
        "r2_variables_df = []\n",
        "\n",
        "# Função para calcular o R²\n",
        "def r2( X, y, model_name ):\n",
        "    return r2_score( y, model_name.fit( X,y ).predict( X ) )\n",
        "\n",
        "num_variables_df = len(X.columns) # 13\n",
        "\n",
        "for i in range( num_variables_df ):\n",
        "  aux = [cont for cont in range( num_variables_df ) if cont != i]\n",
        "\n",
        "  r2_variables_df.append((( r2( X, y, reg_model ) - r2( X.values[:, aux], y, reg_model ) ), df.columns[i] ) )\n",
        "\n",
        "for beta, variable_name in sorted( r2_variables_df, reverse =  True ):\n",
        "  print( f'{variable_name:9s} = {beta:.3f}' )"
      ],
      "metadata": {
        "colab": {
          "base_uri": "https://localhost:8080/"
        },
        "id": "GkA1kVRQauxO",
        "outputId": "6bcb38ca-7ff9-4966-ca89-8fd3106e28ba"
      },
      "execution_count": 96,
      "outputs": [
        {
          "output_type": "stream",
          "name": "stdout",
          "text": [
            "LSTAT     = 0.056\n",
            "RM        = 0.044\n",
            "DIS       = 0.029\n",
            "PTRATIO   = 0.028\n",
            "NOX       = 0.011\n",
            "RAD       = 0.011\n",
            "B         = 0.006\n",
            "ZN        = 0.006\n",
            "CRIM      = 0.006\n",
            "TAX       = 0.006\n",
            "CHAS      = 0.005\n",
            "INDUS     = 0.000\n",
            "AGE       = 0.000\n"
          ]
        }
      ]
    },
    {
      "cell_type": "markdown",
      "source": [
        "Ou seja, a variável 'LSTAT' explica o modelo em 5,6%, a variável 'CRIM' explica 0.6%' ..."
      ],
      "metadata": {
        "id": "1mNkIuVZeaZW"
      }
    },
    {
      "cell_type": "markdown",
      "source": [
        "---\n",
        "Realizando a previsão com Regressão Linear Múltipla utilizando as 4 variáveis mais relevantes segundo o ranking feito acima"
      ],
      "metadata": {
        "id": "6QzKeJ09ey_n"
      }
    },
    {
      "cell_type": "code",
      "source": [
        "# Atribuindo as variáveis mais importantes à X_new\n",
        "X_new = df[['RM', 'DIS', 'PTRATIO', 'LSTAT']]\n",
        "y = df['TARGET'].values\n",
        "\n",
        "X_new.sample(5)"
      ],
      "metadata": {
        "colab": {
          "base_uri": "https://localhost:8080/",
          "height": 206
        },
        "id": "7wXHSO00fuPY",
        "outputId": "56097de8-f3e9-4a19-c430-df0b9ab48581"
      },
      "execution_count": 99,
      "outputs": [
        {
          "output_type": "execute_result",
          "data": {
            "text/plain": [
              "        RM     DIS  PTRATIO  LSTAT\n",
              "200  7.135  7.6534     17.0   4.45\n",
              "300  6.871  7.8278     14.8   6.07\n",
              "7    6.172  5.9505     15.2  19.15\n",
              "64   7.104  9.2229     18.6   8.05\n",
              "485  6.312  3.9917     20.2  10.58"
            ],
            "text/html": [
              "\n",
              "  <div id=\"df-fa7619e5-890d-41fa-b411-515b1a2e7faf\">\n",
              "    <div class=\"colab-df-container\">\n",
              "      <div>\n",
              "<style scoped>\n",
              "    .dataframe tbody tr th:only-of-type {\n",
              "        vertical-align: middle;\n",
              "    }\n",
              "\n",
              "    .dataframe tbody tr th {\n",
              "        vertical-align: top;\n",
              "    }\n",
              "\n",
              "    .dataframe thead th {\n",
              "        text-align: right;\n",
              "    }\n",
              "</style>\n",
              "<table border=\"1\" class=\"dataframe\">\n",
              "  <thead>\n",
              "    <tr style=\"text-align: right;\">\n",
              "      <th></th>\n",
              "      <th>RM</th>\n",
              "      <th>DIS</th>\n",
              "      <th>PTRATIO</th>\n",
              "      <th>LSTAT</th>\n",
              "    </tr>\n",
              "  </thead>\n",
              "  <tbody>\n",
              "    <tr>\n",
              "      <th>200</th>\n",
              "      <td>7.135</td>\n",
              "      <td>7.6534</td>\n",
              "      <td>17.0</td>\n",
              "      <td>4.45</td>\n",
              "    </tr>\n",
              "    <tr>\n",
              "      <th>300</th>\n",
              "      <td>6.871</td>\n",
              "      <td>7.8278</td>\n",
              "      <td>14.8</td>\n",
              "      <td>6.07</td>\n",
              "    </tr>\n",
              "    <tr>\n",
              "      <th>7</th>\n",
              "      <td>6.172</td>\n",
              "      <td>5.9505</td>\n",
              "      <td>15.2</td>\n",
              "      <td>19.15</td>\n",
              "    </tr>\n",
              "    <tr>\n",
              "      <th>64</th>\n",
              "      <td>7.104</td>\n",
              "      <td>9.2229</td>\n",
              "      <td>18.6</td>\n",
              "      <td>8.05</td>\n",
              "    </tr>\n",
              "    <tr>\n",
              "      <th>485</th>\n",
              "      <td>6.312</td>\n",
              "      <td>3.9917</td>\n",
              "      <td>20.2</td>\n",
              "      <td>10.58</td>\n",
              "    </tr>\n",
              "  </tbody>\n",
              "</table>\n",
              "</div>\n",
              "      <button class=\"colab-df-convert\" onclick=\"convertToInteractive('df-fa7619e5-890d-41fa-b411-515b1a2e7faf')\"\n",
              "              title=\"Convert this dataframe to an interactive table.\"\n",
              "              style=\"display:none;\">\n",
              "        \n",
              "  <svg xmlns=\"http://www.w3.org/2000/svg\" height=\"24px\"viewBox=\"0 0 24 24\"\n",
              "       width=\"24px\">\n",
              "    <path d=\"M0 0h24v24H0V0z\" fill=\"none\"/>\n",
              "    <path d=\"M18.56 5.44l.94 2.06.94-2.06 2.06-.94-2.06-.94-.94-2.06-.94 2.06-2.06.94zm-11 1L8.5 8.5l.94-2.06 2.06-.94-2.06-.94L8.5 2.5l-.94 2.06-2.06.94zm10 10l.94 2.06.94-2.06 2.06-.94-2.06-.94-.94-2.06-.94 2.06-2.06.94z\"/><path d=\"M17.41 7.96l-1.37-1.37c-.4-.4-.92-.59-1.43-.59-.52 0-1.04.2-1.43.59L10.3 9.45l-7.72 7.72c-.78.78-.78 2.05 0 2.83L4 21.41c.39.39.9.59 1.41.59.51 0 1.02-.2 1.41-.59l7.78-7.78 2.81-2.81c.8-.78.8-2.07 0-2.86zM5.41 20L4 18.59l7.72-7.72 1.47 1.35L5.41 20z\"/>\n",
              "  </svg>\n",
              "      </button>\n",
              "      \n",
              "  <style>\n",
              "    .colab-df-container {\n",
              "      display:flex;\n",
              "      flex-wrap:wrap;\n",
              "      gap: 12px;\n",
              "    }\n",
              "\n",
              "    .colab-df-convert {\n",
              "      background-color: #E8F0FE;\n",
              "      border: none;\n",
              "      border-radius: 50%;\n",
              "      cursor: pointer;\n",
              "      display: none;\n",
              "      fill: #1967D2;\n",
              "      height: 32px;\n",
              "      padding: 0 0 0 0;\n",
              "      width: 32px;\n",
              "    }\n",
              "\n",
              "    .colab-df-convert:hover {\n",
              "      background-color: #E2EBFA;\n",
              "      box-shadow: 0px 1px 2px rgba(60, 64, 67, 0.3), 0px 1px 3px 1px rgba(60, 64, 67, 0.15);\n",
              "      fill: #174EA6;\n",
              "    }\n",
              "\n",
              "    [theme=dark] .colab-df-convert {\n",
              "      background-color: #3B4455;\n",
              "      fill: #D2E3FC;\n",
              "    }\n",
              "\n",
              "    [theme=dark] .colab-df-convert:hover {\n",
              "      background-color: #434B5C;\n",
              "      box-shadow: 0px 1px 3px 1px rgba(0, 0, 0, 0.15);\n",
              "      filter: drop-shadow(0px 1px 2px rgba(0, 0, 0, 0.3));\n",
              "      fill: #FFFFFF;\n",
              "    }\n",
              "  </style>\n",
              "\n",
              "      <script>\n",
              "        const buttonEl =\n",
              "          document.querySelector('#df-fa7619e5-890d-41fa-b411-515b1a2e7faf button.colab-df-convert');\n",
              "        buttonEl.style.display =\n",
              "          google.colab.kernel.accessAllowed ? 'block' : 'none';\n",
              "\n",
              "        async function convertToInteractive(key) {\n",
              "          const element = document.querySelector('#df-fa7619e5-890d-41fa-b411-515b1a2e7faf');\n",
              "          const dataTable =\n",
              "            await google.colab.kernel.invokeFunction('convertToInteractive',\n",
              "                                                     [key], {});\n",
              "          if (!dataTable) return;\n",
              "\n",
              "          const docLinkHtml = 'Like what you see? Visit the ' +\n",
              "            '<a target=\"_blank\" href=https://colab.research.google.com/notebooks/data_table.ipynb>data table notebook</a>'\n",
              "            + ' to learn more about interactive tables.';\n",
              "          element.innerHTML = '';\n",
              "          dataTable['output_type'] = 'display_data';\n",
              "          await google.colab.output.renderOutput(dataTable, element);\n",
              "          const docLink = document.createElement('div');\n",
              "          docLink.innerHTML = docLinkHtml;\n",
              "          element.appendChild(docLink);\n",
              "        }\n",
              "      </script>\n",
              "    </div>\n",
              "  </div>\n",
              "  "
            ]
          },
          "metadata": {},
          "execution_count": 99
        }
      ]
    },
    {
      "cell_type": "code",
      "source": [
        "# Divisão treino/teste\n",
        "from sklearn.model_selection import train_test_split\n",
        "X_train, X_test, y_train, y_test = train_test_split( X_new, y, test_size = 0.3, random_state = 42 )\n",
        "\n",
        "# Criação do modelo\n",
        "model_reg_lin = linear_model.LinearRegression( fit_intercept = True, normalize = False )\n",
        "\n",
        "# Treinamento do modelo\n",
        "model_reg_lin_fit = model_reg_lin.fit( X_train, y_train )"
      ],
      "metadata": {
        "id": "JDOmpOx0gLS_"
      },
      "execution_count": 103,
      "outputs": []
    },
    {
      "cell_type": "code",
      "source": [
        "# Calculo da métrica R2 (explicabilidade do modelo com estas variáveis)\n",
        "r2_score( y_test, model_reg_lin_fit.fit( X_train, y_train ).predict( X_test ) )"
      ],
      "metadata": {
        "colab": {
          "base_uri": "https://localhost:8080/"
        },
        "id": "KsJDe9DHhKac",
        "outputId": "40ca228e-0e44-480d-9c95-7ed6d5581dc8"
      },
      "execution_count": 105,
      "outputs": [
        {
          "output_type": "execute_result",
          "data": {
            "text/plain": [
              "0.661383670138217"
            ]
          },
          "metadata": {},
          "execution_count": 105
        }
      ]
    },
    {
      "cell_type": "markdown",
      "source": [
        "Obs: Mesmo com um R2 menor que o modelo com todas as variáveis, o modelo com todas elas pode estar tendencioso!"
      ],
      "metadata": {
        "id": "TgLo3gpJkmSa"
      }
    },
    {
      "cell_type": "markdown",
      "source": [
        "Colocando novos valores (neste caso utilizando a parte inteira da média) para ver o resultado de previsão do nosso modelo"
      ],
      "metadata": {
        "id": "nE7FRy3AlGrf"
      }
    },
    {
      "cell_type": "code",
      "source": [
        "RM      = int( np.mean( df.RM ) )\n",
        "DIS     = int( np.mean( df.DIS ) )\n",
        "PTRATIO = int( np.mean( df.PTRATIO ) )\n",
        "LSTAT   = int( np.mean( df.LSTAT ) )\n",
        "\n",
        "new_house_atributes = [RM, DIS, PTRATIO, LSTAT]\n",
        "\n",
        "# Formatando na dimensão correta para o sk learn\n",
        "new_house = np.array( new_house_atributes ).reshape(1,-1)\n",
        "\n",
        "# Prevendo\n",
        "print(f'Média da taxa de ocupação (em $1000s): {model_reg_lin_fit.predict( new_house )}')"
      ],
      "metadata": {
        "colab": {
          "base_uri": "https://localhost:8080/"
        },
        "id": "7q6cnhrCli3U",
        "outputId": "41f10b6e-06f1-4fb1-be19-08c2854a1742"
      },
      "execution_count": 111,
      "outputs": [
        {
          "output_type": "stream",
          "name": "stdout",
          "text": [
            "Média da taxa de ocupação (em $1000s): [22.61114606]\n"
          ]
        }
      ]
    }
  ]
}